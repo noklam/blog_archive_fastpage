{
 "cells": [
  {
   "cell_type": "markdown",
   "id": "initial-yahoo",
   "metadata": {},
   "source": [
    "# deepcopy, LGBM and pickle\n",
    "> At first sight, these 3 things may not sounds related at all. I am writing this article to share a bug with lightgbm that I encountered and it eventually leads to deeper understanding of what `pickle` really are.\n",
    "\n",
    "\n",
    "- toc: true \n",
    "- badges: true\n",
    "- comments: true\n",
    "- author: noklam\n",
    "- categories: [\"python\", \"pickle\", \"deepcopy\"]\n"
   ]
  },
  {
   "cell_type": "markdown",
   "id": "stock-modification",
   "metadata": {},
   "source": [
    "To start with, let's look at some code to get some context."
   ]
  },
  {
   "cell_type": "markdown",
   "id": "frank-douglas",
   "metadata": {},
   "source": [
    "## deepcopy or no copy?"
   ]
  },
  {
   "cell_type": "code",
   "execution_count": 6,
   "id": "binding-doctor",
   "metadata": {},
   "outputs": [
    {
     "name": "stdout",
     "output_type": "stream",
     "text": [
      "Parameters of the model:  {'objective': 'regression', 'verbose': -1, 'num_leaves': 3, 'num_iterations': 1, 'early_stopping_round': None}\n"
     ]
    }
   ],
   "source": [
    "import pandas as pd\n",
    "import numpy as np\n",
    "import lightgbm as lgb\n",
    "from copy import deepcopy\n",
    "\n",
    "params = {\n",
    "'objective': 'regression',\n",
    "'verbose': -1,\n",
    "'num_leaves': 3\n",
    "}\n",
    "\n",
    "X = np.random.rand(100,2)\n",
    "Y = np.ravel(np.random.rand(100,1))\n",
    "lgbm = lgb.train(params, lgb.Dataset(X,label=Y),num_boost_round=1)\n",
    "print(\"Parameters of the model: \", lgbm.params)"
   ]
  },
  {
   "cell_type": "code",
   "execution_count": 7,
   "id": "polish-advisory",
   "metadata": {},
   "outputs": [
    {
     "name": "stdout",
     "output_type": "stream",
     "text": [
      "Finished loading model, total used 1 iterations\n"
     ]
    }
   ],
   "source": [
    "## Deep copy will missing params\n",
    "new_model = deepcopy(lgbm)"
   ]
  },
  {
   "cell_type": "markdown",
   "id": "alert-hacker",
   "metadata": {},
   "source": [
    "You would expect `new_model.parameters` return the same dict right? Not quite."
   ]
  },
  {
   "cell_type": "code",
   "execution_count": 8,
   "id": "serious-stuart",
   "metadata": {},
   "outputs": [
    {
     "name": "stdout",
     "output_type": "stream",
     "text": [
      "Parameters of the copied model:  {}\n"
     ]
    }
   ],
   "source": [
    "print(\"Parameters of the copied model: \", new_model.params)"
   ]
  },
  {
   "cell_type": "markdown",
   "id": "interstate-foundation",
   "metadata": {},
   "source": [
    "Surprise, surprise. It's an empty dict, where did the parameters go? To dive deep into the issue, let's have a look at the source code of `deepcopy` to understand how does it work.\n",
    "\n",
    "reference: https://github.com/python/cpython/blob/e8e341993e3f80a3c456fb8e0219530c93c13151/Lib/copy.py#L128"
   ]
  },
  {
   "cell_type": "markdown",
   "id": "included-clearance",
   "metadata": {},
   "source": [
    "```python\n",
    "def deepcopy(x, memo=None, _nil=[]):\n",
    "    \"\"\"Deep copy operation on arbitrary Python objects.\n",
    "    See the module's __doc__ string for more info.\n",
    "    \"\"\"\n",
    "\n",
    "    ... # skip some irrelevant code  \n",
    "\n",
    "    cls = type(x)\n",
    "\n",
    "    copier = _deepcopy_dispatch.get(cls)\n",
    "    if copier is not None:\n",
    "        y = copier(x, memo)\n",
    "    else:\n",
    "        if issubclass(cls, type):\n",
    "            y = _deepcopy_atomic(x, memo)\n",
    "        else:\n",
    "            copier = getattr(x, \"__deepcopy__\", None)\n",
    "            if copier is not None:\n",
    "                y = copier(memo)\n",
    "            else:\n",
    "                ... # skip irrelevant code\n",
    "\n",
    "    # If is its own copy, don't memoize.\n",
    "    if y is not x:\n",
    "        memo[d] = y\n",
    "        _keep_alive(x, memo) # Make sure x lives at least as long as d\n",
    "    return y\n",
    "```"
   ]
  },
  {
   "cell_type": "markdown",
   "id": "liberal-election",
   "metadata": {},
   "source": [
    "In particular, line 17 is what we care.  \n",
    "`copier = getattr(x, \"__deepcopy__\", None)`  \n"
   ]
  },
  {
   "cell_type": "markdown",
   "id": "productive-phenomenon",
   "metadata": {},
   "source": [
    "If a particular class has implement the `__deepcopy__` method, `deepcopy` will try to invoke that instead of the standard copy. The following dummy class should illustrate this clearly."
   ]
  },
  {
   "cell_type": "code",
   "execution_count": 15,
   "id": "identical-tongue",
   "metadata": {},
   "outputs": [],
   "source": [
    "class DummyClass():\n",
    "    def __deepcopy__(self, _):\n",
    "        print('Just hanging around and not copying.')"
   ]
  },
  {
   "cell_type": "code",
   "execution_count": 16,
   "id": "sexual-denmark",
   "metadata": {},
   "outputs": [
    {
     "name": "stdout",
     "output_type": "stream",
     "text": [
      "Just hanging around and not copying.\n"
     ]
    }
   ],
   "source": [
    "o = DummyClass()\n",
    "deepcopy(o)"
   ]
  },
  {
   "cell_type": "markdown",
   "id": "allied-theme",
   "metadata": {},
   "source": [
    "a lightgbm model is actually a `Booster` object and implement its own `__deepcopy__`. It only copy the model string but nothing else, this explains why `deepcopy(lgbm).paramters` is an empty dictionary.\n",
    "\n",
    "```python\n",
    " def __deepcopy__(self, _): \n",
    "     model_str = self.model_to_string(num_iteration=-1) \n",
    "     booster = Booster(model_str=model_str) \n",
    "     return booster \n",
    "```\n",
    "\n",
    "\n",
    "Reference: https://github.com/microsoft/LightGBM/blob/d6ebd063fff7ff9ed557c3f2bcacc8f9456583e6/python-package/lightgbm/basic.py#L2279-L2282"
   ]
  },
  {
   "cell_type": "markdown",
   "id": "later-following",
   "metadata": {},
   "source": [
    "Okay, so why `lightgbm` need to have an custom implementation? I thought this is a bug, but turns out there are some deeper reason behind this.\n",
    "I created an issue on GitHub.\n",
    "\n",
    "https://github.com/microsoft/LightGBM/issues/4085\n",
    "Their response is \n",
    "> Custom __deepcopy__ is needed to make `Booster` class picklable."
   ]
  },
  {
   "cell_type": "markdown",
   "id": "modern-indiana",
   "metadata": {},
   "source": [
    "## 🥖Italian BMT, 🥬Lettuce  🍅 tomato and some 🥒pickles please"
   ]
  },
  {
   "cell_type": "markdown",
   "id": "continuing-ratio",
   "metadata": {},
   "source": [
    "What does `pickle` really is? and what makes an object `pickable`?"
   ]
  },
  {
   "cell_type": "markdown",
   "id": "angry-violin",
   "metadata": {},
   "source": [
    "> Python Pickle is used to serialize and deserialize a python object structure. Any object on python can be pickled so that it can be saved on disk."
   ]
  },
  {
   "cell_type": "markdown",
   "id": "inner-semester",
   "metadata": {},
   "source": [
    "Serialization roughly means translating the data in memory into a format that can be stored on disk or sent over network. It's like ordering a chair from Ikea, they will send you a box, but not a chair.\n",
    "\n",
    "The process of decomposing the chair and put it into a box is `serialization`, while putting it together is `deserialization`. With pickle terms, we called it `Pickling` and `Unpickling`."
   ]
  },
  {
   "cell_type": "markdown",
   "id": "corporate-mainland",
   "metadata": {},
   "source": [
    "![deserialize and serialize](images/serialize.jpg \"Putting the chair together is `deseralization`, decomposing the chair and make it packable in a box is `serialization`\")"
   ]
  },
  {
   "cell_type": "markdown",
   "id": "athletic-organ",
   "metadata": {},
   "source": [
    "### What is Pickle"
   ]
  },
  {
   "cell_type": "markdown",
   "id": "unnecessary-basketball",
   "metadata": {},
   "source": [
    "`Pickle` is a protocol for **Python**, you and either pickling a Python object to memory or to file."
   ]
  },
  {
   "cell_type": "code",
   "execution_count": 21,
   "id": "further-plant",
   "metadata": {},
   "outputs": [],
   "source": [
    "import pickle"
   ]
  },
  {
   "cell_type": "code",
   "execution_count": 25,
   "id": "lined-daughter",
   "metadata": {},
   "outputs": [
    {
     "data": {
      "text/plain": [
       "b'\\x80\\x04\\x95\\n\\x00\\x00\\x00\\x00\\x00\\x00\\x00}\\x94\\x8c\\x01a\\x94K\\x01s.'"
      ]
     },
     "execution_count": 25,
     "metadata": {},
     "output_type": "execute_result"
    }
   ],
   "source": [
    "d = {'a': 1}\n",
    "pickle_d = pickle.dumps(d)\n",
    "pickle_d"
   ]
  },
  {
   "cell_type": "markdown",
   "id": "conservative-monkey",
   "metadata": {},
   "source": [
    "The python dict is now transfrom into a series of binary str, this string can be only understand by Python. We can also deserialize a binary string back to a python dict."
   ]
  },
  {
   "cell_type": "code",
   "execution_count": 28,
   "id": "collaborative-inquiry",
   "metadata": {},
   "outputs": [
    {
     "data": {
      "text/plain": [
       "{'a': 1}"
      ]
     },
     "execution_count": 28,
     "metadata": {},
     "output_type": "execute_result"
    }
   ],
   "source": [
    "binary_str = b'\\x80\\x04\\x95\\n\\x00\\x00\\x00\\x00\\x00\\x00\\x00}\\x94\\x8c\\x01a\\x94K\\x01s.'\n",
    "pickle.loads(binary_str)"
   ]
  },
  {
   "cell_type": "markdown",
   "id": "precious-local",
   "metadata": {},
   "source": [
    "Reference: https://www.python.org/dev/peps/pep-0574/#:~:text=The%20pickle%20protocol%20was%20originally%20designed%20in%201995,copying%20temporary%20data%20before%20writing%20it%20to%20disk."
   ]
  },
  {
   "cell_type": "markdown",
   "id": "surprising-health",
   "metadata": {},
   "source": [
    "### What makes something picklable"
   ]
  },
  {
   "cell_type": "markdown",
   "id": "smoking-specification",
   "metadata": {},
   "source": [
    "Finally, we come back to our initial questions.\n",
    "> What makes something picklable? Why lightgbm need to have `deepcopy` to make the `Booster` class picklable?"
   ]
  },
  {
   "cell_type": "markdown",
   "id": "steady-religion",
   "metadata": {},
   "source": [
    ">    What can be pickled and unpickled? The following types can be pickled:  \n",
    "    * None, True, and False  \n",
    "    * integers, floating point numbers, complex numbers  \n",
    "    * strings, bytes, bytearrays  \n",
    "    * tuples, lists, sets, and dictionaries containing only picklable objects  \n",
    "    * functions defined at the top level of a module (using def, not lambda)  \n",
    "    * built-in functions defined at the top level of a module  \n",
    "    * classes that are defined at the top level of a module  \n"
   ]
  },
  {
   "cell_type": "markdown",
   "id": "fifth-spoke",
   "metadata": {},
   "source": [
    "So pretty much common datatype, functions and classes are picklable. Let's see without `__deepcopy__`, the `Booster` class is not serializable as it claims."
   ]
  },
  {
   "cell_type": "code",
   "execution_count": 59,
   "id": "weird-discipline",
   "metadata": {},
   "outputs": [
    {
     "data": {
      "text/plain": [
       "({'objective': 'regression',\n",
       "  'verbose': -1,\n",
       "  'num_leaves': 3,\n",
       "  'num_iterations': 1,\n",
       "  'early_stopping_round': None},\n",
       " {'objective': 'regression',\n",
       "  'verbose': -1,\n",
       "  'num_leaves': 3,\n",
       "  'num_iterations': 1,\n",
       "  'early_stopping_round': None})"
      ]
     },
     "execution_count": 59,
     "metadata": {},
     "output_type": "execute_result"
    }
   ],
   "source": [
    "import lightgbm\n",
    "from lightgbm import Booster\n",
    "del Booster.__deepcopy__\n",
    "\n",
    "params = {\n",
    "'objective': 'regression',\n",
    "'verbose': -1,\n",
    "'num_leaves': 3\n",
    "}\n",
    "\n",
    "X = np.random.rand(100,2)\n",
    "Y = np.ravel(np.random.rand(100,1))\n",
    "lgbm = lgb.train(params, lgb.Dataset(X,label=Y),num_boost_round=1)\n",
    "\n",
    "\n",
    "deepcopy_lgbm = deepcopy(lgbm)\n",
    "lgbm.params, deepcopy_lgbm.params"
   ]
  },
  {
   "cell_type": "code",
   "execution_count": 69,
   "id": "acceptable-headset",
   "metadata": {},
   "outputs": [
    {
     "data": {
      "text/plain": [
       "True"
      ]
     },
     "execution_count": 69,
     "metadata": {},
     "output_type": "execute_result"
    }
   ],
   "source": [
    "pickle.dumps(deepcopy_lgbm) == pickle.dumps(lgbm)"
   ]
  },
  {
   "cell_type": "code",
   "execution_count": 75,
   "id": "rubber-artist",
   "metadata": {},
   "outputs": [],
   "source": [
    "unpickle_model = pickle.loads(pickle.dumps(deepcopy_lgbm))\n",
    "unpickle_deepcopy_model = pickle.loads(pickle.dumps(lgbm))"
   ]
  },
  {
   "cell_type": "code",
   "execution_count": 77,
   "id": "informative-firewall",
   "metadata": {},
   "outputs": [
    {
     "data": {
      "text/plain": [
       "({'objective': 'regression',\n",
       "  'verbose': -1,\n",
       "  'num_leaves': 3,\n",
       "  'num_iterations': 1,\n",
       "  'early_stopping_round': None},\n",
       " {'objective': 'regression',\n",
       "  'verbose': -1,\n",
       "  'num_leaves': 3,\n",
       "  'num_iterations': 1,\n",
       "  'early_stopping_round': None})"
      ]
     },
     "execution_count": 77,
     "metadata": {},
     "output_type": "execute_result"
    }
   ],
   "source": [
    "unpickle_model.params, unpickle_deepcopy_model.params"
   ]
  },
  {
   "cell_type": "code",
   "execution_count": 80,
   "id": "warming-agency",
   "metadata": {},
   "outputs": [
    {
     "data": {
      "text/plain": [
       "True"
      ]
     },
     "execution_count": 80,
     "metadata": {},
     "output_type": "execute_result"
    }
   ],
   "source": [
    "unpickle_model.model_to_string() == unpickle_deepcopy_model.model_to_string()"
   ]
  },
  {
   "cell_type": "code",
   "execution_count": 82,
   "id": "enclosed-sharing",
   "metadata": {
    "scrolled": true
   },
   "outputs": [
    {
     "data": {
      "text/plain": [
       "array([0.48439803, 0.48439803, 0.50141491, 0.48439803, 0.48439803,\n",
       "       0.48439803, 0.50141491, 0.48439803, 0.48439803, 0.48439803,\n",
       "       0.49029787, 0.49029787, 0.48439803, 0.48439803, 0.48439803,\n",
       "       0.49029787, 0.48439803, 0.50141491, 0.50141491, 0.50141491,\n",
       "       0.48439803, 0.50141491, 0.48439803, 0.49029787, 0.50141491,\n",
       "       0.50141491, 0.48439803, 0.49029787, 0.49029787, 0.49029787,\n",
       "       0.49029787, 0.50141491, 0.48439803, 0.50141491, 0.48439803,\n",
       "       0.49029787, 0.50141491, 0.48439803, 0.48439803, 0.48439803,\n",
       "       0.48439803, 0.50141491, 0.50141491, 0.48439803, 0.49029787,\n",
       "       0.48439803, 0.48439803, 0.50141491, 0.48439803, 0.48439803,\n",
       "       0.48439803, 0.48439803, 0.48439803, 0.48439803, 0.50141491,\n",
       "       0.49029787, 0.48439803, 0.50141491, 0.49029787, 0.49029787,\n",
       "       0.50141491, 0.50141491, 0.48439803, 0.50141491, 0.48439803,\n",
       "       0.48439803, 0.48439803, 0.48439803, 0.50141491, 0.48439803,\n",
       "       0.48439803, 0.50141491, 0.50141491, 0.49029787, 0.50141491,\n",
       "       0.48439803, 0.49029787, 0.48439803, 0.48439803, 0.50141491,\n",
       "       0.50141491, 0.48439803, 0.49029787, 0.48439803, 0.48439803,\n",
       "       0.50141491, 0.49029787, 0.50141491, 0.50141491, 0.49029787,\n",
       "       0.48439803, 0.49029787, 0.48439803, 0.48439803, 0.48439803,\n",
       "       0.48439803, 0.48439803, 0.48439803, 0.50141491, 0.49029787])"
      ]
     },
     "execution_count": 82,
     "metadata": {},
     "output_type": "execute_result"
    }
   ],
   "source": [
    "unpickle_deepcopy_model.predict(X)"
   ]
  },
  {
   "cell_type": "markdown",
   "id": "catholic-participant",
   "metadata": {},
   "source": [
    "### Last Word"
   ]
  },
  {
   "cell_type": "markdown",
   "id": "jewish-soldier",
   "metadata": {},
   "source": [
    "Well.... It seems actually picklable? I may need to investigate the issue a bit more. For now, the `__deepcopy__` does not seems to be necessary."
   ]
  },
  {
   "cell_type": "markdown",
   "id": "brown-mother",
   "metadata": {},
   "source": [
    "I tried to dig into `lightgbm` source code and find this potential related issue.\n",
    "https://github.com/microsoft/LightGBM/blame/dc1bc23adf1137ef78722176e2da69f8411b1feb/python-package/lightgbm/basic.py#L2298"
   ]
  }
 ],
 "metadata": {
  "kernelspec": {
   "display_name": "Python 3",
   "language": "python",
   "name": "python3"
  },
  "language_info": {
   "codemirror_mode": {
    "name": "ipython",
    "version": 3
   },
   "file_extension": ".py",
   "mimetype": "text/x-python",
   "name": "python",
   "nbconvert_exporter": "python",
   "pygments_lexer": "ipython3",
   "version": "3.8.3"
  }
 },
 "nbformat": 4,
 "nbformat_minor": 5
}
