{
 "cells": [
  {
   "cell_type": "markdown",
   "source": [
    "# Kedro Telemetry with Grafana\r\n",
    "> An easy setup that fills the gap of the official documentation\r\n",
    "\r\n",
    "- toc: true \r\n",
    "- badges: true\r\n",
    "- comments: true\r\n",
    "- author: noklam\r\n",
    "- hide: true\r\n",
    "- categories: [\"python\", \"kedro\"]"
   ],
   "metadata": {}
  },
  {
   "cell_type": "markdown",
   "source": [
    "## Adding the hooks"
   ],
   "metadata": {}
  },
  {
   "cell_type": "markdown",
   "source": [
    "https://kedro.readthedocs.io/en/latest/07_extend_kedro/02_hooks.html#add-observability-to-your-pipeline\r\n",
    "```python\r\n",
    "# <your_project>/src/<your_project>/hooks.py\r\n",
    "import sys\r\n",
    "from typing import Any, Dict\r\n",
    "\r\n",
    "import statsd\r\n",
    "from kedro.framework.hooks import hook_impl\r\n",
    "from kedro.pipeline.node import Node\r\n",
    "\r\n",
    "\r\n",
    "class PipelineMonitoringHooks:\r\n",
    "    def __init__(self):\r\n",
    "        self._timers = {}\r\n",
    "        self._client = statsd.StatsClient(prefix=\"kedro\")\r\n",
    "\r\n",
    "    @hook_impl\r\n",
    "    def before_node_run(self, node: Node) -> None:\r\n",
    "        node_timer = self._client.timer(node.name)\r\n",
    "        node_timer.start()\r\n",
    "        self._timers[node.short_name] = node_timer\r\n",
    "\r\n",
    "    @hook_impl\r\n",
    "    def after_node_run(self, node: Node, inputs: Dict[str, Any]) -> None:\r\n",
    "        self._timers[node.short_name].stop()\r\n",
    "        for dataset_name, dataset_value in inputs.items():\r\n",
    "            self._client.gauge(dataset_name + \"_size\", sys.getsizeof(dataset_value))\r\n",
    "\r\n",
    "    @hook_impl\r\n",
    "    def after_pipeline_run(self):\r\n",
    "        self._client.incr(\"run\")\r\n",
    "```"
   ],
   "metadata": {}
  },
  {
   "cell_type": "markdown",
   "source": [
    "You will need to add this hooks inside your `settings.py`.  \r\n",
    "`HOOKS = (ProjectHooks(), PipelineMonitoringHooks())`"
   ],
   "metadata": {}
  },
  {
   "cell_type": "markdown",
   "source": [
    "## Setup the necessary components\r\n",
    "The easiest way to do this is via `Docker`, I have found a Docker Image that just work perfectly locally. For production, you would want to setup the backend properly."
   ],
   "metadata": {}
  },
  {
   "cell_type": "markdown",
   "source": [
    "### Grafana (Dashboard)\r\n",
    "\r\n",
    "`docker run -d -p 3000:3000 -p 80:80 grafana/grafana`"
   ],
   "metadata": {}
  },
  {
   "cell_type": "markdown",
   "source": [
    "### StatsD and Graphite (The database)\r\n",
    "```\r\n",
    "docker run -d\\\r\n",
    " --name graphite\\\r\n",
    " --restart=always\\\r\n",
    " -p 80:80\\\r\n",
    " -p 2003-2004:2003-2004\\\r\n",
    " -p 2023-2024:2023-2024\\\r\n",
    " -p 8125:8125/udp\\\r\n",
    " -p 8126:8126\\\r\n",
    " graphiteapp/graphite-statsd\r\n",
    "\r\n",
    "\r\n",
    " # https://hub.docker.com/r/graphiteapp/graphite-statsd\r\n",
    "```\r\n"
   ],
   "metadata": {}
  },
  {
   "cell_type": "markdown",
   "source": [
    "Then you need to add `Graphite` from `Data Source` via the UI `http://localhost:3000`\r\n",
    "\r\n",
    "Your Graphite URL will either be `http://localhost:80`, `http://127.0.0.1:80` or `http://192.168.0.1:80`. I actually spend hours just to realize my IP was not `localhost`\r\n",
    "\r\n",
    "![Grafana Data Source](images/kedro/grafana.png \"Add data source via Grafana UI\")"
   ],
   "metadata": {}
  },
  {
   "cell_type": "code",
   "execution_count": null,
   "source": [],
   "outputs": [],
   "metadata": {}
  }
 ],
 "metadata": {
  "jupytext": {
   "encoding": "# -*- coding: utf-8 -*-",
   "formats": "ipynb,py:light"
  },
  "kernelspec": {
   "display_name": "Python 3",
   "language": "python",
   "name": "python3"
  },
  "language_info": {
   "codemirror_mode": {
    "name": "ipython",
    "version": 3
   },
   "file_extension": ".py",
   "mimetype": "text/x-python",
   "name": "python",
   "nbconvert_exporter": "python",
   "pygments_lexer": "ipython3",
   "version": "3.8.3"
  },
  "toc": {
   "base_numbering": 1,
   "nav_menu": {},
   "number_sections": false,
   "sideBar": true,
   "skip_h1_title": false,
   "title_cell": "Table of Contents",
   "title_sidebar": "Contents",
   "toc_cell": false,
   "toc_position": {},
   "toc_section_display": true,
   "toc_window_display": true
  },
  "varInspector": {
   "cols": {
    "lenName": 16,
    "lenType": 16,
    "lenVar": 40
   },
   "kernels_config": {
    "python": {
     "delete_cmd_postfix": "",
     "delete_cmd_prefix": "del ",
     "library": "var_list.py",
     "varRefreshCmd": "print(var_dic_list())"
    },
    "r": {
     "delete_cmd_postfix": ") ",
     "delete_cmd_prefix": "rm(",
     "library": "var_list.r",
     "varRefreshCmd": "cat(var_dic_list()) "
    }
   },
   "types_to_exclude": [
    "module",
    "function",
    "builtin_function_or_method",
    "instance",
    "_Feature"
   ],
   "window_display": false
  }
 },
 "nbformat": 4,
 "nbformat_minor": 2
}