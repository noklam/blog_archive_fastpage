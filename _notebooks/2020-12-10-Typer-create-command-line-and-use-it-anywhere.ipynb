{
 "cells": [
  {
   "cell_type": "markdown",
   "metadata": {},
   "source": [
    "# Create python command line in few lines, and use it anywhere as a standalone tool!\n",
    "> Creating python command line could be useful for a lot of tools. Traditionally, `argparse` has been used heavily, a new library called `typer` leverage python type hint, that makes creating command line interface in Python much pleasant.\n",
    "\n",
    "- toc: true \n",
    "- badges: true\n",
    "- comments: true\n",
    "- author: noklam\n",
    "- categories: [\"python\", \"cli\", \"typer\"]\n"
   ]
  },
  {
   "cell_type": "markdown",
   "metadata": {},
   "source": [
    "The `Typer` documentation has great example explaining how to use it. This is the example copied from their GitHub homepage.\n",
    "https://github.com/tiangolo/typer. "
   ]
  },
  {
   "cell_type": "code",
   "execution_count": 15,
   "metadata": {},
   "outputs": [
    {
     "name": "stdout",
     "output_type": "stream",
     "text": [
      "Overwriting main1.py\n"
     ]
    }
   ],
   "source": [
    "%%writefile main1.py\n",
    "import typer\n",
    "\n",
    "\n",
    "def main(name: str):\n",
    "    typer.echo(f\"Hello {name}\")\n",
    "\n",
    "\n",
    "if __name__ == \"__main__\":\n",
    "    typer.run(main)"
   ]
  },
  {
   "cell_type": "code",
   "execution_count": 16,
   "metadata": {},
   "outputs": [
    {
     "name": "stdout",
     "output_type": "stream",
     "text": [
      "Hello world\n"
     ]
    }
   ],
   "source": [
    "!python main1.py world"
   ]
  },
  {
   "cell_type": "code",
   "execution_count": 17,
   "metadata": {},
   "outputs": [
    {
     "name": "stdout",
     "output_type": "stream",
     "text": [
      "Usage: main1.py [OPTIONS] NAME\n",
      "\n",
      "Arguments:\n",
      "  NAME  [required]\n",
      "\n",
      "Options:\n",
      "  --install-completion [bash|zsh|fish|powershell|pwsh]\n",
      "                                  Install completion for the specified shell.\n",
      "  --show-completion [bash|zsh|fish|powershell|pwsh]\n",
      "                                  Show completion for the specified shell, to\n",
      "                                  copy it or customize the installation.\n",
      "\n",
      "  --help                          Show this message and exit.\n"
     ]
    }
   ],
   "source": [
    "!python main1.py --help "
   ]
  },
  {
   "cell_type": "markdown",
   "metadata": {},
   "source": [
    "Here I write a new file to `main1.py` and execute it as a command line with just 5 lines of code. It always comes with a help message for free. Let's see another example."
   ]
  },
  {
   "cell_type": "code",
   "execution_count": 18,
   "metadata": {},
   "outputs": [
    {
     "name": "stdout",
     "output_type": "stream",
     "text": [
      "Writing main2.py\n"
     ]
    }
   ],
   "source": [
    "%%writefile main2.py \n",
    "import typer\n",
    "\n",
    "\n",
    "def main(name: str, age: int = 20, height_meters: float = 1.89, female: bool = True):\n",
    "    typer.echo(f\"NAME is {name}, of type: {type(name)}\")\n",
    "    typer.echo(f\"--age is {age}, of type: {type(age)}\")\n",
    "    typer.echo(f\"--height-meters is {height_meters}, of type: {type(height_meters)}\")\n",
    "    typer.echo(f\"--female is {female}, of type: {type(female)}\")\n",
    "\n",
    "\n",
    "if __name__ == \"__main__\":\n",
    "    typer.run(main)"
   ]
  },
  {
   "cell_type": "code",
   "execution_count": 19,
   "metadata": {},
   "outputs": [
    {
     "name": "stdout",
     "output_type": "stream",
     "text": [
      "Usage: main2.py [OPTIONS] NAME\n",
      "\n",
      "Arguments:\n",
      "  NAME  [required]\n",
      "\n",
      "Options:\n",
      "  --age INTEGER                   [default: 20]\n",
      "  --height-meters FLOAT           [default: 1.89]\n",
      "  --female / --no-female          [default: True]\n",
      "  --install-completion [bash|zsh|fish|powershell|pwsh]\n",
      "                                  Install completion for the specified shell.\n",
      "  --show-completion [bash|zsh|fish|powershell|pwsh]\n",
      "                                  Show completion for the specified shell, to\n",
      "                                  copy it or customize the installation.\n",
      "\n",
      "  --help                          Show this message and exit.\n"
     ]
    }
   ],
   "source": [
    "!python main2.py --help "
   ]
  },
  {
   "cell_type": "markdown",
   "metadata": {},
   "source": [
    "This time, we can see that the help message even supplement the expected datatype. `Typer` will validate the type and conevrt it when possible."
   ]
  },
  {
   "cell_type": "code",
   "execution_count": 22,
   "metadata": {},
   "outputs": [
    {
     "name": "stdout",
     "output_type": "stream",
     "text": [
      "NAME is Nok, of type: <class 'str'>\n",
      "--age is 3, of type: <class 'int'>\n",
      "--height-meters is 1.89, of type: <class 'float'>\n",
      "--female is True, of type: <class 'bool'>\n"
     ]
    }
   ],
   "source": [
    "!python main2.py Nok --age=3"
   ]
  },
  {
   "cell_type": "markdown",
   "metadata": {},
   "source": [
    "The command line works file, but it only works in the same directory, and you always have to type the keyword `python`. With python setuptools, we can actually installed a command line and run it anywhere. It is pretty easy with just 1 trick, let's go back to the simple Hello command."
   ]
  },
  {
   "cell_type": "code",
   "execution_count": 41,
   "metadata": {},
   "outputs": [
    {
     "name": "stdout",
     "output_type": "stream",
     "text": [
      "Overwriting main3.py\n"
     ]
    }
   ],
   "source": [
    "%%writefile main3.py\n",
    "import typer\n",
    "\n",
    "def hello(name:str):\n",
    "    typer.echo(f\"Hello {name}\")\n",
    "    \n",
    "def main():\n",
    "    typer.run(hello)\n",
    "    \n",
    "\n"
   ]
  },
  {
   "cell_type": "markdown",
   "metadata": {},
   "source": [
    "Here we made a few changes.\n",
    "1. The logic is move to a new function named `hello`\n",
    "2. We removed the \\_\\_main\\_\\_ part, as we will not call this python file directly anymore.\n",
    "3. `typer.run(main)` is changed to `typer.run(hello)` and moved inside the `main` function."
   ]
  },
  {
   "cell_type": "markdown",
   "metadata": {},
   "source": [
    "# Console Script"
   ]
  },
  {
   "cell_type": "markdown",
   "metadata": {},
   "source": [
    "We will use setuptool to build console script, which may call the function `main`. The magic is using console script to install a command line interface (It creates a .exe file) that can be run anywhere. We can name our command line instead of using the filename with a pattern of `command_name=file:func_name`. Here our function `main` is inside a file `main3.py`, so we use `hello=main3:main`."
   ]
  },
  {
   "cell_type": "code",
   "execution_count": 49,
   "metadata": {},
   "outputs": [
    {
     "name": "stdout",
     "output_type": "stream",
     "text": [
      "Overwriting setup.py\n"
     ]
    }
   ],
   "source": [
    "%%writefile setup.py\n",
    "from setuptools import setup, find_packages\n",
    "\n",
    "\n",
    "setup(\n",
    "    name=\"my_library\",\n",
    "    version=\"1.0\",\n",
    "    packages=find_packages(),\n",
    "        entry_points = {\n",
    "        'console_scripts': ['hello=main3:main']}\n",
    ")"
   ]
  },
  {
   "cell_type": "markdown",
   "metadata": {},
   "source": [
    "Then we install the console script ."
   ]
  },
  {
   "cell_type": "code",
   "execution_count": null,
   "metadata": {},
   "outputs": [],
   "source": [
    "!python setup.py develop"
   ]
  },
  {
   "cell_type": "code",
   "execution_count": 1,
   "metadata": {},
   "outputs": [
    {
     "name": "stdout",
     "output_type": "stream",
     "text": [
      "Hello world\n"
     ]
    }
   ],
   "source": [
    "!hello world "
   ]
  },
  {
   "cell_type": "markdown",
   "metadata": {},
   "source": [
    "We can now call `hello` anywhere, as it is installed as a executable."
   ]
  },
  {
   "cell_type": "code",
   "execution_count": 3,
   "metadata": {},
   "outputs": [
    {
     "name": "stdout",
     "output_type": "stream",
     "text": [
      "C:\\ProgramData\\Miniconda3\\Scripts\\hello.exe\n"
     ]
    }
   ],
   "source": [
    "!where hello"
   ]
  },
  {
   "cell_type": "markdown",
   "metadata": {},
   "source": [
    "It's time for you to build your own commands. This can be easily extended to support multiple commands. https://github.com/tiangolo/typer"
   ]
  },
  {
   "cell_type": "code",
   "execution_count": null,
   "metadata": {},
   "outputs": [],
   "source": []
  }
 ],
 "metadata": {
  "kernelspec": {
   "display_name": "Python 3",
   "language": "python",
   "name": "python3"
  },
  "language_info": {
   "codemirror_mode": {
    "name": "ipython",
    "version": 3
   },
   "file_extension": ".py",
   "mimetype": "text/x-python",
   "name": "python",
   "nbconvert_exporter": "python",
   "pygments_lexer": "ipython3",
   "version": "3.8.3"
  },
  "toc": {
   "base_numbering": 1,
   "nav_menu": {},
   "number_sections": true,
   "sideBar": true,
   "skip_h1_title": false,
   "title_cell": "Table of Contents",
   "title_sidebar": "Contents",
   "toc_cell": false,
   "toc_position": {},
   "toc_section_display": true,
   "toc_window_display": true
  },
  "varInspector": {
   "cols": {
    "lenName": 16,
    "lenType": 16,
    "lenVar": 40
   },
   "kernels_config": {
    "python": {
     "delete_cmd_postfix": "",
     "delete_cmd_prefix": "del ",
     "library": "var_list.py",
     "varRefreshCmd": "print(var_dic_list())"
    },
    "r": {
     "delete_cmd_postfix": ") ",
     "delete_cmd_prefix": "rm(",
     "library": "var_list.r",
     "varRefreshCmd": "cat(var_dic_list()) "
    }
   },
   "types_to_exclude": [
    "module",
    "function",
    "builtin_function_or_method",
    "instance",
    "_Feature"
   ],
   "window_display": false
  }
 },
 "nbformat": 4,
 "nbformat_minor": 2
}
