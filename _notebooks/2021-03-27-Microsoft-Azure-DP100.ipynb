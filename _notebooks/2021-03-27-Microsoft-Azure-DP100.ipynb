{
 "cells": [
  {
   "cell_type": "markdown",
   "id": "initial-yahoo",
   "metadata": {},
   "source": [
    "# Microsoft Azure - DP100\n",
    "> I am taking DP100 this Sat and trying to prepare myself for it.\n",
    "\n",
    "\n",
    "- toc: true \n",
    "- badges: true\n",
    "- comments: true\n",
    "- author: noklam\n",
    "- categories: [\"azure\"]\n",
    "- hide: true\n"
   ]
  },
  {
   "source": [
    "# Reference"
   ],
   "cell_type": "markdown",
   "metadata": {}
  },
  {
   "source": [
    "## Official Suggested Materials\n",
    "- https://docs.microsoft.com/en-us/learn/paths/build-ai-solutions-with-azure-ml-service/ - This should be your focus, try to do the labs and go through the tutorials. You need to understand the use case of different products and should be familiar with the code.\n",
    "- https://docs.microsoft.com/en-us/learn/paths/create-no-code-predictive-models-azure-machine-learning/ - I suggest you to go through the lab to experience the drag and drop UI. You should read the tutorial too.\n",
    "- https://docs.microsoft.com/en-us/learn/paths/create-machine-learn-models/ - I skim through this tutorial real quick, if you have data science background, you should know these stuff fairly well."
   ],
   "cell_type": "markdown",
   "metadata": {}
  },
  {
   "source": [
    "# GitHub Resource\n",
    "- https://github.com/MicrosoftLearning/mslearn-dp100"
   ],
   "cell_type": "markdown",
   "metadata": {}
  },
  {
   "source": [
    "# Key Concepts\n",
    "- Workspace\n",
    "- DataStore/Blobstore\n",
    "- Compute Target\n",
    "    - Cluster/VM/ACI [link](https://docs.microsoft.com/en-us/azure/machine-learning/concept-compute-target)"
   ],
   "cell_type": "markdown",
   "metadata": {}
  },
  {
   "source": [
    "# Compute Target\n",
    "Machine Learning Studio - single/multi\n",
    "- Development/Experiment - Local Machine/Cloud VM.\n",
    "- Scale up to larger data/distributed - training compute target\n",
    "    - Azure Machine Learning compute cluster\n",
    "    - Azure Machine Learning compute instance\n",
    "    - \n",
    "- Deploy Compute Target\n",
    "  - Local web service\n",
    "  - Azure Kubernetes Service (AKS)\n",
    "  - Azure Container Instances\n",
    "  - Azure Machine Learning compute clusters (Batch Inference)"
   ],
   "cell_type": "markdown",
   "metadata": {}
  },
  {
   "cell_type": "code",
   "execution_count": null,
   "metadata": {},
   "outputs": [],
   "source": []
  }
 ],
 "metadata": {
  "kernelspec": {
   "display_name": "Python 3",
   "language": "python",
   "name": "python3"
  },
  "language_info": {
   "codemirror_mode": {
    "name": "ipython",
    "version": 3
   },
   "file_extension": ".py",
   "mimetype": "text/x-python",
   "name": "python",
   "nbconvert_exporter": "python",
   "pygments_lexer": "ipython3",
   "version": "3.8.3-final"
  }
 },
 "nbformat": 4,
 "nbformat_minor": 5
}