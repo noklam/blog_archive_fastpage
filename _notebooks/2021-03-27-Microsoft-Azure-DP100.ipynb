{
 "cells": [
  {
   "cell_type": "markdown",
   "id": "initial-yahoo",
   "metadata": {},
   "source": [
    "# Microsoft Azure - DP100\n",
    "> I am taking DP100 this Sat and trying to prepare myself for it.\n",
    "\n",
    "\n",
    "- toc: true \n",
    "- badges: true\n",
    "- comments: true\n",
    "- author: noklam\n",
    "- categories: [\"azure\"]\n",
    "- hide: false\n"
   ]
  },
  {
   "source": [
    "# Passing Criteria\n",
    "There are 49 questions, some of the questions have multiple answers, and has its own score. You need to pass with at least 700/1000 points. There are around 10-15% questions that is quite hard, but you will be able to pass the exam as long as you get the easy one correct.\n",
    "\n",
    "I struggled witht the first few questions but passed the exam with 809/1000. You don't have to be panic as there are many easy questions, don't get scared by the hardcore questions."
   ],
   "cell_type": "markdown",
   "metadata": {}
  },
  {
   "source": [
    "# Reference"
   ],
   "cell_type": "markdown",
   "metadata": {}
  },
  {
   "source": [
    "## Official Suggested Materials\n",
    "- https://docs.microsoft.com/en-us/learn/paths/build-ai-solutions-with-azure-ml-service/ - This should be your focus, try to do the labs and go through the tutorials. You need to understand the use case of different products and should be familiar with the code.\n",
    "- https://docs.microsoft.com/en-us/learn/paths/create-no-code-predictive-models-azure-machine-learning/ - I suggest you to go through the lab to experience the drag and drop UI. You should read the tutorial too.\n",
    "- https://docs.microsoft.com/en-us/learn/paths/create-machine-learn-models/ - I skim through this tutorial real quick, if you have data science background, you should know these stuff fairly well."
   ],
   "cell_type": "markdown",
   "metadata": {}
  },
  {
   "source": [
    "# Key Concepts\n",
    "- Workspace\n",
    "- DataStore/Blobstore\n",
    "- Compute Target\n",
    "    - Cluster/VM/ACI [link](https://docs.microsoft.com/en-us/azure/machine-learning/concept-compute-target)"
   ],
   "cell_type": "markdown",
   "metadata": {}
  },
  {
   "source": [
    "# Compute Target\n",
    "Machine Learning Studio - single/multi\n",
    "- Development/Experiment - Local Machine/Cloud VM.\n",
    "- Scale up to larger data/distributed - training compute target\n",
    "    - Azure Machine Learning compute cluster\n",
    "    - Azure Machine Learning compute instance\n",
    "    - \n",
    "- Deploy Compute Target (You need to able to judge the most appropiate option based on the context.)\n",
    "  - Local web service\n",
    "  - Azure Kubernetes Service (AKS)\n",
    "  - Azure Container Instances\n",
    "  - Azure Machine Learning compute clusters (Batch Inference)"
   ],
   "cell_type": "markdown",
   "metadata": {}
  },
  {
   "source": [
    "## DataStore\n",
    "* Azure Storage (blob and file containers)\n",
    "* Azure Data Lake stores\n",
    "* Azure SQL Database\n",
    "* Azure Databricks file system (DBFS)"
   ],
   "cell_type": "markdown",
   "metadata": {}
  },
  {
   "source": [
    "# Syntax Type Questions\n",
    "There are at least 10 questions that requires you to remember some syntax. These are the questiosn that I remembered.\n",
    "- Run vs mlflow (how to log a metric?)\n",
    "  - `run = Run.get_context()`\n",
    "  - [mflow](https://github.com/MicrosoftLearning/DP100/blob/master/03A%20-%20Running%20Experiments.ipynb)\n",
    "- Workspace/Config (how to create a workspace? How to get a reference of a specific workspace? What are the required arguments?) [link](https://docs.microsoft.com/en-us/learn/modules/intro-to-azure-machine-learning-service/3-azure-ml-tools?ns-enrollment-type=LearningPath&ns-enrollment-id=learn.data-ai.build-ai-solutions-with-azure-ml-service)\n",
    "- Training a model and register a model/deploy \n",
    "- AutoML - How to get the best iteration model provided the experiment name or Run ID? What are the available Early Stopping choices?[link](https://docs.microsoft.com/en-us/learn/modules/tune-hyperparameters-with-azure-machine-learning/4-early-termination?ns-enrollment-type=LearningPath&ns-enrollment-id=learn.data-ai.build-ai-solutions-with-azure-ml-service)\n",
    "- Pipelines - I got quite a few questions related to this topic, so you need to make sure you know the syntax. (i.e. How to create/publish/schedule a pipeline, what are the syntax? Do you publish a pipeline or schedule the pipeline first? How to retrieve a pipeline?)[link](https://docs.microsoft.com/en-us/learn/modules/create-pipelines-in-aml/7-scheduling-pipelines?ns-enrollment-type=LearningPath&ns-enrollment-id=learn.data-ai.build-ai-solutions-with-azure-ml-service), [link](https://docs.microsoft.com/en-us/learn/modules/create-pipelines-in-aml/5-publishing-pipelines?ns-enrollment-type=LearningPath&ns-enrollment-id=learn.data-ai.build-ai-solutions-with-azure-ml-service)\n",
    "- How to troubleshoot a service? Where are the log? [link](https://docs.microsoft.com/en-us/learn/modules/register-and-deploy-model-with-amls/4-troubleshoot-deployment?ns-enrollment-type=LearningPath&ns-enrollment-id=learn.data-ai.build-ai-solutions-with-azure-ml-service)\n",
    "- Explainer (What are the different use cases for different explainer? What are their limitation?)[link](https://docs.microsoft.com/en-us/learn/modules/explain-machine-learning-models-with-azure-machine-learning/2-feature-importance?ns-enrollment-type=LearningPath&ns-enrollment-id=learn.data-ai.build-ai-solutions-with-azure-ml-service)\n"
   ],
   "cell_type": "markdown",
   "metadata": {}
  },
  {
   "source": [
    "# Example Questiions\n",
    "You can also leverage the exam simulator, the free demo version allows you to view 19 questions, if you are willing to pay, you can access all 120 questions. Out of the 19 questiosn, there are around 4~5 similar questions appear in my DP-100 exam.\n",
    "- [Questions](https://www.exam-labs.com/dumps/DP-100?utm_source=adwords&utm_medium=search&utm_campaign=exams_microsoft&)gclid=Cj0KCQjwjPaCBhDkARIsAISZN7Q33Ze6kigbUXnc4LTabA_gpqAsVGYCwaRg82vi-WeHcGHXfd1YDSkaAgPqEALw_wcB#\n",
    "- [Example Simulator](https://www.avanset.com/demo.html (software to open .vce file))"
   ],
   "cell_type": "markdown",
   "metadata": {}
  }
 ],
 "metadata": {
  "kernelspec": {
   "display_name": "Python 3",
   "language": "python",
   "name": "python3"
  },
  "language_info": {
   "codemirror_mode": {
    "name": "ipython",
    "version": 3
   },
   "file_extension": ".py",
   "mimetype": "text/x-python",
   "name": "python",
   "nbconvert_exporter": "python",
   "pygments_lexer": "ipython3",
   "version": "3.8.3-final"
  }
 },
 "nbformat": 4,
 "nbformat_minor": 5
}