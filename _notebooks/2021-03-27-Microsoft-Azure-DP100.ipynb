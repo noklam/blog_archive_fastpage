{
 "cells": [
  {
   "cell_type": "markdown",
   "id": "initial-yahoo",
   "metadata": {},
   "source": [
    "# Microsoft Azure - DP100\n",
    "> I took DP100 in Mar 2021 and I have written some notes for those who are preparing for the exam.\n",
    "\n",
    "\n",
    "- toc: true \n",
    "- badges: true\n",
    "- comments: true\n",
    "- author: noklam\n",
    "- categories: [\"azure\"]\n",
    "- hide: false\n",
    "- sticky_rank: 1"
   ]
  },
  {
   "cell_type": "markdown",
   "id": "focused-equipment",
   "metadata": {},
   "source": [
    "Last Updated: 2021-04-22"
   ]
  },
  {
   "cell_type": "markdown",
   "id": "cultural-compression",
   "metadata": {},
   "source": [
    "> Warning - On Azure website, it states that exam outline will be updated on May 20, 2021. Make sure you check out what's changed."
   ]
  },
  {
   "cell_type": "markdown",
   "id": "suburban-burlington",
   "metadata": {},
   "source": [
    "# Introduction\n",
    "There are 49 questions, some questions have more scores. You need to pass with at least 700/1000 points. For my exam, there are around 10-15% questions that are quite hard, but as long as you score the easy one, you should be able to pass the exam.\n",
    "\n",
    "There are different type of questions.\n",
    "* Cases Studies - Usually there are some scenarios provided, and you can not go back to previous questions once you answered. For other questions, you can review anytime you want.\n",
    "* Matching - You need to pick a few choice and arrange them in order. i.e. How to create an envioronment tht fulfill the requirements provided.\n",
    "* Multiple Choices\n",
    "   - Typical MC - It may ask to to select  Azure Machine Learning Service/Azure Machine Learning Studio/Azure Databricks/Azure Kubernetes Service (AKS)\n",
    "   - Syntax type questions (there are quite a few of them)\n",
    "   - Diagram (Azure ML Designer)\n",
    "   \n",
    "\n",
    "I struggled with the first few questions and scratching my head for a while. Don't panic if you just can't remember the answer, take a guess, marked it as `review question` (You can do this with the UI). At the end, I scored 809/1000."
   ]
  },
  {
   "cell_type": "markdown",
   "id": "billion-amateur",
   "metadata": {},
   "source": [
    "# How to prepare for the exam"
   ]
  },
  {
   "cell_type": "markdown",
   "id": "promotional-florist",
   "metadata": {},
   "source": [
    "I spent roughly 15 hours to prepare this exam. Half of the time I used on the lab, the other half for reading docs and historical exam questions. Prior to this exam, I have a little bit experience cloud and I work as a Data Scientist, so it gives me some edges for this exam. But you don't need to have a lot background knowledge, most of the data science concepts tested is very general and you can learnt from the labs."
   ]
  },
  {
   "cell_type": "markdown",
   "id": "worthy-trash",
   "metadata": {},
   "source": [
    "## Official Suggested Materials\n",
    "- ❗ https://docs.microsoft.com/en-us/learn/paths/build-ai-solutions-with-azure-ml-service/ - This should be your main focus, try to finish the labs and read the tutorials. You need to understand the use case of different products and  familiar yourself with the syntax of Azure ML SDK etc.\n",
    "- https://docs.microsoft.com/en-us/learn/paths/create-no-code-predictive-models-azure-machine-learning/ - You should at least finish 1 of the lab to get some sense of the UI. It would be included in the exam for sure (2-3 questions maybe)\n",
    "- https://docs.microsoft.com/en-us/learn/paths/create-machine-learn-models/ - I didn't spend much time on it as most of them are baisc data science concepts. You would need to how to apply different types of models (Regression/Classification/Time Series) & AutoML for given scenario."
   ]
  },
  {
   "cell_type": "markdown",
   "id": "missing-integration",
   "metadata": {},
   "source": [
    "# Key Concepts\n",
    "I am pretty sure these concepts will come up in every exam set, so be prepared.\n",
    "\n",
    "- Workspace\n",
    "- DataStore/Blobstore\n",
    "- Compute Target\n",
    "    - Cluster/VM/ACI [link](https://docs.microsoft.com/en-us/azure/machine-learning/concept-compute-target)"
   ]
  },
  {
   "cell_type": "markdown",
   "id": "surprised-detroit",
   "metadata": {},
   "source": [
    "## Compute Target\n",
    "Machine Learning Studio - single/multi\n",
    "- Development/Experiment - Local Machine/Cloud VM.\n",
    "- Scale up to larger data/distributed - training compute target\n",
    "    - Azure Machine Learning compute cluster\n",
    "    - Azure Machine Learning compute instance\n",
    "- Deploy Compute Target (You need to able to judge the most appropiate option based on the context.)\n",
    "  - Local web service\n",
    "  - Azure Kubernetes Service (AKS)\n",
    "  - Azure Container Instances\n",
    "  - Azure Machine Learning compute clusters (Batch Inference)"
   ]
  },
  {
   "cell_type": "markdown",
   "id": "thrown-virtue",
   "metadata": {},
   "source": [
    "## DataStore\n",
    "* Azure Storage (blob and file containers)\n",
    "* Azure Data Lake stores\n",
    "* Azure SQL Database\n",
    "* Azure Databricks file system (DBFS)"
   ]
  },
  {
   "cell_type": "markdown",
   "id": "written-annex",
   "metadata": {},
   "source": [
    "# Syntax Type Questions\n",
    "For me, this are the *hard* questions. There are at least 10 questions that requires you to remember some syntax. If you did not prepared for this, you will find all options seems to be correct. These are the questions that I encountered in my exam.\n",
    "\n",
    "Come back to here to check your knowledge after you finish the labs.\n",
    "\n",
    "- Run vs mlflow (How to log a metric? What is the syntax with or without mlflow?)\n",
    "  - `run = Run.get_context()`\n",
    "  - [mflow](https://github.com/MicrosoftLearning/DP100/blob/master/03A%20-%20Running%20Experiments.ipynb)\n",
    "- Workspace/Config (how to create a workspace? How to get a reference of a specific workspace? What are the required arguments?) [link](https://docs.microsoft.com/en-us/learn/modules/intro-to-azure-machine-learning-service/3-azure-ml-tools?ns-enrollment-type=LearningPath&ns-enrollment-id=learn.data-ai.build-ai-solutions-with-azure-ml-service)\n",
    "- Training a model and register a model/deploy \n",
    "- AutoML - Think about what you would do if you are using AutoML.\n",
    "  - How to retrieve the best iteration model provided the experiment name or Run ID? \n",
    "  - What are the Early Stopping choices you can use? [link](https://docs.microsoft.com/en-us/learn/modules/tune-hyperparameters-with-azure-machine-learning/4-early-termination?ns-enrollment-type=LearningPath&ns-enrollment-id=learn.data-ai.build-ai-solutions-with-azure-ml-service)\n",
    "- Pipelines - I didn't prepare well for this part, there are a few questions related to this topic. Again, familiar yourself with the syntax.\n",
    "  - How to create/publish/schedule a pipeline, what are the syntax? \n",
    "  - Do you publish a pipeline or schedule the pipeline first?  [link](https://docs.microsoft.com/en-us/learn/modules/create-pipelines-in-aml/5-publishing-pipelines?ns-enrollment-type=LearningPath&ns-enrollment-id=learn.data-ai.build-ai-solutions-with-azure-ml-service)\n",
    "  - How to retrieve a publihsed pipeline? [link](https://docs.microsoft.com/en-us/learn/modules/create-pipelines-in-aml/7-scheduling-pipelines?ns-enrollment-type=LearningPath&ns-enrollment-id=learn.data-ai.build-ai-solutions-with-azure-ml-service)\n",
    "- How to troubleshoot a service? Where can you find the log? [link](https://docs.microsoft.com/en-us/learn/modules/register-and-deploy-model-with-amls/4-troubleshoot-deployment?ns-enrollment-type=LearningPath&ns-enrollment-id=learn.data-ai.build-ai-solutions-with-azure-ml-service)\n",
    "- Explainer (What are the different use cases for different explainer? What are their limitation?) [link](https://docs.microsoft.com/en-us/learn/modules/explain-machine-learning-models-with-azure-machine-learning/2-feature-importance?ns-enrollment-type=LearningPath&ns-enrollment-id=learn.data-ai.build-ai-solutions-with-azure-ml-service)\n",
    "    - How many Explainers are avaiable? (ans: 3!)\n"
   ]
  },
  {
   "cell_type": "markdown",
   "id": "painted-asset",
   "metadata": {},
   "source": [
    "# Example Questiions\n",
    "You can also leverage the exam simulator, the free demo version will give you access to 19 questions, if you are willing to pay, you can access all 120 questions. Out of the 19 questions, there are around 4~5 similar questions appear in my DP-100 exam. If your goal is to pass this exam\n",
    "\n",
    "- [Website for DP-100, they are updated frequently](https://www.examtopics.com/exams/microsoft/dp-100/view/)\n",
    "- [Questions](https://www.exam-labs.com/dumps/DP-100) - Look for the \"Free VCE Files\"\n",
    "- [Example Simulator](https://www.avanset.com/demo.html (software to open .vce file))"
   ]
  },
  {
   "cell_type": "markdown",
   "id": "sophisticated-telescope",
   "metadata": {},
   "source": [
    "Finanlly, good luck to your exam. Try compare and contrast the workflow when you are doing the tutorials. Overall, Azure is well aware with the MLOps trend, the platform makes it quite easy to handle machine learning pipeline and deploy a model. Once you can related it to your daily work, you would find most of the steps are reasonable and easier to remember."
   ]
  }
 ],
 "metadata": {
  "kernelspec": {
   "display_name": "Python 3",
   "language": "python",
   "name": "python3"
  },
  "language_info": {
   "codemirror_mode": {
    "name": "ipython",
    "version": 3
   },
   "file_extension": ".py",
   "mimetype": "text/x-python",
   "name": "python",
   "nbconvert_exporter": "python",
   "pygments_lexer": "ipython3",
   "version": "3.8.3"
  },
  "toc": {
   "base_numbering": 1,
   "nav_menu": {},
   "number_sections": true,
   "sideBar": true,
   "skip_h1_title": false,
   "title_cell": "Table of Contents",
   "title_sidebar": "Contents",
   "toc_cell": false,
   "toc_position": {},
   "toc_section_display": true,
   "toc_window_display": false
  }
 },
 "nbformat": 4,
 "nbformat_minor": 5
}
