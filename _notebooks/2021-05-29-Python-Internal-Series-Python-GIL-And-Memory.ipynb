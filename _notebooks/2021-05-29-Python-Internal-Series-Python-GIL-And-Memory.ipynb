{
 "cells": [
  {
   "cell_type": "markdown",
   "id": "initial-yahoo",
   "metadata": {},
   "source": [
    "# Python Internal Series - Global Interpreter Lock (GIL) and Memory Management\n",
    "> Despite the bad reputation of GIL, it was arguably designed on purpose. The GIL actually comes with a lot of benefit.\n",
    "\n",
    "\n",
    "- toc: true \n",
    "- badges: true\n",
    "- comments: true\n",
    "- author: noklam\n",
    "- categories: [\"python-internal\"]\n",
    "- hide: false\n"
   ]
  },
  {
   "cell_type": "markdown",
   "id": "organizational-short",
   "metadata": {},
   "source": [
    "## Is GIL a bad design?\n"
   ]
  },
  {
   "cell_type": "markdown",
   "id": "atmospheric-sucking",
   "metadata": {},
   "source": [
    "Most people first learn about GIL because of how it slows down Python program and prevent multi-threading running efficiently, however, the GIL is one of the reason why Python survive  30 years and still growing healthyly.\n",
    "\n",
    "GIL is nothing like the stereotype people think, legacy, slow. There are multiple benefits GIL provide:\n",
    "\n",
    "* It speed ups single thread program.\n",
    "* It is compatible with many C Program thanks to the C API of CPysthon."
   ]
  },
  {
   "cell_type": "markdown",
   "id": "promising-expert",
   "metadata": {},
   "source": [
    "##  Global Interpreter Lock a.k.a Mutex Lock"
   ]
  },
  {
   "cell_type": "markdown",
   "id": "decreased-oasis",
   "metadata": {},
   "source": [
    "To start with, GIL is a mutex lock."
   ]
  },
  {
   "cell_type": "markdown",
   "id": "entitled-leeds",
   "metadata": {},
   "source": [
    "## Why GIL is needed in the first place?\n",
    "Memory management. Python use something called \"reference counting\", which make it different from many modern programming lanaguage. It is what allow Python programmer to lay back and let Python take care when to release memory. Precisely, it is actually the C program controlling the memory life cycle for Python (Cpython). Cpython is known as the default Python interpreter. It first compiles Python to intermediate bytecode (.pyc files). These bytecode then being interpreted by a virtual machine ane executed. It is worth to mention that other variants of Python exist, i.e. IronPython(C#), Jython(Java), Pypy(Python) and they have different memory management mechanisms."
   ]
  },
  {
   "cell_type": "markdown",
   "id": "normal-template",
   "metadata": {},
   "source": [
    "### Python Memory Management - Reference Count & Garbage Collection (gc)"
   ]
  },
  {
   "cell_type": "code",
   "execution_count": 1,
   "id": "satisfactory-fraud",
   "metadata": {},
   "outputs": [],
   "source": [
    "import sys"
   ]
  },
  {
   "cell_type": "code",
   "execution_count": 18,
   "id": "greatest-adoption",
   "metadata": {},
   "outputs": [
    {
     "data": {
      "text/plain": [
       "3"
      ]
     },
     "execution_count": 18,
     "metadata": {},
     "output_type": "execute_result"
    }
   ],
   "source": [
    "sys.getrefcount(a)"
   ]
  },
  {
   "cell_type": "markdown",
   "id": "introductory-configuration",
   "metadata": {},
   "source": [
    "Reference counting is a simple idea. The intuition is that if a particular object is not referenced by anything, it can be recycled since it will not be used anymore.\n",
    "\n",
    "For example, the list `[1]`  is now referenced by the variable `a`, so the reference count is incremented by 1.  "
   ]
  },
  {
   "cell_type": "code",
   "execution_count": 19,
   "id": "outer-bride",
   "metadata": {},
   "outputs": [
    {
     "data": {
      "text/plain": [
       "2"
      ]
     },
     "execution_count": 19,
     "metadata": {},
     "output_type": "execute_result"
    }
   ],
   "source": [
    "import sys\n",
    "a = [1]\n",
    "sys.getrefcount(a)"
   ]
  },
  {
   "cell_type": "markdown",
   "id": "veterinary-talent",
   "metadata": {},
   "source": [
    "Note that the reference count is 2 instead of 1.\n",
    "1. The first reference is `a = [1]`\n",
    "2. When the variable `a` is passed to `sys.getrefcount(a)` as an argument, it also increases the reference count."
   ]
  },
  {
   "cell_type": "code",
   "execution_count": 20,
   "id": "emerging-device",
   "metadata": {},
   "outputs": [],
   "source": [
    "del a"
   ]
  },
  {
   "cell_type": "markdown",
   "id": "designing-smooth",
   "metadata": {},
   "source": [
    "When `del a` is called, the list `[1]` have 0 reference count, and it is collected by Python automatically behind the scene."
   ]
  },
  {
   "cell_type": "markdown",
   "id": "nervous-syndicate",
   "metadata": {},
   "source": [
    "### Lock & Deadlock"
   ]
  },
  {
   "cell_type": "markdown",
   "id": "elder-switch",
   "metadata": {},
   "source": [
    "### Memory Management"
   ]
  },
  {
   "cell_type": "markdown",
   "id": "third-texas",
   "metadata": {},
   "source": [
    "# Reference\n",
    "* https://www.youtube.com/watch?v=KVKufdTphKs&t=731s\n",
    "* https://realpython.com/python-gil/\n",
    "* https://devguide.python.org/garbage_collector/"
   ]
  }
 ],
 "metadata": {
  "kernelspec": {
   "display_name": "Python 3",
   "language": "python",
   "name": "python3"
  },
  "language_info": {
   "codemirror_mode": {
    "name": "ipython",
    "version": 3
   },
   "file_extension": ".py",
   "mimetype": "text/x-python",
   "name": "python",
   "nbconvert_exporter": "python",
   "pygments_lexer": "ipython3",
   "version": "3.8.3"
  },
  "toc": {
   "base_numbering": 1,
   "nav_menu": {},
   "number_sections": true,
   "sideBar": true,
   "skip_h1_title": false,
   "title_cell": "Table of Contents",
   "title_sidebar": "Contents",
   "toc_cell": false,
   "toc_position": {},
   "toc_section_display": true,
   "toc_window_display": false
  }
 },
 "nbformat": 4,
 "nbformat_minor": 5
}
