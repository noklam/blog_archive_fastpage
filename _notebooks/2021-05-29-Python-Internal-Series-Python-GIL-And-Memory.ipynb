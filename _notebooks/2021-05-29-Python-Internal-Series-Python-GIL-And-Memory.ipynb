{
 "cells": [
  {
   "cell_type": "markdown",
   "id": "initial-yahoo",
   "metadata": {},
   "source": [
    "# Python Internal Series - Global Interpreter Lock and Memory Management\n",
    "> Despite the bad reputation of GIL, it was arguably designed on purpose. The GIL actually comes with a lot of benefit.\n",
    "\n",
    "\n",
    "- toc: true \n",
    "- badges: true\n",
    "- comments: true\n",
    "- author: noklam\n",
    "- categories: [\"python-internal\"]\n",
    "- hide: false\n"
   ]
  },
  {
   "source": [
    "## Is GIL a bad design?\n"
   ],
   "cell_type": "markdown",
   "metadata": {}
  },
  {
   "source": [
    "##  Global Interpreter Lock a.k.a Mutex Lock"
   ],
   "cell_type": "markdown",
   "metadata": {}
  },
  {
   "source": [
    "## Why GIL is needed in the first place?"
   ],
   "cell_type": "markdown",
   "metadata": {}
  },
  {
   "source": [
    "### Python Memory Management - Reference Count"
   ],
   "cell_type": "markdown",
   "metadata": {}
  },
  {
   "source": [
    "### Lock & Deadlock"
   ],
   "cell_type": "markdown",
   "metadata": {}
  },
  {
   "source": [
    "### Memroy Management"
   ],
   "cell_type": "markdown",
   "metadata": {}
  }
 ],
 "metadata": {
  "kernelspec": {
   "name": "python371jvsc74a57bd016f988c202c6d5b67fae213fcd58a128d4933d9f6b0a0be940c9d00563b3fdfe",
   "display_name": "Python 3.7.1 64-bit ('blog': conda)"
  },
  "language_info": {
   "codemirror_mode": {
    "name": "ipython",
    "version": 3
   },
   "file_extension": ".py",
   "mimetype": "text/x-python",
   "name": "python",
   "nbconvert_exporter": "python",
   "pygments_lexer": "ipython3",
   "version": "3.7.1"
  }
 },
 "nbformat": 4,
 "nbformat_minor": 5
}