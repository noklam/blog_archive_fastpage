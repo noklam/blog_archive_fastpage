{
 "cells": [
  {
   "source": [
    "# Prevent Pytest truncate your error message\n",
    "> unit test with pytest\n",
    "\n",
    "- toc: true \n",
    "- badges: true\n",
    "- comments: true\n",
    "- author: noklam\n",
    "- categories: [\"python\", \"pytest\", \"great_expectations\"]\n"
   ],
   "cell_type": "markdown",
   "metadata": {}
  },
  {
   "cell_type": "markdown",
   "metadata": {},
   "source": [
    "I am running test with `great_expectations` that validate data in UAT and production server with CI, so it would be nice if the log can capture this.\n",
    "\n",
    "I created a custom error class that would do the job, however, `pytest` truncated my `AssertionError` since it is quite long.\n"
   ]
  },
  {
   "cell_type": "markdown",
   "metadata": {},
   "source": [
    "I am using pytest magic from https://github.com/akaihola/ipython_pytest which allow me to run pytest in a Jupyter notebook cell.\n",
    "\n",
    "It is quite simple with a few tens of lines."
   ]
  },
  {
   "cell_type": "code",
   "execution_count": 1,
   "metadata": {},
   "outputs": [
    {
     "name": "stdout",
     "output_type": "stream",
     "text": [
      "Writing ipython_pytest.py\n"
     ]
    }
   ],
   "source": [
    "%%writefile ipython_pytest.py\n",
    "import os\n",
    "import shlex\n",
    "import sys\n",
    "from pathlib import Path\n",
    "\n",
    "import tempfile\n",
    "from IPython.core import magic\n",
    "from pytest import main as pytest_main\n",
    "\n",
    "\n",
    "TEST_MODULE_NAME = '_ipytesttmp'\n",
    "\n",
    "def pytest(line, cell):\n",
    "    with tempfile.TemporaryDirectory() as root:\n",
    "        oldcwd = os.getcwd()\n",
    "        os.chdir(root)\n",
    "        tests_module_path = '{}.py'.format(TEST_MODULE_NAME)\n",
    "        try:\n",
    "            Path(tests_module_path).write_text(cell)\n",
    "            args = shlex.split(line)\n",
    "            os.environ['COLUMNS'] = '80'\n",
    "            pytest_main(args + [tests_module_path])\n",
    "            if TEST_MODULE_NAME in sys.modules:\n",
    "                del sys.modules[TEST_MODULE_NAME]\n",
    "        finally:\n",
    "            os.chdir(oldcwd)\n",
    "\n",
    "def load_ipython_extension(ipython):\n",
    "    magic.register_cell_magic(pytest)"
   ]
  },
  {
   "cell_type": "code",
   "execution_count": 5,
   "metadata": {},
   "outputs": [
    {
     "name": "stdout",
     "output_type": "stream",
     "text": [
      "The ipython_pytest extension is already loaded. To reload it, use:\n",
      "  %reload_ext ipython_pytest\n"
     ]
    }
   ],
   "source": [
    "# !pip install pytest\n",
    "%load_ext ipython_pytest"
   ]
  },
  {
   "cell_type": "code",
   "execution_count": 7,
   "metadata": {},
   "outputs": [
    {
     "name": "stdout",
     "output_type": "stream",
     "text": [
      "============================= test session starts =============================\n",
      "platform win32 -- Python 3.8.3, pytest-6.2.2, py-1.10.0, pluggy-0.13.1\n",
      "rootdir: C:\\Users\\channo\\AppData\\Local\\Temp\\tmpohw9e_9w\n",
      "collected 1 item\n",
      "\n",
      "_ipytesttmp.py F                                                         [100%]\n",
      "\n",
      "================================== FAILURES ===================================\n",
      "__________________________ test_long_assertion_error __________________________\n",
      "\n",
      "    def test_long_assertion_error():\n",
      "        x = \"placeholder\"\n",
      "        expect = \"abcdefg\\n\"*20 # Long string\n",
      ">       assert x == expect\n",
      "E       AssertionError: assert 'placeholder' == 'abcdefg\\nabc...fg\\nabcdefg\\n'\n",
      "E         + placeholder\n",
      "E         - abcdefg\n",
      "E         - abcdefg\n",
      "E         - abcdefg\n",
      "E         - abcdefg\n",
      "E         - abcdefg\n",
      "E         - abcdefg...\n",
      "E         \n",
      "E         ...Full output truncated (15 lines hidden), use '-vv' to show\n",
      "\n",
      "_ipytesttmp.py:5: AssertionError\n",
      "=========================== short test summary info ===========================\n",
      "FAILED _ipytesttmp.py::test_long_assertion_error - AssertionError: assert 'pl...\n",
      "============================== 1 failed in 0.06s ==============================\n"
     ]
    }
   ],
   "source": [
    "%%pytest\n",
    "\n",
    "def test_long_assertion_error():\n",
    "    x = \"placeholder\"\n",
    "    expect = \"abcdefg\\n\"*20 # Long string\n",
    "    assert x == expect"
   ]
  },
  {
   "cell_type": "markdown",
   "metadata": {},
   "source": [
    "You can see that pytest truncated my error with `...`\n",
    "Here is how I solve ths issue"
   ]
  },
  {
   "cell_type": "code",
   "execution_count": 11,
   "metadata": {},
   "outputs": [
    {
     "name": "stdout",
     "output_type": "stream",
     "text": [
      "============================= test session starts =============================\n",
      "platform win32 -- Python 3.8.3, pytest-6.2.2, py-1.10.0, pluggy-0.13.1 -- c:\\programdata\\miniconda3\\python.exe\n",
      "cachedir: .pytest_cache\n",
      "rootdir: C:\\Users\\channo\\AppData\\Local\\Temp\\tmpyic4vcra\n",
      "collecting ... collected 1 item\n",
      "\n",
      "_ipytesttmp.py::test_long_assertion_error FAILED                         [100%]\n",
      "\n",
      "================================== FAILURES ===================================\n",
      "__________________________ test_long_assertion_error __________________________\n",
      "\n",
      "    def test_long_assertion_error():\n",
      "        x = \"placeholder\"\n",
      "        expect = \"abcdefg\\n\"*20 # Long string\n",
      ">       assert x == expect\n",
      "E       AssertionError: assert 'placeholder' == ('abcdefg\\n'\\n 'abcdefg\\n'\\n 'abcdefg\\n'\\n 'abcdefg\\n'\\n 'abcdefg\\n'\\n 'abcdefg\\n'\\n 'abcdefg\\n'\\n 'abcdefg\\n'\\n 'abcdefg\\n'\\n 'abcdefg\\n'\\n 'abcdefg\\n'\\n 'abcdefg\\n'\\n 'abcdefg\\n'\\n 'abcdefg\\n'\\n 'abcdefg\\n'\\n 'abcdefg\\n'\\n 'abcdefg\\n'\\n 'abcdefg\\n'\\n 'abcdefg\\n'\\n 'abcdefg\\n')\n",
      "E         + placeholder\n",
      "E         - abcdefg\n",
      "E         - abcdefg\n",
      "E         - abcdefg\n",
      "E         - abcdefg\n",
      "E         - abcdefg\n",
      "E         - abcdefg\n",
      "E         - abcdefg\n",
      "E         - abcdefg\n",
      "E         - abcdefg\n",
      "E         - abcdefg\n",
      "E         - abcdefg\n",
      "E         - abcdefg\n",
      "E         - abcdefg\n",
      "E         - abcdefg\n",
      "E         - abcdefg\n",
      "E         - abcdefg\n",
      "E         - abcdefg\n",
      "E         - abcdefg\n",
      "E         - abcdefg\n",
      "E         - abcdefg\n",
      "\n",
      "_ipytesttmp.py:5: AssertionError\n",
      "=========================== short test summary info ===========================\n",
      "FAILED _ipytesttmp.py::test_long_assertion_error - AssertionError: assert 'pl...\n",
      "============================== 1 failed in 0.06s ==============================\n"
     ]
    }
   ],
   "source": [
    "%%pytest -vv\n",
    "\n",
    "def test_long_assertion_error():\n",
    "    x = \"placeholder\"\n",
    "    expect = \"abcdefg\\n\"*20 # Long string\n",
    "    assert x == expect"
   ]
  }
 ],
 "metadata": {
  "kernelspec": {
   "display_name": "Python 3",
   "language": "python",
   "name": "python3"
  },
  "language_info": {
   "codemirror_mode": {
    "name": "ipython",
    "version": 3
   },
   "file_extension": ".py",
   "mimetype": "text/x-python",
   "name": "python",
   "nbconvert_exporter": "python",
   "pygments_lexer": "ipython3",
   "version": "3.8.3"
  }
 },
 "nbformat": 4,
 "nbformat_minor": 4
}