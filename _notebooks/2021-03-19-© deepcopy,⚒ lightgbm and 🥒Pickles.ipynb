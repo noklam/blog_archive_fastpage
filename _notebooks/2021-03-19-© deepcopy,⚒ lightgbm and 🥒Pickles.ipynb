{
 "cells": [
  {
   "cell_type": "markdown",
   "id": "undefined-photography",
   "metadata": {},
   "source": [
    "# deepcopy, lightGBM and pickle\n",
    "> At first sight, these 3 things may not sounds related at all. I am writing this article to share a bug with lightgbm that I encountered and it eventually leads to deeper understanding of what `pickle` really are.\n",
    "\n",
    "\n",
    "- toc: true \n",
    "- badges: true\n",
    "- comments: true\n",
    "- author: noklam\n",
    "- categories: [\"python\", \"pickle\", \"deepcopy\"]\n"
   ]
  },
  {
   "cell_type": "markdown",
   "id": "minus-ranking",
   "metadata": {},
   "source": [
    "To start with, let's look at some code to get some context."
   ]
  },
  {
   "cell_type": "code",
   "execution_count": 6,
   "id": "possible-hormone",
   "metadata": {},
   "outputs": [
    {
     "name": "stdout",
     "output_type": "stream",
     "text": [
      "Parameters of the model:  {'objective': 'regression', 'verbose': -1, 'num_leaves': 3, 'num_iterations': 1, 'early_stopping_round': None}\n"
     ]
    }
   ],
   "source": [
    "import pandas as pd\n",
    "import numpy as np\n",
    "import lightgbm as lgb\n",
    "from copy import deepcopy\n",
    "\n",
    "params = {\n",
    "'objective': 'regression',\n",
    "'verbose': -1,\n",
    "'num_leaves': 3\n",
    "}\n",
    "\n",
    "X = np.random.rand(100,2)\n",
    "Y = np.ravel(np.random.rand(100,1))\n",
    "lgbm = lgb.train(params, lgb.Dataset(X,label=Y),num_boost_round=1)\n",
    "print(\"Parameters of the model: \", lgbm.params)"
   ]
  },
  {
   "cell_type": "code",
   "execution_count": 7,
   "id": "spatial-chapel",
   "metadata": {},
   "outputs": [
    {
     "name": "stdout",
     "output_type": "stream",
     "text": [
      "Finished loading model, total used 1 iterations\n"
     ]
    }
   ],
   "source": [
    "## Deep copy will missing params\n",
    "new_model = deepcopy(lgbm)"
   ]
  },
  {
   "cell_type": "markdown",
   "id": "strong-necessity",
   "metadata": {},
   "source": [
    "You would expect `new_model.parameters` return the same dict right? Not quite."
   ]
  },
  {
   "cell_type": "code",
   "execution_count": 8,
   "id": "younger-dinner",
   "metadata": {},
   "outputs": [
    {
     "name": "stdout",
     "output_type": "stream",
     "text": [
      "Parameters of the copied model:  {}\n"
     ]
    }
   ],
   "source": [
    "print(\"Parameters of the copied model: \", new_model.params)"
   ]
  },
  {
   "cell_type": "markdown",
   "id": "pediatric-infection",
   "metadata": {},
   "source": [
    "Surprise, surprise. It's an empty dict, where did the parameters go? To dive deep into the issue, let's have a look at the source code of `deepcopy` to understand how does it work.\n",
    "\n",
    "reference: https://github.com/python/cpython/blob/e8e341993e3f80a3c456fb8e0219530c93c13151/Lib/copy.py#L128"
   ]
  },
  {
   "cell_type": "markdown",
   "id": "molecular-agenda",
   "metadata": {},
   "source": [
    "```python\n",
    "def deepcopy(x, memo=None, _nil=[]):\n",
    "    \"\"\"Deep copy operation on arbitrary Python objects.\n",
    "    See the module's __doc__ string for more info.\n",
    "    \"\"\"\n",
    "\n",
    "    ... # skip some irrelevant code  \n",
    "\n",
    "    cls = type(x)\n",
    "\n",
    "    copier = _deepcopy_dispatch.get(cls)\n",
    "    if copier is not None:\n",
    "        y = copier(x, memo)\n",
    "    else:\n",
    "        if issubclass(cls, type):\n",
    "            y = _deepcopy_atomic(x, memo)\n",
    "        else:\n",
    "            copier = getattr(x, \"__deepcopy__\", None)\n",
    "            if copier is not None:\n",
    "                y = copier(memo)\n",
    "            else:\n",
    "                ... # skip irrelevant code\n",
    "\n",
    "    # If is its own copy, don't memoize.\n",
    "    if y is not x:\n",
    "        memo[d] = y\n",
    "        _keep_alive(x, memo) # Make sure x lives at least as long as d\n",
    "    return y\n",
    "```"
   ]
  },
  {
   "cell_type": "markdown",
   "id": "obvious-botswana",
   "metadata": {},
   "source": [
    "In particular, line 17 is what we care.  \n",
    "`copier = getattr(x, \"__deepcopy__\", None)`  \n"
   ]
  },
  {
   "cell_type": "markdown",
   "id": "engaging-bradford",
   "metadata": {},
   "source": [
    "If a particular class has implement the `__deepcopy__` method, `deepcopy` will try to invoke that instead of the standard copy. The following dummy class should illustrate this clearly."
   ]
  },
  {
   "cell_type": "code",
   "execution_count": 15,
   "id": "indirect-nickel",
   "metadata": {},
   "outputs": [],
   "source": [
    "class DummyClass():\n",
    "    def __deepcopy__(self, _):\n",
    "        print('Just hanging around and not copying.')"
   ]
  },
  {
   "cell_type": "code",
   "execution_count": 16,
   "id": "understood-niger",
   "metadata": {},
   "outputs": [
    {
     "name": "stdout",
     "output_type": "stream",
     "text": [
      "Just hanging around and not copying.\n"
     ]
    }
   ],
   "source": [
    "o = DummyClass()\n",
    "deepcopy(o)"
   ]
  },
  {
   "cell_type": "markdown",
   "id": "equal-relative",
   "metadata": {},
   "source": [
    "a lightgbm model is actually a `Booster` object and implement its own `__deepcopy__`. It only copy the model string but nothing else, this explains why `deepcopy(lgbm).paramters` is an empty dictionary.\n",
    "\n",
    "```python\n",
    " def __deepcopy__(self, _): \n",
    "     model_str = self.model_to_string(num_iteration=-1) \n",
    "     booster = Booster(model_str=model_str) \n",
    "     return booster \n",
    "```\n",
    "\n",
    "\n",
    "Reference: https://github.com/microsoft/LightGBM/blob/d6ebd063fff7ff9ed557c3f2bcacc8f9456583e6/python-package/lightgbm/basic.py#L2279-L2282"
   ]
  },
  {
   "cell_type": "markdown",
   "id": "small-tobago",
   "metadata": {},
   "source": [
    "Okay, so why `lightgbm` need to have an custom implementation? I thought this is a bug, but turns out there are some deeper reason behind this.\n",
    "I created an issue on GitHub.\n",
    "\n",
    "https://github.com/microsoft/LightGBM/issues/4085\n",
    "Their response is \n",
    "> Custom __deepcopy__ is needed to make `Booster` class picklable."
   ]
  },
  {
   "cell_type": "markdown",
   "id": "second-thursday",
   "metadata": {},
   "source": [
    "# 🥖Italian BMT, 🥬Lettuce  🍅 tomato and some 🥒pickles please"
   ]
  },
  {
   "cell_type": "markdown",
   "id": "structural-opportunity",
   "metadata": {},
   "source": [
    "What does `pickle` really is? and what makes an object `pickable`?"
   ]
  },
  {
   "cell_type": "markdown",
   "id": "equipped-nowhere",
   "metadata": {},
   "source": [
    "> Python Pickle is used to serialize and deserialize a python object structure. Any object on python can be pickled so that it can be saved on disk."
   ]
  },
  {
   "cell_type": "markdown",
   "id": "powerful-tribe",
   "metadata": {},
   "source": [
    "Serialization roughly means translating the data in memory into a format that can be stored on disk or sent over network. It's like ordering a chair from Ikea, they will send you a box, but not a chair.\n",
    "\n",
    "The process of decomposing the chair and put it into a box is `serialization`, while putting it together is `deserialization`."
   ]
  },
  {
   "cell_type": "markdown",
   "id": "specialized-garage",
   "metadata": {},
   "source": [
    "![deserialize and serialize](images/serialize.jpg \"Putting the chair together is `deseralization`, decomposing the chair and make it packable in a box is `serialization`\")"
   ]
  },
  {
   "cell_type": "code",
   "execution_count": null,
   "id": "laughing-sight",
   "metadata": {},
   "outputs": [],
   "source": []
  }
 ],
 "metadata": {
  "kernelspec": {
   "display_name": "Python 3",
   "language": "python",
   "name": "python3"
  },
  "language_info": {
   "codemirror_mode": {
    "name": "ipython",
    "version": 3
   },
   "file_extension": ".py",
   "mimetype": "text/x-python",
   "name": "python",
   "nbconvert_exporter": "python",
   "pygments_lexer": "ipython3",
   "version": "3.8.3"
  }
 },
 "nbformat": 4,
 "nbformat_minor": 5
}
