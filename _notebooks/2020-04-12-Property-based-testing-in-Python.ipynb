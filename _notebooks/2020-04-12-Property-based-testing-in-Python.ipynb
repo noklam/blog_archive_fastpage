{
 "cells": [
  {
   "cell_type": "markdown",
   "metadata": {},
   "source": [
    "# Beyond Unit Testing - What is Property-based Testing?\n",
    "> Do you know what differentiate a Powerpoint prepared by data scientist and a Business Analyst? Your Charts! But not the good way.\n",
    "\n",
    "- toc: true \n",
    "- badges: true\n",
    "- comments: true\n",
    "- categories: [python]\n",
    "- hide: true"
   ]
  },
  {
   "cell_type": "code",
   "execution_count": 56,
   "metadata": {},
   "outputs": [
    {
     "name": "stdout",
     "output_type": "stream",
     "text": [
      "Requirement already satisfied: hypothesis in c:\\programdata\\anaconda3\\lib\\site-packages (5.8.1)\n",
      "Requirement already satisfied: sortedcontainers<3.0.0,>=2.1.0 in c:\\programdata\\anaconda3\\lib\\site-packages (from hypothesis) (2.1.0)\n",
      "Requirement already satisfied: attrs>=19.2.0 in c:\\programdata\\anaconda3\\lib\\site-packages (from hypothesis) (19.2.0)\n",
      "The ipython_pytest extension is already loaded. To reload it, use:\n",
      "  %reload_ext ipython_pytest\n"
     ]
    }
   ],
   "source": [
    "#collapse-hide\n",
    "# https://hypothesis.readthedocs.io/en/latest/quickstart.html\n",
    "!pip install hypothesis \n",
    "%load_ext ipython_pytest"
   ]
  },
  {
   "cell_type": "markdown",
   "metadata": {},
   "source": [
    "Unit Testing is a common technique for software engineering. Even if you are not writing a unit test explicitly, you are still doing unit testing, as your function should at least works for what you intended. You give an input _x_ to a function, it should return _y_, simple as that.\n",
    "\n",
    "For example, imagine we have a function like this."
   ]
  },
  {
   "cell_type": "code",
   "execution_count": 57,
   "metadata": {},
   "outputs": [],
   "source": [
    "def add_ints(x1, x2):\n",
    "    return x1 + x2"
   ]
  },
  {
   "cell_type": "code",
   "execution_count": 58,
   "metadata": {},
   "outputs": [
    {
     "data": {
      "text/plain": [
       "2"
      ]
     },
     "execution_count": 58,
     "metadata": {},
     "output_type": "execute_result"
    }
   ],
   "source": [
    "# Case 1\n",
    "add_ints(1,1)"
   ]
  },
  {
   "cell_type": "code",
   "execution_count": 59,
   "metadata": {},
   "outputs": [
    {
     "ename": "TypeError",
     "evalue": "unsupported operand type(s) for +: 'int' and 'str'",
     "output_type": "error",
     "traceback": [
      "\u001b[1;31m---------------------------------------------------------------------------\u001b[0m",
      "\u001b[1;31mTypeError\u001b[0m                                 Traceback (most recent call last)",
      "\u001b[1;32m<ipython-input-59-99ea9d9c8984>\u001b[0m in \u001b[0;36m<module>\u001b[1;34m\u001b[0m\n\u001b[0;32m      1\u001b[0m \u001b[1;31m# Case 2\u001b[0m\u001b[1;33m\u001b[0m\u001b[1;33m\u001b[0m\u001b[1;33m\u001b[0m\u001b[0m\n\u001b[1;32m----> 2\u001b[1;33m \u001b[0madd_ints\u001b[0m\u001b[1;33m(\u001b[0m\u001b[1;36m1\u001b[0m\u001b[1;33m,\u001b[0m\u001b[1;34m'2'\u001b[0m\u001b[1;33m)\u001b[0m\u001b[1;33m\u001b[0m\u001b[1;33m\u001b[0m\u001b[0m\n\u001b[0m",
      "\u001b[1;32m<ipython-input-57-d4599be2ffda>\u001b[0m in \u001b[0;36madd_ints\u001b[1;34m(x1, x2)\u001b[0m\n\u001b[0;32m      1\u001b[0m \u001b[1;32mdef\u001b[0m \u001b[0madd_ints\u001b[0m\u001b[1;33m(\u001b[0m\u001b[0mx1\u001b[0m\u001b[1;33m,\u001b[0m \u001b[0mx2\u001b[0m\u001b[1;33m)\u001b[0m\u001b[1;33m:\u001b[0m\u001b[1;33m\u001b[0m\u001b[1;33m\u001b[0m\u001b[0m\n\u001b[1;32m----> 2\u001b[1;33m     \u001b[1;32mreturn\u001b[0m \u001b[0mx1\u001b[0m \u001b[1;33m+\u001b[0m \u001b[0mx2\u001b[0m\u001b[1;33m\u001b[0m\u001b[1;33m\u001b[0m\u001b[0m\n\u001b[0m",
      "\u001b[1;31mTypeError\u001b[0m: unsupported operand type(s) for +: 'int' and 'str'"
     ]
    }
   ],
   "source": [
    "# Case 2\n",
    "add_ints(1,'2')"
   ]
  },
  {
   "cell_type": "code",
   "execution_count": null,
   "metadata": {},
   "outputs": [],
   "source": [
    "# Case 3\n",
    "add_ints('2', '2')"
   ]
  },
  {
   "cell_type": "markdown",
   "metadata": {},
   "source": [
    "The first two cases are expected behaviors, but the last case is a side-effect of how Python works. We should probably checks the input are numbers, otherwise we should throw error explicitly. Now, checking function behave properly with intend use is easy, to test the opposite is much harder. You have to test a lot of edge case, which is much harder and make your test verbose.\n",
    "\n",
    "In this article, I will introduce a library called `Hypothesis` that does property-based testing. If none of this make sense to you, please bare with me, I will explain with simple examples. I found the name of `Hypothesis` and property-based testing isn't adding a lot of information, but they are useful."
   ]
  },
  {
   "cell_type": "markdown",
   "metadata": {},
   "source": [
    "__Hypothesis__ comes in handy that it generated artificial input to make your test fails. Instead of specifying an input, you specify what kind of input you want to test loosely. For example, if you expect your input is number, often you may want to test when the value is negative, positive, a floating point number, or if it exceeds certain range. This list of condition can expands quickly, and __Hypothesis__ make this easier."
   ]
  },
  {
   "cell_type": "markdown",
   "metadata": {},
   "source": [
    "# Start with a simple function"
   ]
  },
  {
   "cell_type": "markdown",
   "metadata": {},
   "source": [
    "Let's stick with our simple `add_ints` function above. To keep it simple, let test for this 3 cases first.\n",
    "\n",
    "1. Adding two number -> Expect Pass\n",
    "2. Adding number and string -> Expect Fail\n",
    "3. Adding two number -> Expect Fail"
   ]
  },
  {
   "cell_type": "code",
   "execution_count": 64,
   "metadata": {},
   "outputs": [
    {
     "name": "stdout",
     "output_type": "stream",
     "text": [
      "============================= test session starts =============================\n",
      "platform win32 -- Python 3.7.4, pytest-5.2.1, py-1.8.0, pluggy-0.13.0\n",
      "rootdir: C:\\Users\\CHANNO\\AppData\\Local\\Temp\\tmp79u2a6x6\n",
      "plugins: hypothesis-5.8.1, arraydiff-0.3, doctestplus-0.4.0, openfiles-0.4.0, remotedata-0.3.2\n",
      "collected 3 items\n",
      "\n",
      "_ipytesttmp.py .xF                                                       [100%]\n",
      "\n",
      "================================== FAILURES ===================================\n",
      "____________________________ test_add_ints_string _____________________________\n",
      "[XPASS(strict)] \n",
      "=================== 1 failed, 1 passed, 1 xfailed in 0.12s ====================\n"
     ]
    }
   ],
   "source": [
    "%%pytest \n",
    "# ipython magic to run pytest within a cell. This whole blog is written in a Jupyter Notebook!\n",
    "# https://github.com/akaihola/ipython_pytest/blob/master/ipython_pytest.py\n",
    "\n",
    "import pytest\n",
    "\n",
    "def add_ints(x1, x2):\n",
    "    return x1 + x2\n",
    "\n",
    "def test_add_ints():\n",
    "    assert add_ints(1,1) == 2\n",
    "\n",
    "@pytest.mark.xfail()\n",
    "def test_add_ints_fail():\n",
    "    assert add_ints(1,'2')\n",
    "\n",
    "@pytest.mark.xfail(strict=True)\n",
    "def test_add_ints_string():\n",
    "    assert add_ints('2', '2')\n",
    "    "
   ]
  },
  {
   "cell_type": "markdown",
   "metadata": {},
   "source": [
    "In `pytest`, you can use a mark `@pytest.mark.xfail` to annotate a function is expected to fail the test. We have 1 pass, 1xfailed, 1 failed.\n",
    "\n",
    "`_ipytesttmp.py .xF`\n",
    "indicates the last test is failed. Let's try to fix it by throwing an error is input type is not a number."
   ]
  },
  {
   "cell_type": "code",
   "execution_count": 65,
   "metadata": {},
   "outputs": [
    {
     "name": "stdout",
     "output_type": "stream",
     "text": [
      "============================= test session starts =============================\n",
      "platform win32 -- Python 3.7.4, pytest-5.2.1, py-1.8.0, pluggy-0.13.0\n",
      "rootdir: C:\\Users\\CHANNO\\AppData\\Local\\Temp\\tmpfrh2uipy\n",
      "plugins: hypothesis-5.8.1, arraydiff-0.3, doctestplus-0.4.0, openfiles-0.4.0, remotedata-0.3.2\n",
      "collected 3 items\n",
      "\n",
      "_ipytesttmp.py .xx                                                       [100%]\n",
      "\n",
      "======================== 1 passed, 2 xfailed in 0.10s =========================\n"
     ]
    }
   ],
   "source": [
    "%%pytest \n",
    "# ipython magic to run pytest within a cell. This whole blog is written in a Jupyter Notebook!\n",
    "# https://github.com/akaihola/ipython_pytest/blob/master/ipython_pytest.py\n",
    "\n",
    "import pytest\n",
    "\n",
    "def add_ints(x1, x2):\n",
    "    if isinstance(x1, int) and isinstance(x2, int):\n",
    "        return x1 + x2\n",
    "    else:\n",
    "        raise TypeError(f'Make sure your input is a number x1 {type(x1)}, x2 {type(x2)}')\n",
    "    \n",
    "\n",
    "def test_add_ints():\n",
    "    assert add_ints(1,1) == 2\n",
    "\n",
    "@pytest.mark.xfail()\n",
    "def test_add_ints_fail():\n",
    "    assert add_ints(1,'2')\n",
    "\n",
    "@pytest.mark.xfail(strict=True)\n",
    "def test_add_ints_string():\n",
    "    assert add_ints('2', '2')\n",
    "    "
   ]
  },
  {
   "cell_type": "markdown",
   "metadata": {},
   "source": [
    "Okay, now we checks if input are integers. In reality, this if often an iterative process. You start with coming up with test cases, then every now and then, you hit some edge cases and you add that into your collections of test cases. \n",
    "\n",
    "How can we make out test cases more robust to input? `Hypothesis` is exactly the tool you need."
   ]
  },
  {
   "cell_type": "markdown",
   "metadata": {},
   "source": [
    "# `strategy`, your auto-genenerated input for unit test"
   ]
  },
  {
   "cell_type": "markdown",
   "metadata": {},
   "source": [
    "`strategy` is your input for unit test. Instead of specify a number, or a string, you specify what kind of input you want, and `Hypothesis` wouuld take care the rest of it. You can even composite different `strategies` to form more complicated input.\n",
    "\n",
    "But let's keep it simple, we would just use integer for this demo."
   ]
  },
  {
   "cell_type": "code",
   "execution_count": 72,
   "metadata": {},
   "outputs": [],
   "source": [
    "from hypothesis import strategies as st"
   ]
  },
  {
   "cell_type": "code",
   "execution_count": 79,
   "metadata": {},
   "outputs": [
    {
     "name": "stdout",
     "output_type": "stream",
     "text": [
      "============================= test session starts =============================\n",
      "platform win32 -- Python 3.7.4, pytest-5.2.1, py-1.8.0, pluggy-0.13.0\n",
      "rootdir: C:\\Users\\CHANNO\\AppData\\Local\\Temp\\tmpmdbi_h6f\n",
      "plugins: hypothesis-5.8.1, arraydiff-0.3, doctestplus-0.4.0, openfiles-0.4.0, remotedata-0.3.2\n",
      "collected 1 item\n",
      "\n",
      "_ipytesttmp.py F                                                         [100%]\n",
      "\n",
      "================================== FAILURES ===================================\n",
      "________________________________ test_add_ints ________________________________\n",
      "\n",
      "    @given(st.integers(), st.integers())\n",
      ">   def test_add_ints(x1, x2):\n",
      "\n",
      "_ipytesttmp.py:15: \n",
      "_ _ _ _ _ _ _ _ _ _ _ _ _ _ _ _ _ _ _ _ _ _ _ _ _ _ _ _ _ _ _ _ _ _ _ _ _ _ _ _\n",
      "\n",
      "x1 = 0, x2 = 0\n",
      "\n",
      "    @given(st.integers(), st.integers())\n",
      "    def test_add_ints(x1, x2):\n",
      ">       assert add_ints(x1, x2)\n",
      "E       assert 0\n",
      "E        +  where 0 = add_ints(0, 0)\n",
      "\n",
      "_ipytesttmp.py:16: AssertionError\n",
      "--------------------------------- Hypothesis ----------------------------------\n",
      "Falsifying example: test_add_ints(\n",
      "    x1=0, x2=0,\n",
      ")\n",
      "============================== 1 failed in 0.30s ==============================\n"
     ]
    }
   ],
   "source": [
    "%%pytest \n",
    "# ipython magic to run pytest within a cell. This whole blog is written in a Jupyter Notebook!\n",
    "# https://github.com/akaihola/ipython_pytest/blob/master/ipython_pytest.py\n",
    "\n",
    "import pytest\n",
    "from hypothesis import given\n",
    "from hypothesis import strategies as st\n",
    "\n",
    "def add_ints(x1, x2):\n",
    "    if isinstance(x1, int) and isinstance(x2, int):\n",
    "        return x1 + x2\n",
    "    else:\n",
    "        raise TypeError(f'Make sure your input is a number x1 {type(x1)}, x2 {type(x2)}')\n",
    "    \n",
    "@given(st.integers(), st.integers())\n",
    "def test_add_ints(x1, x2):\n",
    "    assert add_ints(x1, x2)"
   ]
  },
  {
   "cell_type": "markdown",
   "metadata": {},
   "source": [
    "The test was simple, as should pass as long as no error was thrown. Look what `Hypothesis` found, it found when both x1, x2=0, the assertion will fail, because we are asserting 0 + 0 = 0, thus evaluated as False in Python.\n",
    "\n",
    "Hence, I modified my test to not assert anything, it should just keep silent as long as no error is thrown.\n"
   ]
  },
  {
   "cell_type": "code",
   "execution_count": null,
   "metadata": {},
   "outputs": [],
   "source": [
    "@given(st.integers(), st.integers())\n",
    "def test_add_ints(x1, x2):\n",
    "    assert add_ints(x1, x2)"
   ]
  },
  {
   "cell_type": "code",
   "execution_count": 80,
   "metadata": {},
   "outputs": [
    {
     "name": "stdout",
     "output_type": "stream",
     "text": [
      "============================= test session starts =============================\n",
      "platform win32 -- Python 3.7.4, pytest-5.2.1, py-1.8.0, pluggy-0.13.0\n",
      "rootdir: C:\\Users\\CHANNO\\AppData\\Local\\Temp\\tmpwicd08ny\n",
      "plugins: hypothesis-5.8.1, arraydiff-0.3, doctestplus-0.4.0, openfiles-0.4.0, remotedata-0.3.2\n",
      "collected 1 item\n",
      "\n",
      "_ipytesttmp.py .                                                         [100%]\n",
      "\n",
      "============================== 1 passed in 0.25s ==============================\n"
     ]
    }
   ],
   "source": [
    "%%pytest \n",
    "# ipython magic to run pytest within a cell. This whole blog is written in a Jupyter Notebook!\n",
    "# https://github.com/akaihola/ipython_pytest/blob/master/ipython_pytest.py\n",
    "\n",
    "import pytest\n",
    "from hypothesis import given\n",
    "from hypothesis import strategies as st\n",
    "\n",
    "def add_ints(x1, x2):\n",
    "    if isinstance(x1, int) and isinstance(x2, int):\n",
    "        return x1 + x2\n",
    "    else:\n",
    "        raise TypeError(f'Make sure your input is a number x1 {type(x1)}, x2 {type(x2)}')\n",
    "    \n",
    "@given(st.integers(), st.integers())\n",
    "def test_add_ints(x1, x2):\n",
    "    add_ints(x1, x2)"
   ]
  },
  {
   "cell_type": "markdown",
   "metadata": {},
   "source": [
    "Yes, now our test finally pass."
   ]
  }
 ],
 "metadata": {
  "kernelspec": {
   "display_name": "Python 3",
   "language": "python",
   "name": "python3"
  },
  "language_info": {
   "codemirror_mode": {
    "name": "ipython",
    "version": 3
   },
   "file_extension": ".py",
   "mimetype": "text/x-python",
   "name": "python",
   "nbconvert_exporter": "python",
   "pygments_lexer": "ipython3",
   "version": "3.7.4"
  },
  "toc": {
   "base_numbering": 1,
   "nav_menu": {},
   "number_sections": true,
   "sideBar": true,
   "skip_h1_title": false,
   "title_cell": "Table of Contents",
   "title_sidebar": "Contents",
   "toc_cell": false,
   "toc_position": {},
   "toc_section_display": true,
   "toc_window_display": false
  },
  "varInspector": {
   "cols": {
    "lenName": 16,
    "lenType": 16,
    "lenVar": 40
   },
   "kernels_config": {
    "python": {
     "delete_cmd_postfix": "",
     "delete_cmd_prefix": "del ",
     "library": "var_list.py",
     "varRefreshCmd": "print(var_dic_list())"
    },
    "r": {
     "delete_cmd_postfix": ") ",
     "delete_cmd_prefix": "rm(",
     "library": "var_list.r",
     "varRefreshCmd": "cat(var_dic_list()) "
    }
   },
   "types_to_exclude": [
    "module",
    "function",
    "builtin_function_or_method",
    "instance",
    "_Feature"
   ],
   "window_display": false
  }
 },
 "nbformat": 4,
 "nbformat_minor": 2
}
