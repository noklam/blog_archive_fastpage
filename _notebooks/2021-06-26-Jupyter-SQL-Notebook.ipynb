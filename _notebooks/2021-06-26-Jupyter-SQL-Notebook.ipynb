{
 "cells": [
  {
   "cell_type": "markdown",
   "id": "initial-yahoo",
   "metadata": {},
   "source": [
    "# Jupyter Superpower - Extend SQL analysis with Python\n",
    "> Making collboration with Notebook possible and share perfect SQL analysis with Notebook.\n",
    "\n",
    "\n",
    "- toc: false \n",
    "- badges: true\n",
    "- comments: true\n",
    "- author: noklam\n",
    "- categories: [\"python\", \"reviewnb\", \"sql\"]\n",
    "- hide: false"
   ]
  },
  {
   "cell_type": "markdown",
   "id": "damaged-burner",
   "metadata": {},
   "source": [
    "![Dbeaver](images/reviewnb/dbeaver.png \"Screenshot of a typical IDE (DBeaver)\")"
   ]
  },
  {
   "cell_type": "code",
   "execution_count": 2,
   "id": "renewable-resource",
   "metadata": {},
   "outputs": [
    {
     "data": {
      "text/plain": [
       "[WindowsPath('../_demo/sql_notebook/README.md')]"
      ]
     },
     "execution_count": 2,
     "metadata": {},
     "output_type": "execute_result"
    }
   ],
   "source": [
    "#collapse-hide\n",
    "# !pip install ipython_sql\n",
    "%load_ext sql\n",
    "%config SqlMagic.displaycon = False\n",
    "%config SqlMagic.feedback = False\n",
    "# Download the file from https://github.com/cwoodruff/ChinookDatabase/blob/master/Scripts/Chinook_Sqlite.sqlite\n",
    "%sql sqlite:///sales.sqlite.db\n",
    "    \n",
    "from pathlib import Path\n",
    "\n",
    "DATA_DIR = Path('../_demo/sql_notebook')\n",
    "list(DATA_DIR.iterdir())"
   ]
  },
  {
   "cell_type": "code",
   "execution_count": 3,
   "id": "criminal-netscape",
   "metadata": {},
   "outputs": [
    {
     "data": {
      "text/html": [
       "<table>\n",
       "    <tr>\n",
       "        <th>ProductId</th>\n",
       "        <th>Sum(Unit)</th>\n",
       "    </tr>\n",
       "    <tr>\n",
       "        <td>1</td>\n",
       "        <td>210</td>\n",
       "    </tr>\n",
       "    <tr>\n",
       "        <td>2</td>\n",
       "        <td>50</td>\n",
       "    </tr>\n",
       "    <tr>\n",
       "        <td>3</td>\n",
       "        <td>30</td>\n",
       "    </tr>\n",
       "</table>"
      ],
      "text/plain": [
       "[(1, 210), (2, 50), (3, 30)]"
      ]
     },
     "execution_count": 3,
     "metadata": {},
     "output_type": "execute_result"
    }
   ],
   "source": [
    "%%sql\n",
    "select ProductId, Sum(Unit) from Sales group by ProductId;"
   ]
  },
  {
   "cell_type": "markdown",
   "id": "powerful-mouth",
   "metadata": {},
   "source": [
    "If you have everwritten SQL query to extract data from a database, you are probably familiar with a UI similar to this. The IDE offers features like auto-completion, visualize the query output, display the table schema and the ER diagram. Whenever you need to write query, this is your go-to tool. However, I found that adding `Jupyter Notebook` into the toolkits can improve my productivity and it complements crucial features that IDE cannot help."
   ]
  },
  {
   "cell_type": "markdown",
   "id": "hydraulic-wagner",
   "metadata": {},
   "source": [
    "## Notebook as a self-contained report"
   ]
  },
  {
   "cell_type": "markdown",
   "id": "nasty-volleyball",
   "metadata": {},
   "source": [
    "As a data scientist/data analyst, you writes SQL queries for ad-hoc analyses all the time. After getting the right data, you makes nice looking charts and put them in a PowerPoint and you are ready to present your findings. Unlike a well-define ETL job, you are exploring the data and testing your hypoethesis all the time. You make assumptions, which is often wrong but you only realized it after a few weeks. But all you got is a CSV that you cannot recalled how it was generated in the first place.\n",
    "\n",
    "Data is not stationary, why should your analysis be? I have seen many screenshots, fragemented scripts flying around in organization. People re-do similar analysis because they cannot reproduce the result after a while, they don't expect the adhoc analysis would become a regular report. It would be really nice to keep your findings, charts, data and code in the same place, so you can extend it or update it afterward. "
   ]
  },
  {
   "cell_type": "markdown",
   "id": "circular-iceland",
   "metadata": {},
   "source": [
    "## Notebook as an extension of IDE"
   ]
  },
  {
   "cell_type": "markdown",
   "id": "experimental-leeds",
   "metadata": {},
   "source": [
    "When you code in a SQL IDE, you are limited to SQL only. Writing SQL query in notebook give you extra flexiblity, you can write python code to extends your query. \n",
    "\n",
    "* Complex logic that is not easy(impossible) to be done in SQL. \n",
    "* Make informative charts right after your query without exporting CSV.\n",
    "\n",
    "For example, you can pipe your `SQL` query with `pandas` and then make a plot. It allows you to generate analysis with richer information query. If you find bugs in your code, you can simply modify the code and re-run the analysis. This allows you to extend your data without the need of exporting CSVs. This smoothen the process and make the analysis easier to be reproduced. In contrast, if you choose to export a CSV, it is almost certain that no one will be able to reproduce the data except the author. "
   ]
  },
  {
   "cell_type": "markdown",
   "id": "incorrect-browse",
   "metadata": {},
   "source": [
    "You can make use of the `ipython_sql` library to make query in a notebook. To do this, you need to use the **magic** function with the inline magic `%` or cell magic `%%`."
   ]
  },
  {
   "cell_type": "code",
   "execution_count": 4,
   "id": "quarterly-imperial",
   "metadata": {},
   "outputs": [
    {
     "data": {
      "text/html": [
       "<table>\n",
       "    <tr>\n",
       "        <th>ProductId</th>\n",
       "        <th>Unit</th>\n",
       "        <th>IsDeleted</th>\n",
       "    </tr>\n",
       "    <tr>\n",
       "        <td>1</td>\n",
       "        <td>10</td>\n",
       "        <td>1</td>\n",
       "    </tr>\n",
       "    <tr>\n",
       "        <td>1</td>\n",
       "        <td>10</td>\n",
       "        <td>1</td>\n",
       "    </tr>\n",
       "    <tr>\n",
       "        <td>2</td>\n",
       "        <td>10</td>\n",
       "        <td>0</td>\n",
       "    </tr>\n",
       "</table>"
      ],
      "text/plain": [
       "[(1, 10, 1), (1, 10, 1), (2, 10, 0)]"
      ]
     },
     "execution_count": 4,
     "metadata": {},
     "output_type": "execute_result"
    }
   ],
   "source": [
    "%%sql\n",
    "SELECT * from sales LIMIT 3"
   ]
  },
  {
   "cell_type": "code",
   "execution_count": 7,
   "id": "assigned-crash",
   "metadata": {
    "scrolled": true
   },
   "outputs": [
    {
     "data": {
      "text/html": [
       "<table>\n",
       "    <tr>\n",
       "        <th>ProductId</th>\n",
       "        <th>Unit</th>\n",
       "        <th>IsDeleted</th>\n",
       "    </tr>\n",
       "    <tr>\n",
       "        <td>1</td>\n",
       "        <td>10</td>\n",
       "        <td>1</td>\n",
       "    </tr>\n",
       "    <tr>\n",
       "        <td>1</td>\n",
       "        <td>10</td>\n",
       "        <td>1</td>\n",
       "    </tr>\n",
       "    <tr>\n",
       "        <td>2</td>\n",
       "        <td>10</td>\n",
       "        <td>0</td>\n",
       "    </tr>\n",
       "</table>"
      ],
      "text/plain": [
       "[(1, 10, 1), (1, 10, 1), (2, 10, 0)]"
      ]
     },
     "execution_count": 7,
     "metadata": {},
     "output_type": "execute_result"
    }
   ],
   "source": [
    "sales = %sql SELECT * from sales LIMIT 3\n",
    "sales"
   ]
  },
  {
   "cell_type": "markdown",
   "id": "acquired-storm",
   "metadata": {},
   "source": [
    "To make it fancier, you can even paramterized your query easily with variable. Tools like [papermill](https://www.bing.com/search?q=github+paramter+notebook&cvid=5b17218ec803438fb1ca41212d53d90a&FORM=ANAB01&PC=U531) allows you to parameterized your notebook. If you execute the notebook regularly with a scheduler, you can get a updated dashboard. To reference the python variable, the `$` sign is used."
   ]
  },
  {
   "cell_type": "code",
   "execution_count": 8,
   "id": "verbal-escape",
   "metadata": {},
   "outputs": [],
   "source": [
    "table = \"sales\"\n",
    "query = f\"SELECT * from {table} LIMIT 3\"\n",
    "sales = %sql $query"
   ]
  },
  {
   "cell_type": "code",
   "execution_count": 9,
   "id": "indoor-modification",
   "metadata": {},
   "outputs": [
    {
     "data": {
      "text/html": [
       "<table>\n",
       "    <tr>\n",
       "        <th>ProductId</th>\n",
       "        <th>Unit</th>\n",
       "        <th>IsDeleted</th>\n",
       "    </tr>\n",
       "    <tr>\n",
       "        <td>1</td>\n",
       "        <td>10</td>\n",
       "        <td>1</td>\n",
       "    </tr>\n",
       "    <tr>\n",
       "        <td>1</td>\n",
       "        <td>10</td>\n",
       "        <td>1</td>\n",
       "    </tr>\n",
       "    <tr>\n",
       "        <td>2</td>\n",
       "        <td>10</td>\n",
       "        <td>0</td>\n",
       "    </tr>\n",
       "</table>"
      ],
      "text/plain": [
       "[(1, 10, 1), (1, 10, 1), (2, 10, 0)]"
      ]
     },
     "execution_count": 9,
     "metadata": {},
     "output_type": "execute_result"
    }
   ],
   "source": [
    "sales"
   ]
  },
  {
   "cell_type": "markdown",
   "id": "serial-scheduling",
   "metadata": {},
   "source": [
    "With a little bit of python code, you can make some nice plot to show your insight or even make an interactive plot if you want. This is a very power way to extend your analysis."
   ]
  },
  {
   "cell_type": "code",
   "execution_count": 26,
   "id": "hundred-bottle",
   "metadata": {},
   "outputs": [
    {
     "data": {
      "image/png": "[encoded data removed]",
      "text/plain": [
       "<Figure size 432x288 with 1 Axes>"
      ]
     },
     "metadata": {
      "needs_background": "light"
     },
     "output_type": "display_data"
    }
   ],
   "source": [
    "import seaborn as sns\n",
    "sales = %sql SELECT * FROM SALES\n",
    "sales_df = sales.DataFrame()\n",
    "sales_df = sales_df.groupby('ProductId', as_index=False).sum()\n",
    "ax = sns.barplot(x='ProductId', y='Unit', data=sales_df)\n",
    "ax.set_title('Sales by ProductId');"
   ]
  },
  {
   "cell_type": "markdown",
   "id": "instrumental-tract",
   "metadata": {},
   "source": [
    "## Notebook as a collaboration tool\n",
    "Notebook is flexible and it fits extremely well with exploratory data analysis. To share to a non-coder, you can share the notebook or export it as an HTML file. They can read the report or any cached executed result. If they need to verify the data or add some extra plots, they can do it easily themselves. \n",
    " \n",
    "However, Notebooks have infamous reputations, it's not friendly to version control, it's hard to collaborate with notebook. Luckily, there are efforts that make collaboration in notebook a lot easier now."
   ]
  },
  {
   "cell_type": "markdown",
   "id": "detected-morris",
   "metadata": {},
   "source": [
    "Here what I did not show you is that the table has a `is_deleted` column. Some of the records are invalid and we should exclude them. In reality, this happens frequently when you are dealing with hundreds of tables with a lot of dependencies. Often, these tables are made for application, transaction, they do not really think about analytic. Therefore, the one who consume the data need to be a domain expert about these tables, understand the pitfall. This could be the data analyst, SME or the developer of that particular application. It takes many iterations to get the correct data that can be used to produce useful insight."
   ]
  },
  {
   "cell_type": "markdown",
   "id": "lyric-moldova",
   "metadata": {},
   "source": [
    "With ReviewNB, you can publish your result and invite some domain expert to review your analysis. This is where notebook shine, this kind of workflow is not possible with just the SQL script or a screenshot of your finding."
   ]
  },
  {
   "cell_type": "markdown",
   "id": "voluntary-piano",
   "metadata": {},
   "source": [
    "### Step 1 - Review PR on web"
   ]
  },
  {
   "cell_type": "markdown",
   "id": "neural-courage",
   "metadata": {},
   "source": [
    "![Step1](images/reviewnb/step_1.png \"Start a discussion on a cell block\")"
   ]
  },
  {
   "cell_type": "markdown",
   "id": "accompanied-explosion",
   "metadata": {},
   "source": [
    "With ReviewNB, you can view your notebook and add comments on a particular cell, just like code review. This lower the technical barrier as your analyst do not have to understand Git. You can review changes and make discussion on web without the need to pull code at all. As soon as your analyst make suggestion, you can make changes accordingly."
   ]
  },
  {
   "cell_type": "markdown",
   "id": "talented-classroom",
   "metadata": {},
   "source": [
    "### Step 2 - Review Changes"
   ]
  },
  {
   "cell_type": "markdown",
   "id": "tough-recall",
   "metadata": {},
   "source": [
    "![Step2](images/reviewnb/step_2.png \"Review changes side by side\")"
   ]
  },
  {
   "cell_type": "markdown",
   "id": "conservative-remedy",
   "metadata": {},
   "source": [
    "Once you have made changes for the notebook, you can review it side by side on ReviewNB. This is very trivial to do it locally without ReviewNB. As Git tracks changes in line level, you can't really read the changes as it consists of a lot of noise. It would also be impossible to view changes about the chart with git."
   ]
  },
  {
   "cell_type": "markdown",
   "id": "pressed-mounting",
   "metadata": {},
   "source": [
    "### Step 3 - Resolve Discussion"
   ]
  },
  {
   "cell_type": "markdown",
   "id": "connected-reminder",
   "metadata": {},
   "source": [
    "![Step3](images/reviewnb/step_3.png \"Resolve the discussion.\")"
   ]
  },
  {
   "cell_type": "markdown",
   "id": "spectacular-crowd",
   "metadata": {},
   "source": [
    "Once the changes are reviewed, you can resolve the discussion and share your insight with the team."
   ]
  },
  {
   "cell_type": "markdown",
   "id": "french-planning",
   "metadata": {},
   "source": [
    "I hope this convince you that it is possible to collaborate with notebook with proper software in place. Regarless if you use notebook or not, you should consider to adopt similar workflow. Make your analysis reproducible today!"
   ]
  },
  {
   "cell_type": "code",
   "execution_count": null,
   "id": "attached-shirt",
   "metadata": {},
   "outputs": [],
   "source": []
  }
 ],
 "metadata": {
  "kernelspec": {
   "display_name": "Python 3",
   "language": "python",
   "name": "python3"
  },
  "language_info": {
   "codemirror_mode": {
    "name": "ipython",
    "version": 3
   },
   "file_extension": ".py",
   "mimetype": "text/x-python",
   "name": "python",
   "nbconvert_exporter": "python",
   "pygments_lexer": "ipython3",
   "version": "3.8.3"
  },
  "toc": {
   "base_numbering": 1,
   "nav_menu": {},
   "number_sections": false,
   "sideBar": true,
   "skip_h1_title": false,
   "title_cell": "Table of Contents",
   "title_sidebar": "Contents",
   "toc_cell": false,
   "toc_position": {
    "height": "calc(100% - 180px)",
    "left": "10px",
    "top": "150px",
    "width": "426.667px"
   },
   "toc_section_display": true,
   "toc_window_display": true
  }
 },
 "nbformat": 4,
 "nbformat_minor": 5
}
