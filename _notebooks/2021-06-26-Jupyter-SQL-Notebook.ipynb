{
 "cells": [
  {
   "cell_type": "markdown",
   "id": "initial-yahoo",
   "metadata": {},
   "source": [
    "# Jupyter Notebook for Better SQL Analysis - Effective workflow for Data Scientists\n",
    "> \n",
    "\n",
    "\n",
    "- toc: true \n",
    "- badges: true\n",
    "- comments: true\n",
    "- author: noklam\n",
    "- categories: [\"python\", \"reviewnb\"]\n",
    "- hide: false\n"
   ]
  },
  {
   "cell_type": "code",
   "execution_count": 1,
   "id": "wireless-original",
   "metadata": {},
   "outputs": [
    {
     "data": {
      "text/plain": [
       "[WindowsPath('../_demo/sql_notebook/Chinook_Sqlite.sqlite'),\n",
       " WindowsPath('../_demo/sql_notebook/create_table.sql'),\n",
       " WindowsPath('../_demo/sql_notebook/README.md')]"
      ]
     },
     "execution_count": 1,
     "metadata": {},
     "output_type": "execute_result"
    }
   ],
   "source": [
    "from pathlib import Path\n",
    "\n",
    "DATA_DIR = Path('../_demo/sql_notebook')\n",
    "list(DATA_DIR.iterdir())"
   ]
  },
  {
   "cell_type": "code",
   "execution_count": 2,
   "id": "better-occasions",
   "metadata": {},
   "outputs": [],
   "source": [
    "# !pip install ipython_sql\n",
    "%load_ext sql"
   ]
  },
  {
   "cell_type": "code",
   "execution_count": 3,
   "id": "medical-setup",
   "metadata": {},
   "outputs": [],
   "source": [
    "# Download the file from https://github.com/cwoodruff/ChinookDatabase/blob/master/Scripts/Chinook_Sqlite.sqlite\n",
    "%sql sqlite:///sales.sqlite.db"
   ]
  },
  {
   "cell_type": "code",
   "execution_count": 4,
   "id": "legislative-absence",
   "metadata": {},
   "outputs": [
    {
     "name": "stdout",
     "output_type": "stream",
     "text": [
      " * sqlite:///sales.sqlite.db\n",
      "Done.\n"
     ]
    },
    {
     "data": {
      "text/html": [
       "<table>\n",
       "    <tr>\n",
       "        <th>ProductId</th>\n",
       "        <th>Sum(Unit)</th>\n",
       "    </tr>\n",
       "    <tr>\n",
       "        <td>1</td>\n",
       "        <td>210</td>\n",
       "    </tr>\n",
       "    <tr>\n",
       "        <td>2</td>\n",
       "        <td>50</td>\n",
       "    </tr>\n",
       "    <tr>\n",
       "        <td>3</td>\n",
       "        <td>30</td>\n",
       "    </tr>\n",
       "</table>"
      ],
      "text/plain": [
       "[(1, 210), (2, 50), (3, 30)]"
      ]
     },
     "execution_count": 4,
     "metadata": {},
     "output_type": "execute_result"
    }
   ],
   "source": [
    "%%sql\n",
    "select ProductId, Sum(Unit) from Sales group by ProductId"
   ]
  },
  {
   "cell_type": "markdown",
   "id": "running-header",
   "metadata": {},
   "source": [
    "# A Perfect SQL Analysis\n"
   ]
  },
  {
   "cell_type": "code",
   "execution_count": 5,
   "id": "controlling-namibia",
   "metadata": {
    "collapsed": true
   },
   "outputs": [
    {
     "name": "stdout",
     "output_type": "stream",
     "text": [
      "Requirement already satisfied: ipython_sql in c:\\programdata\\miniconda3\\lib\\site-packages (0.4.0)\n",
      "Requirement already satisfied: sqlalchemy>=0.6.7 in c:\\programdata\\miniconda3\\lib\\site-packages (from ipython_sql) (1.4.19)\n",
      "Requirement already satisfied: ipython>=1.0 in c:\\programdata\\miniconda3\\lib\\site-packages (from ipython_sql) (7.21.0)\n",
      "Requirement already satisfied: ipython-genutils>=0.1.0 in c:\\programdata\\miniconda3\\lib\\site-packages (from ipython_sql) (0.2.0)\n",
      "Requirement already satisfied: sqlparse in c:\\users\\channo\\onedrive - the chinese university of hong kong\\github code\\fork\\sqlparse (from ipython_sql) (0.4.2.dev0)\n",
      "Requirement already satisfied: prettytable<1 in c:\\programdata\\miniconda3\\lib\\site-packages (from ipython_sql) (0.7.2)\n",
      "Requirement already satisfied: six in c:\\programdata\\miniconda3\\lib\\site-packages (from ipython_sql) (1.15.0)\n",
      "Requirement already satisfied: decorator in c:\\programdata\\miniconda3\\lib\\site-packages (from ipython>=1.0->ipython_sql) (4.4.2)\n",
      "Requirement already satisfied: traitlets>=4.2 in c:\\programdata\\miniconda3\\lib\\site-packages (from ipython>=1.0->ipython_sql) (5.0.5)\n",
      "Requirement already satisfied: jedi>=0.16 in c:\\programdata\\miniconda3\\lib\\site-packages (from ipython>=1.0->ipython_sql) (0.18.0)\n",
      "Requirement already satisfied: setuptools>=18.5 in c:\\programdata\\miniconda3\\lib\\site-packages (from ipython>=1.0->ipython_sql) (46.4.0.post20200518)\n",
      "Requirement already satisfied: pygments in c:\\programdata\\miniconda3\\lib\\site-packages (from ipython>=1.0->ipython_sql) (2.8.1)\n",
      "Requirement already satisfied: backcall in c:\\programdata\\miniconda3\\lib\\site-packages (from ipython>=1.0->ipython_sql) (0.2.0)\n",
      "Requirement already satisfied: pickleshare in c:\\programdata\\miniconda3\\lib\\site-packages (from ipython>=1.0->ipython_sql) (0.7.5)\n",
      "Requirement already satisfied: colorama in c:\\programdata\\miniconda3\\lib\\site-packages (from ipython>=1.0->ipython_sql) (0.4.3)\n",
      "Requirement already satisfied: prompt-toolkit!=3.0.0,!=3.0.1,<3.1.0,>=2.0.0 in c:\\programdata\\miniconda3\\lib\\site-packages (from ipython>=1.0->ipython_sql) (3.0.17)\n",
      "Requirement already satisfied: parso<0.9.0,>=0.8.0 in c:\\programdata\\miniconda3\\lib\\site-packages (from jedi>=0.16->ipython>=1.0->ipython_sql) (0.8.1)\n",
      "Requirement already satisfied: wcwidth in c:\\programdata\\miniconda3\\lib\\site-packages (from prompt-toolkit!=3.0.0,!=3.0.1,<3.1.0,>=2.0.0->ipython>=1.0->ipython_sql) (0.2.5)\n",
      "Requirement already satisfied: greenlet!=0.4.17 in c:\\programdata\\miniconda3\\lib\\site-packages (from sqlalchemy>=0.6.7->ipython_sql) (1.1.0)\n"
     ]
    },
    {
     "name": "stderr",
     "output_type": "stream",
     "text": [
      "WARNING: You are using pip version 21.0.1; however, version 21.1.3 is available.\n",
      "You should consider upgrading via the 'c:\\programdata\\miniconda3\\python.exe -m pip install --upgrade pip' command.\n"
     ]
    }
   ],
   "source": [
    "#hide\n",
    "!pip install ipython_sql"
   ]
  },
  {
   "cell_type": "markdown",
   "id": "seven-theta",
   "metadata": {},
   "source": [
    "# Intro"
   ]
  },
  {
   "cell_type": "markdown",
   "id": "valuable-draft",
   "metadata": {},
   "source": [
    "Picking a right tool for the job can enhance your efficiency dramatically. For `Python`, you have VSCode and PyCharm. For writing SQL, manys pick an IDE like **Dbeaver**  or SQLDeveloper depends what database you are using. As a data scientist, I find that Jupyter Notebook can be very useful for SQL Analaytic."
   ]
  },
  {
   "cell_type": "markdown",
   "id": "hydraulic-wagner",
   "metadata": {},
   "source": [
    "## Notebook as a deliverable"
   ]
  },
  {
   "cell_type": "markdown",
   "id": "funded-resident",
   "metadata": {},
   "source": [
    "So why is notebook a better choice than IDEs like Dbeaver? Consider your analysis as a deliverable, the code that your wrote is not the deliverable, the conclusion is. A good analysis should be informative and it should help you to make better decision. You need to write a summary, maybe even plotting some charts to help explains your finding. Notebook allows you to write markdown, insert images and keep your code inplace. It helps reproducibility as people can just re-run the notebook instead of looking at a screenshot. I can't stress enough how important it is. When it comes to ad-hoc analytic, documentation is one of the largest scaling factor, it allows people to stands on the previous works. Often, there are error or over-simplified assumptions made, it is important to understand what data has been used and how is it processed in order to make a decision whether the conclusionis are valid or not. Theses insight is often awared only by a few people, as a result, works have been done repeatly and it waste a lot of efforts and slow down development.\n",
    "\n",
    "Your notebook should at least include 3 parts:\n",
    "Situation: What are you trying to achieve? What's the background of this task?\n",
    "Action: The methodology you are using? What assumption has been made? And ofcourse your SQL scripts\n",
    "Result: What's the conclusion? Does the data support your claims or suggest the opposite otherwise?"
   ]
  },
  {
   "cell_type": "markdown",
   "id": "circular-iceland",
   "metadata": {},
   "source": [
    "## Notebook as an extension of IDE"
   ]
  },
  {
   "cell_type": "markdown",
   "id": "experimental-leeds",
   "metadata": {},
   "source": [
    "When you code in a SQL IDE, you are limited to SQL only. Combining SQL and notebook, you can write python code to extends your query easily. \n",
    "\n",
    "* Complex logic that is not easy(impossible) to be done in SQL. \n",
    "* Make informative charts right after your query without exporting CSV.\n",
    "\n",
    "For example, you can pipe your `SQL` query with `pandas` and then make a plot. It allows you to generate analysis with richer information query. If there are some bug, you can simply modify the code and re-run the analysis effortlessly. This allows you to extend your data without the need of exporting CSVs. This smoothen the process and make the analysis more easy to reproduce. In contrast, if you choose to export a CSv, it is almost certain that no one will be able to reproduce the data except the author."
   ]
  },
  {
   "cell_type": "markdown",
   "id": "incorrect-browse",
   "metadata": {},
   "source": [
    "You can make use of the `ipython_sql` to make query in a notebook. To do this, you need to use the **magic** function with the inline magic `%` or cell magic `%%`."
   ]
  },
  {
   "cell_type": "code",
   "execution_count": 7,
   "id": "quarterly-imperial",
   "metadata": {},
   "outputs": [
    {
     "name": "stdout",
     "output_type": "stream",
     "text": [
      " * sqlite:///sales.sqlite.db\n",
      "Done.\n"
     ]
    },
    {
     "data": {
      "text/html": [
       "<table>\n",
       "    <tr>\n",
       "        <th>ProductId</th>\n",
       "        <th>Unit</th>\n",
       "        <th>IsDeleted</th>\n",
       "    </tr>\n",
       "    <tr>\n",
       "        <td>1</td>\n",
       "        <td>10</td>\n",
       "        <td>1</td>\n",
       "    </tr>\n",
       "    <tr>\n",
       "        <td>1</td>\n",
       "        <td>10</td>\n",
       "        <td>1</td>\n",
       "    </tr>\n",
       "    <tr>\n",
       "        <td>2</td>\n",
       "        <td>10</td>\n",
       "        <td>0</td>\n",
       "    </tr>\n",
       "</table>"
      ],
      "text/plain": [
       "[(1, 10, 1), (1, 10, 1), (2, 10, 0)]"
      ]
     },
     "execution_count": 7,
     "metadata": {},
     "output_type": "execute_result"
    }
   ],
   "source": [
    "%%sql\n",
    "SELECT * from sales LIMIT 3"
   ]
  },
  {
   "cell_type": "code",
   "execution_count": 8,
   "id": "assigned-crash",
   "metadata": {
    "scrolled": true
   },
   "outputs": [
    {
     "name": "stdout",
     "output_type": "stream",
     "text": [
      " * sqlite:///sales.sqlite.db\n",
      "Done.\n"
     ]
    }
   ],
   "source": [
    "sales = %sql SELECT * from sales LIMIT 3"
   ]
  },
  {
   "cell_type": "code",
   "execution_count": 9,
   "id": "acting-opportunity",
   "metadata": {},
   "outputs": [
    {
     "data": {
      "text/html": [
       "<table>\n",
       "    <tr>\n",
       "        <th>ProductId</th>\n",
       "        <th>Unit</th>\n",
       "        <th>IsDeleted</th>\n",
       "    </tr>\n",
       "    <tr>\n",
       "        <td>1</td>\n",
       "        <td>10</td>\n",
       "        <td>1</td>\n",
       "    </tr>\n",
       "    <tr>\n",
       "        <td>1</td>\n",
       "        <td>10</td>\n",
       "        <td>1</td>\n",
       "    </tr>\n",
       "    <tr>\n",
       "        <td>2</td>\n",
       "        <td>10</td>\n",
       "        <td>0</td>\n",
       "    </tr>\n",
       "</table>"
      ],
      "text/plain": [
       "[(1, 10, 1), (1, 10, 1), (2, 10, 0)]"
      ]
     },
     "execution_count": 9,
     "metadata": {},
     "output_type": "execute_result"
    }
   ],
   "source": [
    "sales"
   ]
  },
  {
   "cell_type": "markdown",
   "id": "acquired-storm",
   "metadata": {},
   "source": [
    "To make it fancier, you can even paramterized your query easily with variable. You can use `$` to reference your python variable. "
   ]
  },
  {
   "cell_type": "code",
   "execution_count": 10,
   "id": "verbal-escape",
   "metadata": {},
   "outputs": [
    {
     "name": "stdout",
     "output_type": "stream",
     "text": [
      " * sqlite:///sales.sqlite.db\n",
      "Done.\n"
     ]
    }
   ],
   "source": [
    "table = \"sales\"\n",
    "query = f\"SELECT * from {table} LIMIT 3\"\n",
    "\n",
    "sales = %sql $query"
   ]
  },
  {
   "cell_type": "code",
   "execution_count": 11,
   "id": "indoor-modification",
   "metadata": {},
   "outputs": [
    {
     "data": {
      "text/html": [
       "<table>\n",
       "    <tr>\n",
       "        <th>ProductId</th>\n",
       "        <th>Unit</th>\n",
       "        <th>IsDeleted</th>\n",
       "    </tr>\n",
       "    <tr>\n",
       "        <td>1</td>\n",
       "        <td>10</td>\n",
       "        <td>1</td>\n",
       "    </tr>\n",
       "    <tr>\n",
       "        <td>1</td>\n",
       "        <td>10</td>\n",
       "        <td>1</td>\n",
       "    </tr>\n",
       "    <tr>\n",
       "        <td>2</td>\n",
       "        <td>10</td>\n",
       "        <td>0</td>\n",
       "    </tr>\n",
       "</table>"
      ],
      "text/plain": [
       "[(1, 10, 1), (1, 10, 1), (2, 10, 0)]"
      ]
     },
     "execution_count": 11,
     "metadata": {},
     "output_type": "execute_result"
    }
   ],
   "source": [
    "sales"
   ]
  },
  {
   "cell_type": "code",
   "execution_count": 12,
   "id": "fuzzy-stability",
   "metadata": {},
   "outputs": [
    {
     "name": "stdout",
     "output_type": "stream",
     "text": [
      " * sqlite:///sales.sqlite.db\n",
      "Done.\n"
     ]
    }
   ],
   "source": [
    "sales = %sql SELECT * FROM SALES"
   ]
  },
  {
   "cell_type": "markdown",
   "id": "serial-scheduling",
   "metadata": {},
   "source": [
    "With a little bit of python code, you can make some nice plot to show your insight or even make an interact plot if you want. This is a very power way to extend your analysis."
   ]
  },
  {
   "cell_type": "code",
   "execution_count": 13,
   "id": "hundred-bottle",
   "metadata": {},
   "outputs": [
    {
     "data": {
      "image/png": "[encoded data removed]",
      "text/plain": [
       "<Figure size 432x288 with 1 Axes>"
      ]
     },
     "metadata": {
      "needs_background": "light"
     },
     "output_type": "display_data"
    }
   ],
   "source": [
    "import seaborn as sns\n",
    "sales_df = sales.DataFrame()\n",
    "sales_df = sales_df.groupby('ProductId', as_index=False).sum()\n",
    "ax = sns.barplot(x='ProductId', y='Unit', data=sales_df)\n",
    "ax.set_title('Sales by ProductId');"
   ]
  },
  {
   "cell_type": "markdown",
   "id": "instrumental-tract",
   "metadata": {},
   "source": [
    "## Notebook as a collaboration tool\n",
    "Notebook is essential to data analysis, as the output is more important than the code itself. You can share the notebook or export it as an html, the result is cached already. They can re-run the notebook to verify the result if they want, but they don't always have to. \n",
    " \n",
    "However, Notebooks have a lot of reputations, it's not friendly to version control, it's hard to collaborate with notebook. Luckily, there are effort that make collaboration in notebook a lot easier."
   ]
  },
  {
   "cell_type": "markdown",
   "id": "detected-morris",
   "metadata": {},
   "source": [
    "Here what I did not show you is that the table has a `is_deleted` column. Some of the records are invalid and we should exclude them. In reality, this happens frequently when you are dealing with hundreds of tables with a lot of dependencies. Often, these tables are made for application, transaction, they do not really think about analytic. Therefore, the one who consume the data need to be a domain expert about these tables, understand the pitfall. This could be the data analyst, SME or the developer of that particular application. It takes many iterations to get the correct data that can be used to produce useful insight."
   ]
  },
  {
   "cell_type": "markdown",
   "id": "lyric-moldova",
   "metadata": {},
   "source": [
    "With ReviewNB, you can publish your result and invite some domain expert to review your analysis. This is where notebook shine, this kind of workflow is not possible with just the SQL script or a screenshot of your finding."
   ]
  },
  {
   "cell_type": "markdown",
   "id": "voluntary-piano",
   "metadata": {},
   "source": [
    "## Step 1 - Review PR on web"
   ]
  },
  {
   "cell_type": "markdown",
   "id": "neural-courage",
   "metadata": {},
   "source": [
    "![Step1](images/reviewnb/step_1.png \"Start a discussion on a cell block\")"
   ]
  },
  {
   "cell_type": "markdown",
   "id": "accompanied-explosion",
   "metadata": {},
   "source": [
    "With ReviewNB, you can view your notebook and add comments on a particular cell, just like code review. This lower the technical barrier as your analyst do not have to understand Git. You can review changes and make discussion on web without the need to pull code at all. As soon as your analyst make suggestion, you can make changes accordingly."
   ]
  },
  {
   "cell_type": "markdown",
   "id": "talented-classroom",
   "metadata": {},
   "source": [
    "## Step 2 - Review Changes"
   ]
  },
  {
   "cell_type": "markdown",
   "id": "tough-recall",
   "metadata": {},
   "source": [
    "![Step2](images/reviewnb/step_2.png \"Review changes side by side\")"
   ]
  },
  {
   "cell_type": "markdown",
   "id": "conservative-remedy",
   "metadata": {},
   "source": [
    "Once you have made changes for the notebook, you can review it side by side on ReviewNB. This is very trivial to do it locally without ReviewNB. As Git tracks changes in line level, you can't really read the changes as it consists of a lot of noise. It would also be impossible to view changes about the chart with git."
   ]
  },
  {
   "cell_type": "markdown",
   "id": "pressed-mounting",
   "metadata": {},
   "source": [
    "## Step 3 - Resolve Discussion"
   ]
  },
  {
   "cell_type": "markdown",
   "id": "connected-reminder",
   "metadata": {},
   "source": [
    "![Step3](images/reviewnb/step_3.png \"Resolve the discussion.\")"
   ]
  },
  {
   "cell_type": "markdown",
   "id": "spectacular-crowd",
   "metadata": {},
   "source": [
    "Once the changes are reviewed, you can resolve the discussion and share your insight with the team."
   ]
  },
  {
   "cell_type": "markdown",
   "id": "french-planning",
   "metadata": {},
   "source": [
    "Start organizing your analysis today. Make it reproducible, and hopefully others can extend on it easily!"
   ]
  }
 ],
 "metadata": {
  "kernelspec": {
   "display_name": "Python 3",
   "language": "python",
   "name": "python3"
  },
  "language_info": {
   "codemirror_mode": {
    "name": "ipython",
    "version": 3
   },
   "file_extension": ".py",
   "mimetype": "text/x-python",
   "name": "python",
   "nbconvert_exporter": "python",
   "pygments_lexer": "ipython3",
   "version": "3.8.3"
  },
  "toc": {
   "base_numbering": 1,
   "nav_menu": {},
   "number_sections": false,
   "sideBar": true,
   "skip_h1_title": false,
   "title_cell": "Table of Contents",
   "title_sidebar": "Contents",
   "toc_cell": false,
   "toc_position": {},
   "toc_section_display": true,
   "toc_window_display": true
  }
 },
 "nbformat": 4,
 "nbformat_minor": 5
}
