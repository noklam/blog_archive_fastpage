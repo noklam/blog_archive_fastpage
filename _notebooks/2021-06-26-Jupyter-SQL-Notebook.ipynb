{
 "cells": [
  {
   "cell_type": "markdown",
   "id": "initial-yahoo",
   "metadata": {},
   "source": [
    "# Jupyter Superpower - Extend SQL analysis with Python\n",
    "> Making collboration with Notebook possible and share perfect SQL analysis with Notebook.\n",
    "\n",
    "\n",
    "- toc: true \n",
    "- badges: true\n",
    "- comments: true\n",
    "- author: noklam\n",
    "- categories: [\"python\", \"reviewnb\", \"sql\"]\n",
    "- hide: false"
   ]
  },
  {
   "cell_type": "markdown",
   "id": "inner-private",
   "metadata": {},
   "source": [
    "If you have ever written SQL queries to extract data from a database, chances are you are familiar with an IDE like the screenshot below. The IDE offers features like auto-completion, visualize the query output, display the table schema and the ER diagram. Whenever you need to write a query, this is your go-to tool. However, you may want to add `Jupyter Notebook` into your toolkit. It improves my productivity by complementing some missing features in IDE."
   ]
  },
  {
   "cell_type": "markdown",
   "id": "alive-challenge",
   "metadata": {},
   "source": [
    "![Dbeaver](images/reviewnb/dbeaver.png \"Screenshot of a typical IDE (DBeaver)\")"
   ]
  },
  {
   "cell_type": "code",
   "execution_count": 1,
   "id": "alleged-string",
   "metadata": {},
   "outputs": [],
   "source": [
    "#collapse-hide\n",
    "# !pip install ipython_sql\n",
    "%load_ext sql\n",
    "%config SqlMagic.displaycon = False\n",
    "%config SqlMagic.feedback = False\n",
    "# Download the file from https://github.com/cwoodruff/ChinookDatabase/blob/master/Scripts/Chinook_Sqlite.sqlite\n",
    "%sql sqlite:///sales.sqlite.db\n",
    "    \n",
    "from pathlib import Path\n",
    "DATA_DIR = Path('../_demo/sql_notebook')\n"
   ]
  },
  {
   "cell_type": "code",
   "execution_count": 2,
   "id": "modified-shelter",
   "metadata": {},
   "outputs": [
    {
     "data": {
      "text/html": [
       "<table>\n",
       "    <tr>\n",
       "        <th>ProductId</th>\n",
       "        <th>Sum(Unit)</th>\n",
       "    </tr>\n",
       "    <tr>\n",
       "        <td>1</td>\n",
       "        <td>210</td>\n",
       "    </tr>\n",
       "    <tr>\n",
       "        <td>2</td>\n",
       "        <td>50</td>\n",
       "    </tr>\n",
       "    <tr>\n",
       "        <td>3</td>\n",
       "        <td>30</td>\n",
       "    </tr>\n",
       "</table>"
      ],
      "text/plain": [
       "[(1, 210), (2, 50), (3, 30)]"
      ]
     },
     "execution_count": 2,
     "metadata": {},
     "output_type": "execute_result"
    }
   ],
   "source": [
    "%%sql\n",
    "select ProductId, Sum(Unit) from Sales group by ProductId;"
   ]
  },
  {
   "cell_type": "markdown",
   "id": "hydraulic-wagner",
   "metadata": {},
   "source": [
    "## Notebook as a self-contained report"
   ]
  },
  {
   "cell_type": "markdown",
   "id": "known-ownership",
   "metadata": {},
   "source": [
    "As a data scientist/data analyst, you write SQL queries for ad-hoc analyses all the time. After getting the right data, you make nice-looking charts and put them in a PowerPoint and you are ready to present your findings. Unlike a well-defined ETL job, you are exploring the data and testing your hypotheses all the time. You make assumptions, which is often wrong but you only realized it after a few weeks. But all you got is a CSV that you cannot recall how it was generated in the first place.\n",
    "\n",
    "Data is not stationary, why should your analysis be? I have seen many screenshots, fragmented scripts flying around in organizations. As a data scientist, I learned that you need to be cautious about what you heard. Don't trust peoples' words easily, verify the result!  To achieve that, we need to know exactly how the data was extracted, what kind of assumptions have been made? Unfortunately, this information usually is not available. As a result, people are redoing the same analysis over and over. You will be surprised that this is very common in organizations. In fact, numbers often do not align because every department has its own definition for a given metric. It is not shared among the organization, and verbal communication is inaccurate and error-prone. It would be really nice if anyone in the organization can reproduce the same result with just a single click. Jupyter Notebook can achieve that reproducibility and keep your entire analysis (documentation, data, and code) in the same place."
   ]
  },
  {
   "cell_type": "markdown",
   "id": "circular-iceland",
   "metadata": {},
   "source": [
    "## Notebook as an extension of IDE"
   ]
  },
  {
   "cell_type": "code",
   "execution_count": 3,
   "id": "hidden-decision",
   "metadata": {},
   "outputs": [
    {
     "ename": "SyntaxError",
     "evalue": "invalid syntax (<ipython-input-3-a7e51daae9fb>, line 1)",
     "output_type": "error",
     "traceback": [
      "\u001b[1;36m  File \u001b[1;32m\"<ipython-input-3-a7e51daae9fb>\"\u001b[1;36m, line \u001b[1;32m1\u001b[0m\n\u001b[1;33m    Writing SQL queries in a notebook gives you extra flexibility of a full programming language alongside SQL. For example,\u001b[0m\n\u001b[1;37m            ^\u001b[0m\n\u001b[1;31mSyntaxError\u001b[0m\u001b[1;31m:\u001b[0m invalid syntax\n"
     ]
    }
   ],
   "source": [
    "Writing SQL queries in a notebook gives you extra flexibility of a full programming language alongside SQL. For example,"
   ]
  },
  {
   "cell_type": "markdown",
   "id": "experimental-leeds",
   "metadata": {},
   "source": [
    "Writing SQL queries in a notebook gives you extra flexibility of a full programming language alongside SQL.\n",
    "For example:\n",
    "\n",
    "* Write complex processing logic that is not easy in pure SQL\n",
    "* Create visualizations directly from SQL results without exporting to an intermediate CSV\n",
    "\n",
    "For instance, you can pipe your `SQL` query with `pandas` and then make a plot. It allows you to generate analysis with richer content. If you find bugs in your code, you can modify the code and re-run the analysis. This reduces the hustles to reproduce an analysis greatly. In contrast, if your analysis is reading data from an anonymous exported CSV, it is almost guaranteed that the definition of the data will be lost. No one will be able to reproduce the dataset."
   ]
  },
  {
   "cell_type": "markdown",
   "id": "incorrect-browse",
   "metadata": {},
   "source": [
    "You can make use of the `ipython_sql` library to make queries in a notebook. To do this, you need to use the **magic** function with the inline magic `%` or cell magic `%%`."
   ]
  },
  {
   "cell_type": "code",
   "execution_count": null,
   "id": "assigned-crash",
   "metadata": {
    "scrolled": true
   },
   "outputs": [],
   "source": [
    "sales = %sql SELECT * from sales LIMIT 3\n",
    "sales"
   ]
  },
  {
   "cell_type": "markdown",
   "id": "acquired-storm",
   "metadata": {},
   "source": [
    "To make it fancier, you can even parameterize your query with variables. Tools like [papermill](https://www.bing.com/search?q=github+paramter+notebook&cvid=5b17218ec803438fb1ca41212d53d90a&FORM=ANAB01&PC=U531) allows you to parameterize your notebook. If you execute the notebook regularly with a scheduler, you can get a updated dashboard. To reference the python variable, the `$` sign is used."
   ]
  },
  {
   "cell_type": "code",
   "execution_count": null,
   "id": "verbal-escape",
   "metadata": {},
   "outputs": [],
   "source": [
    "table = \"sales\"\n",
    "query = f\"SELECT * from {table} LIMIT 3\"\n",
    "sales = %sql $query\n",
    "sales"
   ]
  },
  {
   "cell_type": "markdown",
   "id": "serial-scheduling",
   "metadata": {},
   "source": [
    "With a little bit of python code, you can make a nice plot to summarize your finding. You can even make an interactive plot if you want. This is a very powerful way to extend your analysis."
   ]
  },
  {
   "cell_type": "code",
   "execution_count": null,
   "id": "hundred-bottle",
   "metadata": {},
   "outputs": [],
   "source": [
    "import seaborn as sns\n",
    "sales = %sql SELECT * FROM SALES\n",
    "sales_df = sales.DataFrame()\n",
    "sales_df = sales_df.groupby('ProductId', as_index=False).sum()\n",
    "ax = sns.barplot(x='ProductId', y='Unit', data=sales_df)\n",
    "ax.set_title('Sales by ProductId');"
   ]
  },
  {
   "cell_type": "markdown",
   "id": "instrumental-tract",
   "metadata": {},
   "source": [
    "## Notebook as a collaboration tool\n",
    "Jupyter Notebook is flexible and it fits extremely well with exploratory data analysis. To share to a non-coder, you can share the notebook or export it as an HTML file. They can read the report or any cached executed result. If they need to verify the data or add some extra plots, they can do it easily themselves. \n",
    " \n",
    "It is true that Jupyter Notebook has an infamous reputation. It is not friendly to version control, it's hard to collaborate with notebooks. Luckily, there are efforts that make collaboration in notebook a lot easier now."
   ]
  },
  {
   "cell_type": "markdown",
   "id": "detected-morris",
   "metadata": {},
   "source": [
    "Here what I did not show you is that the table has an `isDeleted` column. Some of the records are invalid and we should exclude them. In reality, this happens frequently when you are dealing with hundreds of tables that you are not familiar with. These tables are made for applications, transactions, and they do not have analytic in mind. Data Analytic is usually an afterthought. Therefore, you need to consult the SME or the maintainer of that tables. It takes many iterations to get the correct data that can be used to produce useful insight."
   ]
  },
  {
   "cell_type": "markdown",
   "id": "lyric-moldova",
   "metadata": {},
   "source": [
    "With [ReviewNB](https://www.reviewnb.com/), you can publish your result and invite some domain expert to review your analysis. This is where notebook shine, this kind of workflow is not possible with just the SQL script or a screenshot of your finding. The notebook itself is a useful documentation and collaboration tool."
   ]
  },
  {
   "cell_type": "markdown",
   "id": "voluntary-piano",
   "metadata": {},
   "source": [
    "### Step 1 - Review PR online"
   ]
  },
  {
   "cell_type": "markdown",
   "id": "neural-courage",
   "metadata": {},
   "source": [
    "![Step1](images/reviewnb/step_1.png \"Start a discussion on a cell block, the analyst suggest to add a filter to slice the correct data\")"
   ]
  },
  {
   "cell_type": "markdown",
   "id": "accompanied-explosion",
   "metadata": {},
   "source": [
    "You can view your notebook and add comments on a particular cell on [ReviewNB](https://www.reviewnb.com/). This lowers the technical barrier as your analysts do not have to understand Git. He can review changes and make comments on the web without the need to pull code at all. As soon as your analyst makes a suggestion, you can make changes."
   ]
  },
  {
   "cell_type": "markdown",
   "id": "talented-classroom",
   "metadata": {},
   "source": [
    "### Step 2 - Review Changes"
   ]
  },
  {
   "cell_type": "markdown",
   "id": "tough-recall",
   "metadata": {},
   "source": [
    "![Step2](images/reviewnb/step_2.png \"Review changes side by side\")"
   ]
  },
  {
   "cell_type": "markdown",
   "id": "conservative-remedy",
   "metadata": {},
   "source": [
    "Once you have made changes to the notebook, you can review it side by side. This is very trivial to do it in your local machine. Without ReviewNB, you have to pull both notebooks separately. As Git tracks line-level changes, you can't really read the changes as it consists of a lot of confusing noise. It would also be impossible to view changes about the chart with git."
   ]
  },
  {
   "cell_type": "markdown",
   "id": "pressed-mounting",
   "metadata": {},
   "source": [
    "### Step 3 - Resolve Discussion"
   ]
  },
  {
   "cell_type": "markdown",
   "id": "connected-reminder",
   "metadata": {},
   "source": [
    "![Step3](images/reviewnb/step_3.png \"Resolve the discussion.\")"
   ]
  },
  {
   "cell_type": "markdown",
   "id": "spectacular-crowd",
   "metadata": {},
   "source": [
    "Once the changes are reviewed, you can resolve the discussion and share your insight with the team. You can publish the notebook to internal sharing platform like [knowledge-repo](https://github.com/airbnb/knowledge-repo) to organize the analysis."
   ]
  },
  {
   "cell_type": "markdown",
   "id": "french-planning",
   "metadata": {},
   "source": [
    "I hope this convince you that Notebook is a good choice for adhoc analytics. It is possible to collaborate with notebook with proper software in place. Regarless if you use notebook or not, you should try your best to document the process. Let's make more reproducible analyses!"
   ]
  }
 ],
 "metadata": {
  "kernelspec": {
   "display_name": "Python 3",
   "language": "python",
   "name": "python3"
  },
  "language_info": {
   "codemirror_mode": {
    "name": "ipython",
    "version": 3
   },
   "file_extension": ".py",
   "mimetype": "text/x-python",
   "name": "python",
   "nbconvert_exporter": "python",
   "pygments_lexer": "ipython3",
   "version": "3.8.3"
  },
  "toc": {
   "base_numbering": 1,
   "nav_menu": {},
   "number_sections": false,
   "sideBar": true,
   "skip_h1_title": false,
   "title_cell": "Table of Contents",
   "title_sidebar": "Contents",
   "toc_cell": false,
   "toc_position": {
    "height": "calc(100% - 180px)",
    "left": "10px",
    "top": "150px",
    "width": "426.667px"
   },
   "toc_section_display": true,
   "toc_window_display": true
  }
 },
 "nbformat": 4,
 "nbformat_minor": 5
}
