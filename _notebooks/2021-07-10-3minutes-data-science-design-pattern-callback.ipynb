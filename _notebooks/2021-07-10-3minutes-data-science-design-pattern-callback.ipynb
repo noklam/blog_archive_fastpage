{
 "cells": [
  {
   "cell_type": "markdown",
   "metadata": {},
   "source": [
    "# 5 Minutes Data Science Design Patterns I- Callback\n",
    "> A mini collections of design pattern for Data Science - Starting with callbacks.\n",
    "\n",
    "- toc: true \n",
    "- badges: true\n",
    "- comments: true\n",
    "- author: noklam\n",
    "- categories: [\"python\", \"kedro\"]"
   ]
  },
  {
   "cell_type": "markdown",
   "metadata": {},
   "source": [
    "> Note: This series are written as quick introduction to software design for data scientist, something that is lightweight than the Design Pattern Bible - [Clean Code](https://www.amazon.com/Clean-Code-Handbook-Software-Craftsmanship/dp/0132350882) I wish exists when I first started to learn. Design patterns refers to reusable solution to some common problem, and some happens to be useful for data science. There is good chance that someone else has solved your problem before. When used wisely, it helps to reduce the complexity of your code."
   ]
  },
  {
   "cell_type": "markdown",
   "metadata": {},
   "source": [
    "## So, What is Callback afterall?"
   ]
  },
  {
   "cell_type": "markdown",
   "metadata": {},
   "source": [
    "`Callback` function, or call **after**, simply means a function will be **called after** another function. It is a piece of executable code (function) that passed as an **argument** to another function. [[1]](https://stackoverflow.com/questions/824234/what-is-a-callback-function)\n"
   ]
  },
  {
   "cell_type": "code",
   "execution_count": 6,
   "metadata": {},
   "outputs": [],
   "source": [
    "def foo(x, callback=None):\n",
    "    print('foo!')\n",
    "    if callback:\n",
    "        callback(x)\n",
    "    return None"
   ]
  },
  {
   "cell_type": "code",
   "execution_count": 7,
   "metadata": {},
   "outputs": [
    {
     "name": "stdout",
     "output_type": "stream",
     "text": [
      "foo!\n"
     ]
    }
   ],
   "source": [
    "foo('123')"
   ]
  },
  {
   "cell_type": "code",
   "execution_count": 8,
   "metadata": {},
   "outputs": [
    {
     "name": "stdout",
     "output_type": "stream",
     "text": [
      "foo!\n",
      "123\n"
     ]
    }
   ],
   "source": [
    "foo('123', print)"
   ]
  },
  {
   "cell_type": "markdown",
   "metadata": {},
   "source": [
    "Here I pass the function `print` as a callback, hence the string `123` get printed **after** `foo!`."
   ]
  },
  {
   "cell_type": "markdown",
   "metadata": {},
   "source": [
    "## Why do I need to use Callback?"
   ]
  },
  {
   "cell_type": "markdown",
   "metadata": {},
   "source": [
    "**Callback** is very common in high level deep learning library, most likely you will find them in the training loop.\n",
    "* [fastai](https://docs.fast.ai/callback.core.html) - fastai provide high level API for PyTorch\n",
    "* [Keras](https://keras.io/api/callbacks/ ) - the high level API for Tensorflow\n",
    "* [ignite](https://github.com/pytorch/ignite) - they use event & handler, which provides more flexiblity in their opinion"
   ]
  },
  {
   "cell_type": "code",
   "execution_count": 45,
   "metadata": {},
   "outputs": [],
   "source": [
    "import numpy as np\n",
    "\n",
    "# A boring training Loop\n",
    "def train(x):\n",
    "    n_epochs = 3\n",
    "    n_batches = 2\n",
    "    loss = 20\n",
    "\n",
    "    for epoch in range(n_epochs):\n",
    "        for batch in range(n_batches):\n",
    "            loss = loss - 1 # Pretend we are training the model\n",
    "    return loss"
   ]
  },
  {
   "cell_type": "code",
   "execution_count": 41,
   "metadata": {},
   "outputs": [
    {
     "data": {
      "text/plain": [
       "14"
      ]
     },
     "execution_count": 41,
     "metadata": {},
     "output_type": "execute_result"
    }
   ],
   "source": [
    "x = np.ones(10)\n",
    "train(x)"
   ]
  },
  {
   "cell_type": "markdown",
   "metadata": {},
   "source": [
    "So, let's say you now want to print the loss at the end of an epoch. You can just add 1 lines of code."
   ]
  },
  {
   "cell_type": "markdown",
   "metadata": {},
   "source": [
    "### The simple approach"
   ]
  },
  {
   "cell_type": "code",
   "execution_count": 53,
   "metadata": {},
   "outputs": [],
   "source": [
    "def train_with_print(x):\n",
    "    n_epochs = 3\n",
    "    n_batches = 2\n",
    "    loss = 20\n",
    "\n",
    "    for epoch in range(n_epochs):\n",
    "        for batch in range(n_batches):\n",
    "            loss = loss - 1 # Pretend we are training the model\n",
    "        print(f'End of Epoch. Epoch: {epoch}, Loss: {loss}')\n",
    "    return loss"
   ]
  },
  {
   "cell_type": "code",
   "execution_count": 52,
   "metadata": {},
   "outputs": [
    {
     "name": "stdout",
     "output_type": "stream",
     "text": [
      "End of Epoch. Epoch: 0, Loss: 18\n",
      "End of Epoch. Epoch: 1, Loss: 16\n",
      "End of Epoch. Epoch: 2, Loss: 14\n"
     ]
    },
    {
     "data": {
      "text/plain": [
       "14"
      ]
     },
     "execution_count": 52,
     "metadata": {},
     "output_type": "execute_result"
    }
   ],
   "source": [
    "train_with_print(x)"
   ]
  },
  {
   "cell_type": "markdown",
   "metadata": {},
   "source": [
    "### Callback approach"
   ]
  },
  {
   "cell_type": "markdown",
   "metadata": {},
   "source": [
    "Or you call add a PrintCallback, which does the same thing but with a bit more code."
   ]
  },
  {
   "cell_type": "code",
   "execution_count": 63,
   "metadata": {},
   "outputs": [],
   "source": [
    "class Callback:\n",
    "    def on_epoch_start(self, x):\n",
    "        pass\n",
    "\n",
    "    def on_epoch_end(self, x):\n",
    "        pass\n",
    "\n",
    "    def on_batch_start(self, x):\n",
    "        pass\n",
    "\n",
    "    def on_batch_end(self, x):\n",
    "        pass\n",
    "\n",
    "\n",
    "class PrintCallback(Callback):\n",
    "    def on_epoch_end(self, x):\n",
    "        print(f'End of Epoch. Epoch: {epoch}, Loss: {x}')\n",
    "\n",
    "\n",
    "def train_with_callback(x, callback=None):\n",
    "    n_epochs = 3\n",
    "    n_batches = 2\n",
    "    loss = 20\n",
    "\n",
    "    for epoch in range(n_epochs):\n",
    "\n",
    "        callback.on_epoch_start(loss)\n",
    "\n",
    "        for batch in range(n_batches):\n",
    "            callback.on_batch_start(loss)\n",
    "            loss = loss - 1  # Pretend we are training the model\n",
    "            callback.on_batch_end(loss)\n",
    "\n",
    "        callback.on_epoch_end(loss)\n",
    "    return loss"
   ]
  },
  {
   "cell_type": "code",
   "execution_count": 64,
   "metadata": {},
   "outputs": [
    {
     "name": "stdout",
     "output_type": "stream",
     "text": [
      "End of Epoch. Epoch: 2, Loss: 18\n",
      "End of Epoch. Epoch: 2, Loss: 16\n",
      "End of Epoch. Epoch: 2, Loss: 14\n"
     ]
    },
    {
     "data": {
      "text/plain": [
       "14"
      ]
     },
     "execution_count": 64,
     "metadata": {},
     "output_type": "execute_result"
    }
   ],
   "source": [
    "train_with_callback(x, callback=PrintCallback())"
   ]
  },
  {
   "cell_type": "markdown",
   "metadata": {},
   "source": [
    "Usually, a callback with define a few particular event `on_xxx_xxx`, which indicate that the function will be executed according to the corresponding condition. So all callbacks will inherit the base class `Callback`, and override the desired function, here we only implemented the `on_epoch_end` method because we only want to show the loss at the end.\n",
    "\n",
    "It may seems awkward to write so many more code to do 1 simple thing, but there are good reasons. Consider now you need to add more features, how would you do it?\n",
    "\n",
    "* ModelCheckpoint\n",
    "* Early Stopping\n",
    "* LearningRateScheduler\n",
    "\n",
    "You can just add code in the loop, but it will start growing into a really big function. It is impossbile to test this function because it does 10 things at the same time. In addition, the extra code may not even be related to the training logic, they are just there to save the model or plot a chart. So,i t is best to separate the logic, a function should only do 1 thing according to the [Single Responsibility Principle](https://en.wikipedia.org/wiki/SOLID). It helps you to reduce the complexity as you don't need to worry if you will accidentally break 10 things, it is much easier to just consider one thing at a time.\n",
    "\n"
   ]
  },
  {
   "cell_type": "markdown",
   "metadata": {},
   "source": [
    "### Add some more sauce!"
   ]
  },
  {
   "cell_type": "markdown",
   "metadata": {},
   "source": [
    "When using the **Callback** Pattern, I can just implement a few more class and the training loop is barely touched. I do have to change the training function a bit as it should accepts more than 1 callback."
   ]
  },
  {
   "cell_type": "code",
   "execution_count": 115,
   "metadata": {},
   "outputs": [],
   "source": [
    "class Callbacks:\n",
    "    \"\"\"\n",
    "    It is the container for callback\n",
    "    \"\"\"\n",
    "\n",
    "    def __init__(self, callbacks):\n",
    "        self.callbacks = callbacks\n",
    "\n",
    "    def on_epoch_start(self, x):\n",
    "        for callback in self.callbacks:\n",
    "            callback.on_epoch_start(x)\n",
    "\n",
    "    def on_epoch_end(self, x):\n",
    "        for callback in self.callbacks:\n",
    "            callback.on_epoch_end(x)\n",
    "\n",
    "    def on_batch_start(self, x):\n",
    "        for callback in self.callbacks:\n",
    "            callback.on_batch_start(x)\n",
    "\n",
    "    def on_batch_end(self, x):\n",
    "        for callback in self.callbacks:\n",
    "            callback.on_batch_end(x)\n",
    "\n",
    "class PrintCallback(Callback):\n",
    "    def on_epoch_end(self, x):\n",
    "        print(f'[{type(self).__name__}]: End of Epoch. Epoch: {epoch}, Loss: {x}')\n",
    "        \n",
    "class ModelCheckPoint(Callback):\n",
    "    def on_epoch_end(self, x):\n",
    "        print(f'[{type(self).__name__}]: Save Model')\n",
    "\n",
    "\n",
    "class EarlyStoppingCallback(Callback):\n",
    "    def on_epoch_end(self, x):\n",
    "        if loss < 3:\n",
    "            print(f'[{type(self).__name__}]: Early Stopped')\n",
    "\n",
    "\n",
    "class LearningRateScheduler(Callback):\n",
    "    def on_batch_end(self, x):\n",
    "        print(f'    [{type(self).__name__}]: Reduce learning rate')\n",
    "\n",
    "\n",
    "def train_with_callbacks(x, callbacks=None):\n",
    "    n_epochs = 3\n",
    "    n_batches = 6\n",
    "    loss = 20\n",
    "\n",
    "    for epoch in range(n_epochs):\n",
    "\n",
    "        callbacks.on_epoch_start(loss)                             # on_epoch_start\n",
    "        for batch in range(n_batches):\n",
    "            callbacks.on_batch_start(loss)                         # on_batch_start\n",
    "            loss = loss - 1  # Pretend we are training the model\n",
    "            callbacks.on_batch_end(loss)                           # on_batch_end\n",
    "        callbacks.on_epoch_end(loss)                               # on_epoch_end\n",
    "    return loss"
   ]
  },
  {
   "cell_type": "code",
   "execution_count": 116,
   "metadata": {},
   "outputs": [
    {
     "name": "stdout",
     "output_type": "stream",
     "text": [
      "    [LearningRateScheduler]: Reduce learning rate\n",
      "    [LearningRateScheduler]: Reduce learning rate\n",
      "    [LearningRateScheduler]: Reduce learning rate\n",
      "    [LearningRateScheduler]: Reduce learning rate\n",
      "    [LearningRateScheduler]: Reduce learning rate\n",
      "    [LearningRateScheduler]: Reduce learning rate\n",
      "[PrintCallback]: End of Epoch. Epoch: 2, Loss: 14\n",
      "[ModelCheckPoint]: Save Model\n",
      "    [LearningRateScheduler]: Reduce learning rate\n",
      "    [LearningRateScheduler]: Reduce learning rate\n",
      "    [LearningRateScheduler]: Reduce learning rate\n",
      "    [LearningRateScheduler]: Reduce learning rate\n",
      "    [LearningRateScheduler]: Reduce learning rate\n",
      "    [LearningRateScheduler]: Reduce learning rate\n",
      "[PrintCallback]: End of Epoch. Epoch: 2, Loss: 8\n",
      "[ModelCheckPoint]: Save Model\n",
      "    [LearningRateScheduler]: Reduce learning rate\n",
      "    [LearningRateScheduler]: Reduce learning rate\n",
      "    [LearningRateScheduler]: Reduce learning rate\n",
      "    [LearningRateScheduler]: Reduce learning rate\n",
      "    [LearningRateScheduler]: Reduce learning rate\n",
      "    [LearningRateScheduler]: Reduce learning rate\n",
      "[PrintCallback]: End of Epoch. Epoch: 2, Loss: 2\n",
      "[ModelCheckPoint]: Save Model\n"
     ]
    },
    {
     "data": {
      "text/plain": [
       "2"
      ]
     },
     "execution_count": 116,
     "metadata": {},
     "output_type": "execute_result"
    }
   ],
   "source": [
    "callbacks = Callbacks([PrintCallback(), ModelCheckPoint(),\n",
    "                      EarlyStoppingCallback(), LearningRateScheduler()])\n",
    "train_with_callbacks(x, callbacks=callbacks)"
   ]
  },
  {
   "cell_type": "markdown",
   "metadata": {},
   "source": [
    "Hopefully it convinces you **Callback** makes the code cleaner and easier to maintain. If you just use plain `if-else` statements, you may end up with a big chunk of `if-else` clauses."
   ]
  },
  {
   "cell_type": "markdown",
   "metadata": {},
   "source": [
    "* [fastai](https://docs.fast.ai/callback.core.html) - fastai provide high level API for PyTorch\n",
    "* [Keras](https://keras.io/api/callbacks/ ) - the high level API for Tensorflow\n",
    "* [ignite](https://github.com/pytorch/ignite) - they use event & handler, which provides more flexiblity in their opinion"
   ]
  },
  {
   "cell_type": "markdown",
   "metadata": {},
   "source": [
    "## Reference\n",
    "1. https://stackoverflow.com/questions/824234/what-is-a-callback-function\n",
    "    "
   ]
  }
 ],
 "metadata": {
  "jupytext": {
   "formats": "ipynb,py:light"
  },
  "kernelspec": {
   "display_name": "Python 3",
   "language": "python",
   "name": "python3"
  },
  "language_info": {
   "codemirror_mode": {
    "name": "ipython",
    "version": 3
   },
   "file_extension": ".py",
   "mimetype": "text/x-python",
   "name": "python",
   "nbconvert_exporter": "python",
   "pygments_lexer": "ipython3",
   "version": "3.8.3"
  },
  "toc": {
   "base_numbering": 1,
   "nav_menu": {},
   "number_sections": false,
   "sideBar": true,
   "skip_h1_title": false,
   "title_cell": "Table of Contents",
   "title_sidebar": "Contents",
   "toc_cell": false,
   "toc_position": {},
   "toc_section_display": true,
   "toc_window_display": true
  },
  "varInspector": {
   "cols": {
    "lenName": 16,
    "lenType": 16,
    "lenVar": 40
   },
   "kernels_config": {
    "python": {
     "delete_cmd_postfix": "",
     "delete_cmd_prefix": "del ",
     "library": "var_list.py",
     "varRefreshCmd": "print(var_dic_list())"
    },
    "r": {
     "delete_cmd_postfix": ") ",
     "delete_cmd_prefix": "rm(",
     "library": "var_list.r",
     "varRefreshCmd": "cat(var_dic_list()) "
    }
   },
   "types_to_exclude": [
    "module",
    "function",
    "builtin_function_or_method",
    "instance",
    "_Feature"
   ],
   "window_display": false
  }
 },
 "nbformat": 4,
 "nbformat_minor": 2
}
