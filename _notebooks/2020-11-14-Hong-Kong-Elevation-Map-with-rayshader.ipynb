{
 "cells": [
  {
   "cell_type": "markdown",
   "metadata": {},
   "source": [
    "# \"Hong Kong Elevation map with rayshader (with R)\"\n",
    "> Inspired by https://www.reddit.com/r/dataisbeautiful/comments/bjp8bg/the_united_states_of_elevation_oc/. This is my little weekend project, Hong Kong elevation tile with `rayshader`, powered by `fastpages` with Jupyter notebook! I haven't used R in years, so I spent a lot more time than expected to finish this.\n",
    "\n",
    "\n",
    "- toc: true \n",
    "- badges: true\n",
    "- comments: true\n",
    "- categories: [R, rayshader]\n",
    "- hide: false "
   ]
  },
  {
   "cell_type": "markdown",
   "metadata": {},
   "source": [
    "This blog is mainly reproducing the blog with different data https://www.tylermw.com/a-step-by-step-guide-to-making-3d-maps-with-satellite-imagery-in-r/. My impression is that R is doing so much better for graph compare to Python. (`ggplot` and now `rayshader` for 3D plots!)"
   ]
  },
  {
   "cell_type": "markdown",
   "metadata": {},
   "source": [
    "## Data\n",
    "Two datasets was used for this images.\n",
    "Landset for RGB\n",
    "* LC08_L1TP_122044_20200218_20200225_01_T1.TIF  \n",
    "\n",
    "SRTM 30M resolution elevation map\n",
    "* n21e113.hgt\n",
    "* n21e114.hgt\n",
    "* n22e113.hgt\n",
    "* n22e114.hgt\n",
    "The USGS explorer is a very nice tool to search data.\n",
    "\n",
    "I actually couldn't find a Landsat image cover entire hong kong (some western part is missing). Further enhancement is needed for stitching together different images."
   ]
  },
  {
   "cell_type": "markdown",
   "metadata": {},
   "source": [
    "## Setup "
   ]
  },
  {
   "cell_type": "markdown",
   "metadata": {},
   "source": [
    "1. conda with R Kernel\n",
    "2. Jupyter Notebook\n",
    "3. fastpages\n",
    "4. rayshader\n",
    "\n",
    "\n",
    "> Use conda install even for R Packages, I spend hours to get the environment going back and forth in Windows and Linux"
   ]
  },
  {
   "cell_type": "code",
   "execution_count": 3,
   "metadata": {},
   "outputs": [],
   "source": [
    "## Library\n",
    "library(rayshader)\n",
    "library(sp)\n",
    "library(raster)\n",
    "library(scales)\n",
    "library(dplyr)"
   ]
  },
  {
   "cell_type": "code",
   "execution_count": 4,
   "metadata": {},
   "outputs": [],
   "source": [
    "elevation1 = raster::raster(\"../data/rayshader/HongKong/N21E113.hgt\")\n",
    "elevation2 = raster::raster(\"../data/rayshader/HongKong/N21E114.hgt\")\n",
    "elevation3 = raster::raster(\"../data/rayshader/HongKong/N22E113.hgt\")\n",
    "elevation4 = raster::raster(\"../data/rayshader/HongKong/N22E114.hgt\")"
   ]
  },
  {
   "cell_type": "markdown",
   "metadata": {},
   "source": [
    "Let's plot the elevation map. The whole image is green-ish because most of the area is ocean, so they are at sea-level. The orange color indicate a higher elevation."
   ]
  },
  {
   "cell_type": "code",
   "execution_count": null,
   "metadata": {
    "scrolled": true
   },
   "outputs": [],
   "source": [
    "hk_elevation = raster::merge(elevation1,elevation2, elevation3, elevation4)\n",
    "\n",
    "height_shade(raster_to_matrix(hk_elevation)) %>%\n",
    "plot_map();"
   ]
  },
  {
   "cell_type": "markdown",
   "metadata": {},
   "source": [
    "![elevation](rayshader_img/elevation_map.png)"
   ]
  },
  {
   "cell_type": "markdown",
   "metadata": {},
   "source": [
    "Next, we are going to process the RGB image from Landsat-8 ,The raw jpeg look like this.\n",
    "\n",
    "![raw_jpeg](rayshader_img/raw_jpg.jpg)"
   ]
  },
  {
   "cell_type": "markdown",
   "metadata": {},
   "source": [
    "Satellite raw images requries some preprocessing, before they look like what we expected. "
   ]
  },
  {
   "cell_type": "code",
   "execution_count": null,
   "metadata": {},
   "outputs": [],
   "source": [
    "hk_r = raster::raster(\"../data/rayshader/HongKong/LC08_L1TP_122044_20200218_20200225_01_T1_B4.TIF\")\n",
    "hk_g = raster::raster(\"../data/rayshader/HongKong/LC08_L1TP_122044_20200218_20200225_01_T1_B3.TIF\")\n",
    "hk_b = raster::raster(\"../data/rayshader/HongKong/LC08_L1TP_122044_20200218_20200225_01_T1_B2.TIF\")\n",
    "\n",
    "\n",
    "hk_rbg_corrected = sqrt(raster::stack(hk_r, hk_g, hk_b))\n",
    "raster::plotRGB(hk_rbg_corrected);"
   ]
  },
  {
   "cell_type": "markdown",
   "metadata": {},
   "source": [
    "![raw_corrected](rayshader_img/corrected_rgb.png)"
   ]
  },
  {
   "cell_type": "markdown",
   "metadata": {},
   "source": [
    "The image is quite hazzy, which doesn't look like the jpeg we saw earlier. We need to improve the contrast."
   ]
  },
  {
   "cell_type": "code",
   "execution_count": 11,
   "metadata": {},
   "outputs": [
    {
     "data": {
      "text/plain": [
       "CRS arguments:\n",
       " +proj=utm +zone=49 +datum=WGS84 +units=m +no_defs "
      ]
     },
     "metadata": {},
     "output_type": "display_data"
    },
    {
     "data": {
      "text/plain": [
       "class      : Extent \n",
       "xmin       : 797906.6 \n",
       "xmax       : 842523 \n",
       "ymin       : 2450766 \n",
       "ymax       : 2497449 "
      ]
     },
     "metadata": {},
     "output_type": "display_data"
    }
   ],
   "source": [
    "# Since the RGB image and elevation map does not use the same coordinate system, we need to do some projections.\n",
    "hk_elevation_utm = raster::projectRaster(hk_elevation, crs = crs(hk_r), method = \"bilinear\")\n",
    "crs(hk_elevation_utm)\n",
    "\n",
    "bottom_left = c(y=113.888, x=22.1365)\n",
    "top_right   = c(y=114.330, x=22.5493)\n",
    "\n",
    "extent_latlong = sp::SpatialPoints(rbind(bottom_left, top_right), proj4string=sp::CRS(\"+proj=longlat +ellps=WGS84 +datum=WGS84\"))\n",
    "extent_utm = sp::spTransform(extent_latlong, raster::crs(hk_elevation_utm))\n",
    "\n",
    "e = raster::extent(extent_utm)\n",
    "e"
   ]
  },
  {
   "cell_type": "code",
   "execution_count": 12,
   "metadata": {},
   "outputs": [],
   "source": [
    "hk_rgb_cropped = raster::crop(hk_rbg_corrected, e)\n",
    "elevation_cropped = raster::crop(hk_elevation_utm, e)\n",
    "\n",
    "names(hk_rgb_cropped) = c(\"r\",\"g\",\"b\")\n",
    "\n",
    "hk_r_cropped = rayshader::raster_to_matrix(hk_rgb_cropped$r)\n",
    "hk_g_cropped = rayshader::raster_to_matrix(hk_rgb_cropped$g)\n",
    "hk_b_cropped = rayshader::raster_to_matrix(hk_rgb_cropped$b)\n",
    "\n",
    "hkel_matrix = rayshader::raster_to_matrix(elevation_cropped)\n",
    "\n",
    "hk_rgb_array = array(0,dim=c(nrow(hk_r_cropped),ncol(hk_r_cropped),3))\n",
    "\n",
    "hk_rgb_array[,,1] = hk_r_cropped/255 #Red layer\n",
    "hk_rgb_array[,,2] = hk_g_cropped/255 #Blue layer\n",
    "hk_rgb_array[,,3] = hk_b_cropped/255 #Green layer\n",
    "\n",
    "hk_rgb_array = aperm(hk_rgb_array, c(2,1,3))\n",
    "\n",
    "plot_map(hk_rgb_array)"
   ]
  },
  {
   "cell_type": "markdown",
   "metadata": {},
   "source": [
    "![hazzy](rayshader_img/hazzy_rgb.png)"
   ]
  },
  {
   "cell_type": "markdown",
   "metadata": {},
   "source": [
    "The whole image is bright because we have some dark pixels in the corner. It's similiar to taking images in a dark room, any light source will become a bright spot.\n",
    "\n",
    "We can improve this by stretching the intensity. It's really no different than how you fine tune your images on Instagram.\n"
   ]
  },
  {
   "cell_type": "code",
   "execution_count": null,
   "metadata": {
    "scrolled": true
   },
   "outputs": [],
   "source": [
    "hk_rgb_cropped = raster::crop(hk_rbg_corrected, e)\n",
    "elevation_cropped = raster::crop(hk_elevation_utm, e)\n",
    "# Stretch the images\n",
    "hk_rgb_cropped <-\n",
    "raster::stretch(hk_rgb_cropped,\n",
    "minq = .01,\n",
    "maxq = .999,\n",
    ")\n",
    "\n",
    "names(hk_rgb_cropped) = c(\"r\",\"g\",\"b\")\n",
    "\n",
    "hk_r_cropped = rayshader::raster_to_matrix(hk_rgb_cropped$r)\n",
    "hk_g_cropped = rayshader::raster_to_matrix(hk_rgb_cropped$g)\n",
    "hk_b_cropped = rayshader::raster_to_matrix(hk_rgb_cropped$b)\n",
    "\n",
    "hkel_matrix = rayshader::raster_to_matrix(elevation_cropped)\n",
    "\n",
    "hk_rgb_array = array(0,dim=c(nrow(hk_r_cropped),ncol(hk_r_cropped),3))\n",
    "\n",
    "hk_rgb_array[,,1] = hk_r_cropped/255 #Red layer\n",
    "hk_rgb_array[,,2] = hk_g_cropped/255 #Blue layer\n",
    "hk_rgb_array[,,3] = hk_b_cropped/255 #Green layer\n",
    "\n",
    "hk_rgb_array = aperm(hk_rgb_array, c(2,1,3))\n",
    "hk_rgb_contrast = scales::rescale(hk_rgb_array,to=c(0,1))\n",
    "plot_map(hk_rgb_contrast)"
   ]
  },
  {
   "cell_type": "markdown",
   "metadata": {},
   "source": [
    "![bright](rayshader_img/bright_hk.png)"
   ]
  },
  {
   "cell_type": "markdown",
   "metadata": {},
   "source": [
    "Now we get a much better image"
   ]
  },
  {
   "cell_type": "code",
   "execution_count": null,
   "metadata": {},
   "outputs": [],
   "source": [
    "plot_3d(hk_rgb_contrast, hkel_matrix, windowsize = c(1100,900), zscale = 15, shadowdepth = -50,\n",
    "        zoom=0.5, phi=45,theta=-15,fov=70, background = \"#F2E1D0\", shadowcolor = \"#523E2B\")\n",
    "\n",
    "\n",
    "render_scalebar(limits=c(0, 5, 10),label_unit = \"km\",position = \"W\", y=50,\n",
    "                scale_length = c(0.33,1))\n",
    "render_compass(position = \"N\")\n",
    "render_snapshot(title_text = \"Hong Kong | Imagery: Landsat 8 | DEM: 30m SRTM\",\n",
    "                title_bar_color = \"#000000\", title_color = \"white\", title_bar_alpha = 1,\n",
    "               clear=TRUE, )\n"
   ]
  },
  {
   "cell_type": "markdown",
   "metadata": {},
   "source": [
    "![3d](rayshader_img/3d_hk.png)"
   ]
  }
 ],
 "metadata": {
  "kernelspec": {
   "display_name": "R",
   "language": "R",
   "name": "ir"
  },
  "language_info": {
   "codemirror_mode": "r",
   "file_extension": ".r",
   "mimetype": "text/x-r-source",
   "name": "R",
   "pygments_lexer": "r",
   "version": "3.6.1"
  },
  "toc": {
   "base_numbering": 1,
   "nav_menu": {},
   "number_sections": true,
   "sideBar": true,
   "skip_h1_title": false,
   "title_cell": "Table of Contents",
   "title_sidebar": "Contents",
   "toc_cell": false,
   "toc_position": {
    "height": "calc(100% - 180px)",
    "left": "10px",
    "top": "150px",
    "width": "322.188px"
   },
   "toc_section_display": true,
   "toc_window_display": false
  },
  "varInspector": {
   "cols": {
    "lenName": 16,
    "lenType": 16,
    "lenVar": 40
   },
   "kernels_config": {
    "python": {
     "delete_cmd_postfix": "",
     "delete_cmd_prefix": "del ",
     "library": "var_list.py",
     "varRefreshCmd": "print(var_dic_list())"
    },
    "r": {
     "delete_cmd_postfix": ") ",
     "delete_cmd_prefix": "rm(",
     "library": "var_list.r",
     "varRefreshCmd": "cat(var_dic_list()) "
    }
   },
   "types_to_exclude": [
    "module",
    "function",
    "builtin_function_or_method",
    "instance",
    "_Feature"
   ],
   "window_display": false
  }
 },
 "nbformat": 4,
 "nbformat_minor": 2
}
