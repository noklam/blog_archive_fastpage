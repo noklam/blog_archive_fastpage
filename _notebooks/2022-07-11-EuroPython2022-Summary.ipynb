{
 "cells": [
  {
   "cell_type": "markdown",
   "metadata": {},
   "source": [
    "# EuroPython 2022 - Conference Notes & Summary\n",
    "> Notes for EuroPython2022 (Update daily)\n",
    "\n",
    "- toc: true \n",
    "- badges: true\n",
    "- comments: true\n",
    "- categories: [europython]\n",
    "- image: images/chart-preview.png\n",
    "- hide: false"
   ]
  },
  {
   "cell_type": "markdown",
   "metadata": {},
   "source": [
    "Schedule: https://ep2022.europython.eu/schedule/2022-07-11\n",
    "\n",
    "Session that I attended:\n",
    "* Properties testing with Hypothesis\n",
    "* TDD Development with Pytest\n",
    "    "
   ]
  },
  {
   "cell_type": "markdown",
   "metadata": {},
   "source": [
    "## Bulletproof Python – Property-Based Testing with Hypothesis\n",
    "The term **property based testing** isn't too important. In a nutshell `hypothesis` is a python library that help you to write (better) tests by modifying your workflow.\n",
    "\n",
    "1. ~~Prepare mock data~~ Provide a specification of data, let `hypothesis` do the work\n",
    "2. Perform some operation\n",
    "3. Assert the result with expected value\n",
    "\n",
    "The rationale behind this is\n",
    "\n",
    "> Note: ** People write code don't come up with good test. **\n",
    "\n",
    "For example, you can generate  integers with `hypotesis.strategies.integers`, it does something smart under the hood so it's not just random number but more meaningful test. For example, you usually want to test for zero, negative number, positive number, large number. `hypoethsis` try to maximize the variety of tests and you just need to give it a specification.\n",
    "\n",
    "You can also generate more sophisticated data, for example, a tuple of two integers, where the second integer has to be larger than the first one.\n",
    "\n",
    "```python\n",
    "@st.composite\n",
    "\n",
    "def list_and_index(draw, elements=st.integers()):\n",
    "    first = draw(elements)\n",
    "    second = draw(st.integers(min_value=first + 1))\n",
    "    return (first, second)\n",
    "```\n",
    "\n",
    "Think of it as your virtual QA buddy."
   ]
  },
  {
   "cell_type": "markdown",
   "metadata": {},
   "source": [
    "## TDD Development with pytest\n",
    "\n",
    "Workflow for TDD\n",
    "1. Pick one bug/missing feature\n",
    "2. Write a test that fails\n",
    "3. Minimal amount of code that pass - (even hard coded!)\n",
    "4. Refactor\n",
    "\n",
    "There are good question ask around\n",
    "* In case of you don't know what's the expected answer, how do you write test that fails meaningfully?\n",
    "\n",
    "I jump out of the session because of a call, so not too comments about this session. I like the idea of TDD, but I am not sure how to do this in a meaningful way instead of creating tests mechanically. Some natural benefit comes with it is you start thinking about your design from the beginning - because code doesn't exists yet, it's could still be useful exercise to write code that are guarantee to fail.\n",
    "\n"
   ]
  }
 ],
 "metadata": {
  "kernelspec": {
   "display_name": "Python 3 (ipykernel)",
   "language": "python",
   "name": "python3"
  },
  "language_info": {
   "codemirror_mode": {
    "name": "ipython",
    "version": 3
   },
   "file_extension": ".py",
   "mimetype": "text/x-python",
   "name": "python",
   "nbconvert_exporter": "python",
   "pygments_lexer": "ipython3",
   "version": "3.8.5"
  },
  "toc": {
   "base_numbering": 1,
   "nav_menu": {},
   "number_sections": true,
   "sideBar": true,
   "skip_h1_title": false,
   "title_cell": "Table of Contents",
   "title_sidebar": "Contents",
   "toc_cell": false,
   "toc_position": {},
   "toc_section_display": true,
   "toc_window_display": true
  },
  "varInspector": {
   "cols": {
    "lenName": 16,
    "lenType": 16,
    "lenVar": 40
   },
   "kernels_config": {
    "python": {
     "delete_cmd_postfix": "",
     "delete_cmd_prefix": "del ",
     "library": "var_list.py",
     "varRefreshCmd": "print(var_dic_list())"
    },
    "r": {
     "delete_cmd_postfix": ") ",
     "delete_cmd_prefix": "rm(",
     "library": "var_list.r",
     "varRefreshCmd": "cat(var_dic_list()) "
    }
   },
   "types_to_exclude": [
    "module",
    "function",
    "builtin_function_or_method",
    "instance",
    "_Feature"
   ],
   "window_display": false
  }
 },
 "nbformat": 4,
 "nbformat_minor": 4
}
