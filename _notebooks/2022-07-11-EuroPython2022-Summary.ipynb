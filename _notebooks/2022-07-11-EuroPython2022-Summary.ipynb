{
 "cells": [
  {
   "cell_type": "markdown",
   "metadata": {},
   "source": [
    "# EuroPython 2022 - Conference Notes & Summary\n",
    "> Notes for EuroPython2022 (Update daily)\n",
    "\n",
    "- toc: true \n",
    "- badges: true\n",
    "- comments: true\n",
    "- categories: [europython]\n",
    "- image: images/europython.jpg\n",
    "- hide: false"
   ]
  },
  {
   "cell_type": "markdown",
   "metadata": {},
   "source": [
    "![EuroPython2022](images/europython_welcome.jpg)"
   ]
  },
  {
   "cell_type": "markdown",
   "metadata": {},
   "source": [
    "Schedule: https://ep2022.europython.eu/schedule/\n",
    "\n",
    "Session that I attended:\n",
    "#europython\n",
    "\n",
    "* Properties testing with Hypothesis\n",
    "* TDD Development with Pytest\n",
    "* Python Object under the hood\n",
    "* Norvig's lispy - beautiful and illuminating Python code\n",
    "* Introduction to Apache TVM\n",
    "* From pip to poetry - Python ways of packagin and publishing\n",
    "*  Czech Drourght monitoring system - from manual work to global drought monitoring and mahcine learning with Python\n",
    "Protocol in Python\n",
    "* Dance with shadows - stub mock and patch\n",
    "* What Happen when you import a library in Python\n",
    "* Music and code - good presentation\n",
    "* Dodging AI Dystopia\n",
    "* Make CPython Faster - Mark Shannon\n",
    "* Use animated charts to present & share your findings with ipyvizzu\n",
    "* DOCUMENTATION AS SECRET WEAPON\n",
    "* JWST - James Webb Telescope\n",
    "* Jupyter Under the hood architecture\n",
    "* Python thread safety parallelism without GIL\n",
    "* CPython Internals - implementation with a pipe operator\n",
    "* Hydra configuration with experiment\n",
    "    "
   ]
  },
  {
   "cell_type": "markdown",
   "metadata": {},
   "source": [
    "## Bulletproof Python – Property-Based Testing with Hypothesis\n",
    "The term **property based testing** isn't too important. In a nutshell `hypothesis` is a python library that help you to write (better) tests by modifying your workflow.\n",
    "\n",
    "1. ~~Prepare mock data~~ Provide a specification of data, let `hypothesis` do the work\n",
    "2. Perform some operation\n",
    "3. Assert the result with expected value\n",
    "\n",
    "The rationale behind this is\n",
    "\n",
    "> Note: ** People write code don't come up with good test. **\n",
    "\n",
    "For example, you can generate  integers with `hypotesis.strategies.integers`, it does something smart under the hood so it's not just random number but more meaningful test. For example, you usually want to test for zero, negative number, positive number, large number. `hypoethsis` try to maximize the variety of tests and you just need to give it a specification.\n",
    "\n",
    "You can also generate more sophisticated data, for example, a tuple of two integers, where the second integer has to be larger than the first one.\n",
    "\n",
    "```python\n",
    "@st.composite\n",
    "\n",
    "def list_and_index(draw, elements=st.integers()):\n",
    "    first = draw(elements)\n",
    "    second = draw(st.integers(min_value=first + 1))\n",
    "    return (first, second)\n",
    "```\n",
    "\n",
    "Think of it as your virtual QA buddy."
   ]
  },
  {
   "cell_type": "markdown",
   "metadata": {},
   "source": [
    "## TDD Development with pytest\n",
    "\n",
    "Workflow for TDD\n",
    "1. Pick one bug/missing feature\n",
    "2. Write a test that fails\n",
    "3. Minimal amount of code that pass - (even hard coded!)\n",
    "4. Refactor\n",
    "\n",
    "There are good questions asked\n",
    "* In case of you don't know what's the expected answer, how do you write test that fails meaningfully?\n",
    "\n",
    "I jump out of the session because of a call, so not too many comments about this session. In general I like the idea of TDD but struggle to apply the textbook version of TDD as examples are often much simpler than the real application.\n",
    "\n",
    "Few key points\n",
    "* Tests as specification about your program (What it does and what not)\n",
    "* Understand why you test fail and pass.\n",
    "* Tests are also good source of documentation.\n",
    "\n",
    "Thinking about test first also force you to think more about the design, you almost start from pseudocode (you function doesn't even exist!)."
   ]
  },
  {
   "cell_type": "markdown",
   "metadata": {},
   "source": [
    "# Python objects Under the hood\n",
    "Covers a lot about Python's magic method\n",
    "* `__init__` add  `__new__`\n",
    "* `__add__` and `__radd__`\n",
    "* `super()`\n",
    "* `__str__` and `__repr__`\n",
    "* `__next__` and `__iter__`\n",
    "* Why `__new__` is needed? \n",
    "\t* We need to create immutable object\n",
    "\t* Object creation start with `__new__` which create an instance -> `__init__` to customize the attributes\n",
    "\t* We need `__new__` to create a new immutable object \n",
    "\t* But how's python actually achieve immutable tuple? Unanswered\n",
    "\n",
    "  [[Tutor] When to use __new__ vs. __init__ ?](https://mail.python.org/pipermail/tutor/2008-April/061426.html)\n",
    "> __new__ is the first step of instance creation.  It's called first,\n",
    "and is responsible for returning a new instance of your class.  In\n",
    "contrast, __init__ doesn't return anything; it's only responsible for\n",
    "initializing the instance after it's been created."
   ]
  },
  {
   "cell_type": "markdown",
   "metadata": {},
   "source": [
    "# Norvig's lispy: beautiful and illuminating Python code"
   ]
  },
  {
   "cell_type": "markdown",
   "metadata": {},
   "source": [
    "This is an interesting exercise to implement an `Lisp` interpreter in `Python`. I am not from CS background so this is brand new to me, and uncover some of the details that how programming language actually works. It involves parsing text into `tokens` and evaluate them with some grammar which can be represented as AST.\n",
    "\n",
    "This is the AST for the example `(define double (lambda (n) (* n 2)))` drawn as a tree [reference](https://github.com/fluentpython/lispy/tree/main/workshops/europython2022): \n",
    "\n",
    "\n",
    "```  \n",
    "                              '*'  'n'   2  \n",
    "                        'n'    └────┼────┘  \n",
    "                         │          │  \n",
    "           'lambda'     [ ]        [ ]  \n",
    "               └─────────┼──────────┘  \n",
    "                         │  \n",
    "'define'   'double'     [ ]  \n",
    "    └─────────┼──────────┘  \n",
    "              │  \n",
    "             [ ]  \n",
    "```"
   ]
  },
  {
   "cell_type": "markdown",
   "metadata": {},
   "source": [
    "The speaker also introduce `ChainMap`, which I am not aware of before."
   ]
  },
  {
   "cell_type": "code",
   "execution_count": 128,
   "metadata": {},
   "outputs": [],
   "source": [
    "from collections import ChainMap\n",
    "a = {'a':1}\n",
    "b = {'b': 2}\n",
    "c = {'b': 3, 'c':4\n",
    "\n",
    "}\n",
    "\n",
    "chainmap = ChainMap(a,b,c)"
   ]
  },
  {
   "cell_type": "markdown",
   "metadata": {},
   "source": [
    "A `ChainMap` stores multiple dictionaries, instead of merging them they are all stored in the object. Take a guess which `chainmap['a'], chainmap['b'] are?"
   ]
  },
  {
   "cell_type": "code",
   "execution_count": 129,
   "metadata": {},
   "outputs": [
    {
     "data": {
      "text/plain": [
       "(1, 2)"
      ]
     },
     "execution_count": 129,
     "metadata": {},
     "output_type": "execute_result"
    }
   ],
   "source": [
    "chainmap['a'], chainmap['b']"
   ]
  },
  {
   "cell_type": "markdown",
   "metadata": {},
   "source": [
    "It pretty much behaves like a normal Python dictionary, except that when the same key exists in more than one of the dictionary, the one that is in the front of the argument list has higher priority."
   ]
  },
  {
   "cell_type": "markdown",
   "metadata": {},
   "source": [
    "## Introduction to Apache TVM"
   ]
  },
  {
   "cell_type": "markdown",
   "metadata": {},
   "source": [
    "![Apache TVM](europython/tvm.svg)"
   ]
  },
  {
   "cell_type": "markdown",
   "metadata": {},
   "source": [
    "* Apache TVM is a framework that try to squeeze extra performance from specialized hardware. \n",
    "\n",
    "In practice, the workflow roughly go like this\n",
    "1. Trained a model with your favored libraries (PyTorch/Tensorflow etc)\n",
    "2. Use TVM to compile and tune -> After this you get a compiled module as output\n",
    "3. Use TVM python API for inference\n",
    "\n",
    "The performance gains are mainly from hardware architecture that can give better performance, TVM did some architecture search and try to find the optimal one.\n",
    "\n",
    "> Note: Maybe one side benefit of this is it does not need the deep learning pipeline dependecenies since you just need the TVM Python API and the model file for inference."
   ]
  },
  {
   "cell_type": "markdown",
   "metadata": {},
   "source": [
    "# `typing.Protocol` in Python (Available in Python 3.8+)"
   ]
  },
  {
   "cell_type": "markdown",
   "metadata": {},
   "source": [
    "Since the introduction of type hints, it has been a popular python feature and a lot more static analysis tools is added into the Python ecosystem. The most popular static analysis tool in Python is `mypy`."
   ]
  },
  {
   "cell_type": "markdown",
   "metadata": {},
   "source": [
    "`Protocol` is a way of strcutural subtyping, it's best to understand it with an Example."
   ]
  },
  {
   "cell_type": "markdown",
   "metadata": {},
   "source": [
    "```python\n",
    "class Dog:\n",
    "    ...\n",
    "class Cat:\n",
    "    ...\n",
    "    \n",
    "def eat_bread(Union[Dog, Cat]):\n",
    "    do_somthing()\n",
    "```"
   ]
  },
  {
   "cell_type": "markdown",
   "metadata": {},
   "source": [
    "Imagine if you are importing the `eat_bread` function and you want to extend it with a new animal type. There are no way you can do it unless you go into the source code of the library and change the argument."
   ]
  },
  {
   "cell_type": "markdown",
   "metadata": {},
   "source": [
    "`Protocol` solve this problem in a way that I think it's quite similar to `traits`, which is quite common in languages like `Scala`."
   ]
  },
  {
   "cell_type": "markdown",
   "metadata": {},
   "source": [
    "```python\n",
    "class EatsBread(Protocol):\n",
    "\tdef eat_bread(self):\n",
    "\t\t...\n",
    "\n",
    "def feed_bread(animal: EatsBread):\n",
    "\tanimal.eat_bread()\n",
    "\n",
    "class Duck:\n",
    "\tdef eat_bread(self):\n",
    "\t\t...\n",
    "\n",
    "feed_bread(Duck())  # <-- OK\n",
    "```"
   ]
  },
  {
   "cell_type": "markdown",
   "metadata": {},
   "source": [
    "Python is a dynamic typing language, which is flexible with duck typing. In essence, if something can `swim` and `quack`, it's close enough to be consider as a duck. We only care about what the `class` can do, not the type of the class. So in this case, `Duck` has a method of `eat_bread`, and it maches the `Protocol` method and the static analysis tool will not have problem with it. As a result, we don't need to extend the `class` or add a new class to `Union` everytime we extend a new class."
   ]
  },
  {
   "cell_type": "markdown",
   "metadata": {},
   "source": [
    "# What Happened when you import a Python Library?"
   ]
  },
  {
   "cell_type": "markdown",
   "metadata": {},
   "source": [
    "This is an interesting talk as I recently had a bug that related to this exactly. It was a bug that due to different mechanism of `multiprocess`, In Windows and some versions of Mac, it used a `spawn process`, in Linux it is `fork process`. The main difference is that `spawn process` will re-import all the Python modules in the new process and cause some issues. In short, it's not a good idea to have side-effect when importing a library, always put that into a `__name__ == __main__` block."
   ]
  },
  {
   "cell_type": "markdown",
   "metadata": {},
   "source": [
    "* `modules` are python object -> you can do something like `import random; type(random)`\n",
    "* Whenever you import a module, a module object is created with a name, optionally you can alias it with `import module as xyz`\n",
    "* sys.modules is the Python VM that keep track of the imported library as a `dict`\n",
    "    * Since it is a dict, where the key is the name of the module and value as the module object\n",
    "    * If the module is imported more than 1 time, the `sys.modules` is smart enough to skip the import since the key already exist. It will just use the `module` object instead.\n",
    "  "
   ]
  },
  {
   "cell_type": "markdown",
   "metadata": {},
   "source": [
    "## How many modules imported in Python by default?\n",
    "* Python Shell - 79\n",
    "* IPython - 646!\n",
    "* Jupyter - 1020!!!\n",
    "\n",
    "It's quite surprising how many libraries are imported by default, and this explains why it takes some time whenever you do `ipython` on a shell, as the Python Interpreter is busy reading all the files and evalute it."
   ]
  },
  {
   "cell_type": "markdown",
   "metadata": {},
   "source": [
    "Some other interesting notes:\n",
    "* Python use a `Finder` and `Loader` to import modules\n",
    "* `sys.path` is the order that Python Interpreter search for modules, and the first match wins (This is important if you have duplicate namespace or if you do namespace package)\n",
    "* Don't do `sys.path.append` although you will find this very common if you do a Stackoverflow search, use environment variable `PYTHONPATH=some_path` instead"
   ]
  },
  {
   "cell_type": "code",
   "execution_count": null,
   "metadata": {},
   "outputs": [],
   "source": []
  }
 ],
 "metadata": {
  "kernelspec": {
   "display_name": "Python 3 (ipykernel)",
   "language": "python",
   "name": "python3"
  },
  "language_info": {
   "codemirror_mode": {
    "name": "ipython",
    "version": 3
   },
   "file_extension": ".py",
   "mimetype": "text/x-python",
   "name": "python",
   "nbconvert_exporter": "python",
   "pygments_lexer": "ipython3",
   "version": "3.7.5"
  },
  "toc": {
   "base_numbering": 1,
   "nav_menu": {},
   "number_sections": true,
   "sideBar": true,
   "skip_h1_title": false,
   "title_cell": "Table of Contents",
   "title_sidebar": "Contents",
   "toc_cell": false,
   "toc_position": {},
   "toc_section_display": true,
   "toc_window_display": true
  },
  "varInspector": {
   "cols": {
    "lenName": 16,
    "lenType": 16,
    "lenVar": 40
   },
   "kernels_config": {
    "python": {
     "delete_cmd_postfix": "",
     "delete_cmd_prefix": "del ",
     "library": "var_list.py",
     "varRefreshCmd": "print(var_dic_list())"
    },
    "r": {
     "delete_cmd_postfix": ") ",
     "delete_cmd_prefix": "rm(",
     "library": "var_list.r",
     "varRefreshCmd": "cat(var_dic_list()) "
    }
   },
   "types_to_exclude": [
    "module",
    "function",
    "builtin_function_or_method",
    "instance",
    "_Feature"
   ],
   "window_display": false
  }
 },
 "nbformat": 4,
 "nbformat_minor": 4
}
