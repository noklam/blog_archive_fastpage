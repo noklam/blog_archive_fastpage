{
 "cells": [
  {
   "cell_type": "markdown",
   "metadata": {},
   "source": [
    "# \"Recreating the BBC style graphic in Python - `plotnine` and `altair`\"\n",
    "> BBC R graphics cookbook? This is an attempt to reproduce https://bbc.github.io/rcookbook/ in python\n",
    "\n",
    "\n",
    "- toc: true \n",
    "- badges: true\n",
    "- comments: true\n",
    "- categories: [python]\n",
    "- hide: trues"
   ]
  },
  {
   "cell_type": "markdown",
   "metadata": {},
   "source": [
    "# Todo\n",
    "- [ ] Missing Subtitle (plotnine)\n",
    "- [ ] Missing Style"
   ]
  },
  {
   "cell_type": "markdown",
   "metadata": {},
   "source": [
    "# Difference between plotnine and ggplot\n",
    "99% of them are the same, except that in python you have to wrap column names in `''`, otherwise it will be treated as variable and caused error. Most of the time you just need to wrap a `''` or replaced with `_` depends on the function."
   ]
  },
  {
   "cell_type": "markdown",
   "metadata": {},
   "source": [
    "I tried to produce the same chart with `plotnine` and `altair`, and hopefully you will see their difference. `plotnine` covers 99% of `ggplot2`, so if you are coming from R, just go ahead with `plotnine`! `altair` is another interesting visualization library that base on vega-lite, therefore it can be integrated with website easily. In addition, it can also produce interactive chart with very simple function, which is a big plus!  "
   ]
  },
  {
   "cell_type": "markdown",
   "metadata": {},
   "source": [
    "# Setup"
   ]
  },
  {
   "cell_type": "code",
   "execution_count": 3,
   "metadata": {
    "ExecuteTime": {
     "end_time": "2020-04-21T09:47:27.079957Z",
     "start_time": "2020-04-21T09:47:04.195733Z"
    },
    "collapsed": true
   },
   "outputs": [
    {
     "name": "stdout",
     "output_type": "stream",
     "text": [
      "Collecting plotnine[all]\n",
      "  Using cached https://files.pythonhosted.org/packages/19/da/4d2f68e7436e76a3c26ccd804e1bfc5c58fca7a6cba06c71bab68b25e825/plotnine-0.6.0-py3-none-any.whl\n",
      "Collecting descartes>=1.1.0 (from plotnine[all])\n",
      "  Using cached https://files.pythonhosted.org/packages/e5/b6/1ed2eb03989ae574584664985367ba70cd9cf8b32ee8cad0e8aaeac819f3/descartes-1.1.0-py3-none-any.whl\n",
      "Requirement already satisfied: numpy>=1.16.0 in c:\\users\\channo.oocldm\\appdata\\local\\continuum\\anaconda3\\lib\\site-packages (from plotnine[all]) (1.16.5)\n",
      "Requirement already satisfied: matplotlib>=3.1.1 in c:\\users\\channo.oocldm\\appdata\\local\\continuum\\anaconda3\\lib\\site-packages (from plotnine[all]) (3.1.1)\n",
      "Requirement already satisfied: statsmodels>=0.9.0 in c:\\users\\channo.oocldm\\appdata\\local\\continuum\\anaconda3\\lib\\site-packages (from plotnine[all]) (0.10.1)\n",
      "Requirement already satisfied: pandas>=0.25.0 in c:\\users\\channo.oocldm\\appdata\\local\\continuum\\anaconda3\\lib\\site-packages (from plotnine[all]) (1.0.3)\n",
      "Requirement already satisfied: scipy>=1.2.0 in c:\\users\\channo.oocldm\\appdata\\local\\continuum\\anaconda3\\lib\\site-packages (from plotnine[all]) (1.3.1)\n",
      "Requirement already satisfied: patsy>=0.4.1 in c:\\users\\channo.oocldm\\appdata\\local\\continuum\\anaconda3\\lib\\site-packages (from plotnine[all]) (0.5.1)\n",
      "Collecting mizani>=0.6.0 (from plotnine[all])\n",
      "  Using cached https://files.pythonhosted.org/packages/e3/76/7a2c9094547ee592f9f43f651ab824aa6599af5e1456250c3f4cc162aece/mizani-0.6.0-py2.py3-none-any.whl\n",
      "Requirement already satisfied: scikit-learn; extra == \"all\" in c:\\users\\channo.oocldm\\appdata\\local\\continuum\\anaconda3\\lib\\site-packages (from plotnine[all]) (0.22.1)\n",
      "Collecting scikit-misc; extra == \"all\" (from plotnine[all])\n",
      "  Using cached https://files.pythonhosted.org/packages/94/4c/e6c3ba02dc66278317778b5c5df7b372c6c5313fce43615a7ce7fc0b34b8/scikit_misc-0.1.1-cp37-cp37m-win_amd64.whl\n",
      "Requirement already satisfied: cycler>=0.10 in c:\\users\\channo.oocldm\\appdata\\local\\continuum\\anaconda3\\lib\\site-packages (from matplotlib>=3.1.1->plotnine[all]) (0.10.0)\n",
      "Requirement already satisfied: kiwisolver>=1.0.1 in c:\\users\\channo.oocldm\\appdata\\local\\continuum\\anaconda3\\lib\\site-packages (from matplotlib>=3.1.1->plotnine[all]) (1.1.0)\n",
      "Requirement already satisfied: pyparsing!=2.0.4,!=2.1.2,!=2.1.6,>=2.0.1 in c:\\users\\channo.oocldm\\appdata\\local\\continuum\\anaconda3\\lib\\site-packages (from matplotlib>=3.1.1->plotnine[all]) (2.4.2)\n",
      "Requirement already satisfied: python-dateutil>=2.1 in c:\\users\\channo.oocldm\\appdata\\local\\continuum\\anaconda3\\lib\\site-packages (from matplotlib>=3.1.1->plotnine[all]) (2.8.0)\n",
      "Requirement already satisfied: pytz>=2017.2 in c:\\users\\channo.oocldm\\appdata\\local\\continuum\\anaconda3\\lib\\site-packages (from pandas>=0.25.0->plotnine[all]) (2019.3)\n",
      "Requirement already satisfied: six in c:\\users\\channo.oocldm\\appdata\\local\\continuum\\anaconda3\\lib\\site-packages (from patsy>=0.4.1->plotnine[all]) (1.12.0)\n",
      "Requirement already satisfied: palettable in c:\\users\\channo.oocldm\\appdata\\local\\continuum\\anaconda3\\lib\\site-packages (from mizani>=0.6.0->plotnine[all]) (3.3.0)\n",
      "Requirement already satisfied: joblib>=0.11 in c:\\users\\channo.oocldm\\appdata\\local\\continuum\\anaconda3\\lib\\site-packages (from scikit-learn; extra == \"all\"->plotnine[all]) (0.13.2)\n",
      "Requirement already satisfied: setuptools in c:\\users\\channo.oocldm\\appdata\\local\\continuum\\anaconda3\\lib\\site-packages (from kiwisolver>=1.0.1->matplotlib>=3.1.1->plotnine[all]) (41.4.0)\n",
      "Installing collected packages: descartes, mizani, scikit-misc, plotnine\n",
      "Successfully installed descartes-1.1.0 mizani-0.6.0 plotnine-0.6.0 scikit-misc-0.1.1\n",
      "Requirement already satisfied: altair in c:\\users\\channo.oocldm\\appdata\\local\\continuum\\anaconda3\\lib\\site-packages (4.1.0)\n",
      "Requirement already satisfied: jinja2 in c:\\users\\channo.oocldm\\appdata\\local\\continuum\\anaconda3\\lib\\site-packages (from altair) (2.10.3)\n",
      "Requirement already satisfied: jsonschema in c:\\users\\channo.oocldm\\appdata\\local\\continuum\\anaconda3\\lib\\site-packages (from altair) (3.0.2)\n",
      "Requirement already satisfied: entrypoints in c:\\users\\channo.oocldm\\appdata\\local\\continuum\\anaconda3\\lib\\site-packages (from altair) (0.3)\n",
      "Requirement already satisfied: numpy in c:\\users\\channo.oocldm\\appdata\\local\\continuum\\anaconda3\\lib\\site-packages (from altair) (1.16.5)\n",
      "Requirement already satisfied: toolz in c:\\users\\channo.oocldm\\appdata\\local\\continuum\\anaconda3\\lib\\site-packages (from altair) (0.10.0)\n",
      "Requirement already satisfied: pandas>=0.18 in c:\\users\\channo.oocldm\\appdata\\local\\continuum\\anaconda3\\lib\\site-packages (from altair) (1.0.3)\n",
      "Requirement already satisfied: MarkupSafe>=0.23 in c:\\users\\channo.oocldm\\appdata\\local\\continuum\\anaconda3\\lib\\site-packages (from jinja2->altair) (1.1.1)\n",
      "Requirement already satisfied: pyrsistent>=0.14.0 in c:\\users\\channo.oocldm\\appdata\\local\\continuum\\anaconda3\\lib\\site-packages (from jsonschema->altair) (0.15.4)\n",
      "Requirement already satisfied: setuptools in c:\\users\\channo.oocldm\\appdata\\local\\continuum\\anaconda3\\lib\\site-packages (from jsonschema->altair) (41.4.0)\n",
      "Requirement already satisfied: six>=1.11.0 in c:\\users\\channo.oocldm\\appdata\\local\\continuum\\anaconda3\\lib\\site-packages (from jsonschema->altair) (1.12.0)\n",
      "Requirement already satisfied: attrs>=17.4.0 in c:\\users\\channo.oocldm\\appdata\\local\\continuum\\anaconda3\\lib\\site-packages (from jsonschema->altair) (19.2.0)\n",
      "Requirement already satisfied: pytz>=2017.2 in c:\\users\\channo.oocldm\\appdata\\local\\continuum\\anaconda3\\lib\\site-packages (from pandas>=0.18->altair) (2019.3)\n",
      "Requirement already satisfied: python-dateutil>=2.6.1 in c:\\users\\channo.oocldm\\appdata\\local\\continuum\\anaconda3\\lib\\site-packages (from pandas>=0.18->altair) (2.8.0)\n",
      "Collecting gapminder\n",
      "  Downloading https://files.pythonhosted.org/packages/85/83/57293b277ac2990ea1d3d0439183da8a3466be58174f822c69b02e584863/gapminder-0.1-py3-none-any.whl\n",
      "Requirement already satisfied: pandas in c:\\users\\channo.oocldm\\appdata\\local\\continuum\\anaconda3\\lib\\site-packages (from gapminder) (1.0.3)\n",
      "Requirement already satisfied: numpy>=1.13.3 in c:\\users\\channo.oocldm\\appdata\\local\\continuum\\anaconda3\\lib\\site-packages (from pandas->gapminder) (1.16.5)\n",
      "Requirement already satisfied: pytz>=2017.2 in c:\\users\\channo.oocldm\\appdata\\local\\continuum\\anaconda3\\lib\\site-packages (from pandas->gapminder) (2019.3)\n",
      "Requirement already satisfied: python-dateutil>=2.6.1 in c:\\users\\channo.oocldm\\appdata\\local\\continuum\\anaconda3\\lib\\site-packages (from pandas->gapminder) (2.8.0)\n",
      "Requirement already satisfied: six>=1.5 in c:\\users\\channo.oocldm\\appdata\\local\\continuum\\anaconda3\\lib\\site-packages (from python-dateutil>=2.6.1->pandas->gapminder) (1.12.0)\n",
      "Installing collected packages: gapminder\n",
      "Successfully installed gapminder-0.1\n"
     ]
    }
   ],
   "source": [
    "# collapse-hide\n",
    "# !pip install plotnine[all]\n",
    "# !pip install altair\n",
    "# !pip install gapminder\n",
    "\n",
    "from gapminder import gapminder\n",
    "from plotnine.data import mtcars\n",
    "from plotnine import *\n",
    "from plotnine import ggplot, geom_point, aes, stat_smooth, facet_wrap, geom_line\n",
    "from plotnine import ggplot  # https://plotnine.readthedocs.io/en/stable/\n",
    "import altair as alt\n",
    "import pandas as pd\n",
    "import plotnine\n",
    "%matplotlib inline"
   ]
  },
  {
   "cell_type": "code",
   "execution_count": 4,
   "metadata": {
    "ExecuteTime": {
     "end_time": "2020-04-21T09:47:27.085941Z",
     "start_time": "2020-04-21T09:47:27.081952Z"
    }
   },
   "outputs": [
    {
     "name": "stdout",
     "output_type": "stream",
     "text": [
      "altair version: 4.1.0\n",
      "plotnine version: 0.6.0\n",
      "pandas version: 1.0.3\n"
     ]
    }
   ],
   "source": [
    "print(f'altair version: {alt.__version__}')\n",
    "print(f'plotnine version: {plotnine.__version__}')\n",
    "print(f'pandas version: {pd.__version__}')"
   ]
  },
  {
   "cell_type": "markdown",
   "metadata": {},
   "source": [
    "## Plotnine Example"
   ]
  },
  {
   "cell_type": "code",
   "execution_count": 5,
   "metadata": {
    "ExecuteTime": {
     "end_time": "2020-04-21T09:47:27.843419Z",
     "start_time": "2020-04-21T09:47:27.087936Z"
    }
   },
   "outputs": [
    {
     "data": {
      "image/png": "[encoded data removed]",
      "text/plain": [
       "<Figure size 640x480 with 3 Axes>"
      ]
     },
     "metadata": {},
     "output_type": "display_data"
    },
    {
     "data": {
      "text/plain": [
       "<ggplot: (-9223371941312347920)>"
      ]
     },
     "execution_count": 5,
     "metadata": {},
     "output_type": "execute_result"
    }
   ],
   "source": [
    "(ggplot(mtcars, aes('wt', 'mpg', color='factor(gear)'))\n",
    " + geom_point()\n",
    " + stat_smooth(method='lm')\n",
    " + facet_wrap('~gear'))\n"
   ]
  },
  {
   "cell_type": "markdown",
   "metadata": {},
   "source": [
    "# Make a Line Chart\n"
   ]
  },
  {
   "cell_type": "markdown",
   "metadata": {},
   "source": [
    "## ggplot\n",
    "```r\n",
    "line_df <- gapminder %>%\n",
    "  filter(country == \"Malawi\") \n",
    "\n",
    "#Make plot\n",
    "line <- ggplot(line_df, aes(x = year, y = lifeExp)) +\n",
    "  geom_line(colour = \"#1380A1\", size = 1) +\n",
    "  geom_hline(yintercept = 0, size = 1, colour=\"#333333\") +\n",
    "  bbc_style() +\n",
    "  labs(title=\"Living longer\",\n",
    "       subtitle = \"Life expectancy in Malawi 1952-2007\")\n",
    "```"
   ]
  },
  {
   "cell_type": "code",
   "execution_count": 6,
   "metadata": {
    "ExecuteTime": {
     "end_time": "2020-04-21T09:47:29.408223Z",
     "start_time": "2020-04-21T09:47:29.400245Z"
    }
   },
   "outputs": [],
   "source": [
    "#hide\n",
    "line_df = gapminder.query(\" country == 'Malawi' \")"
   ]
  },
  {
   "cell_type": "markdown",
   "metadata": {},
   "source": [
    "## plotnine"
   ]
  },
  {
   "cell_type": "code",
   "execution_count": 7,
   "metadata": {
    "ExecuteTime": {
     "end_time": "2020-04-21T09:47:30.149237Z",
     "start_time": "2020-04-21T09:47:29.807154Z"
    }
   },
   "outputs": [
    {
     "data": {
      "image/png": "[encoded data removed]",
      "text/plain": [
       "<Figure size 640x480 with 1 Axes>"
      ]
     },
     "metadata": {},
     "output_type": "display_data"
    },
    {
     "data": {
      "text/plain": [
       "<ggplot: (-9223371941310406772)>"
      ]
     },
     "execution_count": 7,
     "metadata": {},
     "output_type": "execute_result"
    }
   ],
   "source": [
    "(ggplot(line_df, aes(x='year', y='lifeExp')) +\n",
    " geom_line(colour='#1380A1', size=1) +\n",
    " geom_hline(yintercept = 0, size = 1, colour='#333333') +\n",
    " labs(title='Living longer', \n",
    "     subtitle = 'Life expectancy in Malawi 1952-2007')\n",
    " )"
   ]
  },
  {
   "cell_type": "code",
   "execution_count": 8,
   "metadata": {
    "ExecuteTime": {
     "end_time": "2020-04-21T09:47:30.191125Z",
     "start_time": "2020-04-21T09:47:30.151232Z"
    }
   },
   "outputs": [
    {
     "data": {
      "text/html": [
       "\n",
       "<div id=\"altair-viz-08ece90fee29424da66bd2467102af16\"></div>\n",
       "<script type=\"text/javascript\">\n",
       "  (function(spec, embedOpt){\n",
       "    let outputDiv = document.currentScript.previousElementSibling;\n",
       "    if (outputDiv.id !== \"altair-viz-08ece90fee29424da66bd2467102af16\") {\n",
       "      outputDiv = document.getElementById(\"altair-viz-08ece90fee29424da66bd2467102af16\");\n",
       "    }\n",
       "    const paths = {\n",
       "      \"vega\": \"https://cdn.jsdelivr.net/npm//vega@5?noext\",\n",
       "      \"vega-lib\": \"https://cdn.jsdelivr.net/npm//vega-lib?noext\",\n",
       "      \"vega-lite\": \"https://cdn.jsdelivr.net/npm//vega-lite@4.8.1?noext\",\n",
       "      \"vega-embed\": \"https://cdn.jsdelivr.net/npm//vega-embed@6?noext\",\n",
       "    };\n",
       "\n",
       "    function loadScript(lib) {\n",
       "      return new Promise(function(resolve, reject) {\n",
       "        var s = document.createElement('script');\n",
       "        s.src = paths[lib];\n",
       "        s.async = true;\n",
       "        s.onload = () => resolve(paths[lib]);\n",
       "        s.onerror = () => reject(`Error loading script: ${paths[lib]}`);\n",
       "        document.getElementsByTagName(\"head\")[0].appendChild(s);\n",
       "      });\n",
       "    }\n",
       "\n",
       "    function showError(err) {\n",
       "      outputDiv.innerHTML = `<div class=\"error\" style=\"color:red;\">${err}</div>`;\n",
       "      throw err;\n",
       "    }\n",
       "\n",
       "    function displayChart(vegaEmbed) {\n",
       "      vegaEmbed(outputDiv, spec, embedOpt)\n",
       "        .catch(err => showError(`Javascript Error: ${err.message}<br>This usually means there's a typo in your chart specification. See the javascript console for the full traceback.`));\n",
       "    }\n",
       "\n",
       "    if(typeof define === \"function\" && define.amd) {\n",
       "      requirejs.config({paths});\n",
       "      require([\"vega-embed\"], displayChart, err => showError(`Error loading script: ${err.message}`));\n",
       "    } else if (typeof vegaEmbed === \"function\") {\n",
       "      displayChart(vegaEmbed);\n",
       "    } else {\n",
       "      loadScript(\"vega\")\n",
       "        .then(() => loadScript(\"vega-lite\"))\n",
       "        .then(() => loadScript(\"vega-embed\"))\n",
       "        .catch(showError)\n",
       "        .then(() => displayChart(vegaEmbed));\n",
       "    }\n",
       "  })({\"config\": {\"view\": {\"continuousWidth\": 400, \"continuousHeight\": 300}}, \"layer\": [{\"data\": {\"name\": \"data-09bd37ab7bcd5f13694b463cd22b382a\"}, \"mark\": \"line\", \"encoding\": {\"x\": {\"type\": \"quantitative\", \"field\": \"year\"}, \"y\": {\"type\": \"quantitative\", \"field\": \"lifeExp\"}}, \"title\": {\"text\": \"Living Longer\", \"subtitle\": \"Life expectancy in Malawi 1952-2007\"}}, {\"data\": {\"name\": \"data-06fd9f850666401b4599de5588b60692\"}, \"mark\": {\"type\": \"rule\", \"color\": \"#333333\", \"strokeWidth\": 3}, \"encoding\": {\"y\": {\"type\": \"quantitative\", \"field\": \"y\"}}}], \"$schema\": \"https://vega.github.io/schema/vega-lite/v4.8.1.json\", \"datasets\": {\"data-09bd37ab7bcd5f13694b463cd22b382a\": [{\"country\": \"Malawi\", \"continent\": \"Africa\", \"year\": 1952, \"lifeExp\": 36.256, \"pop\": 2917802, \"gdpPercap\": 369.1650802}, {\"country\": \"Malawi\", \"continent\": \"Africa\", \"year\": 1957, \"lifeExp\": 37.207, \"pop\": 3221238, \"gdpPercap\": 416.36980639999996}, {\"country\": \"Malawi\", \"continent\": \"Africa\", \"year\": 1962, \"lifeExp\": 38.41, \"pop\": 3628608, \"gdpPercap\": 427.90108560000004}, {\"country\": \"Malawi\", \"continent\": \"Africa\", \"year\": 1967, \"lifeExp\": 39.486999999999995, \"pop\": 4147252, \"gdpPercap\": 495.5147806}, {\"country\": \"Malawi\", \"continent\": \"Africa\", \"year\": 1972, \"lifeExp\": 41.766000000000005, \"pop\": 4730997, \"gdpPercap\": 584.6219709}, {\"country\": \"Malawi\", \"continent\": \"Africa\", \"year\": 1977, \"lifeExp\": 43.766999999999996, \"pop\": 5637246, \"gdpPercap\": 663.2236766}, {\"country\": \"Malawi\", \"continent\": \"Africa\", \"year\": 1982, \"lifeExp\": 45.641999999999996, \"pop\": 6502825, \"gdpPercap\": 632.8039209}, {\"country\": \"Malawi\", \"continent\": \"Africa\", \"year\": 1987, \"lifeExp\": 47.457, \"pop\": 7824747, \"gdpPercap\": 635.5173633999999}, {\"country\": \"Malawi\", \"continent\": \"Africa\", \"year\": 1992, \"lifeExp\": 49.42, \"pop\": 10014249, \"gdpPercap\": 563.2000145}, {\"country\": \"Malawi\", \"continent\": \"Africa\", \"year\": 1997, \"lifeExp\": 47.495, \"pop\": 10419991, \"gdpPercap\": 692.2758102999999}, {\"country\": \"Malawi\", \"continent\": \"Africa\", \"year\": 2002, \"lifeExp\": 45.00899999999999, \"pop\": 11824495, \"gdpPercap\": 665.4231186000001}, {\"country\": \"Malawi\", \"continent\": \"Africa\", \"year\": 2007, \"lifeExp\": 48.303000000000004, \"pop\": 13327079, \"gdpPercap\": 759.3499101}], \"data-06fd9f850666401b4599de5588b60692\": [{\"y\": 0}]}}, {\"mode\": \"vega-lite\"});\n",
       "</script>"
      ],
      "text/plain": [
       "alt.LayerChart(...)"
      ]
     },
     "execution_count": 8,
     "metadata": {},
     "output_type": "execute_result"
    }
   ],
   "source": [
    "## altair\n",
    "line = (alt.Chart(line_df).mark_line().encode(\n",
    "x='year',\n",
    "y='lifeExp')\n",
    ".properties(title={'text': 'Living Longer',\n",
    "                   'subtitle': 'Life expectancy in Malawi 1952-2007'})\n",
    ") \n",
    "\n",
    "# hline\n",
    "overlay = overlay = pd.DataFrame({'y': [0]})\n",
    "hline = alt.Chart(overlay).mark_rule(color='#333333', strokeWidth=3).encode(y='y:Q')\n",
    "\n",
    "line + hline"
   ]
  },
  {
   "cell_type": "markdown",
   "metadata": {},
   "source": [
    "# The BBC style\n",
    "```R\n",
    "function () \n",
    "{\n",
    "    font <- \"Helvetica\"\n",
    "    ggplot2::theme(plot.title = ggplot2::element_text(family = font, \n",
    "    size = 28, face = \"bold\", color = \"#222222\"), plot.subtitle = ggplot2::element_text(family = font, \n",
    "    size = 22, margin = ggplot2::margin(9, 0, 9, 0)), plot.caption = ggplot2::element_blank(), \n",
    "    legend.position = \"top\", legend.text.align = 0, legend.background = ggplot2::element_blank(), \n",
    "    legend.title = ggplot2::element_blank(), legend.key = ggplot2::element_blank(), \n",
    "    legend.text = ggplot2::element_text(family = font, size = 18, \n",
    "        color = \"#222222\"), axis.title = ggplot2::element_blank(), \n",
    "    axis.text = ggplot2::element_text(family = font, size = 18, \n",
    "        color = \"#222222\"), axis.text.x = ggplot2::element_text(margin = ggplot2::margin(5, \n",
    "        b = 10)), axis.ticks = ggplot2::element_blank(), \n",
    "    axis.line = ggplot2::element_blank(), panel.grid.minor = ggplot2::element_blank(), \n",
    "    panel.grid.major.y = ggplot2::element_line(color = \"#cbcbcb\"), \n",
    "    panel.grid.major.x = ggplot2::element_blank(), panel.background = ggplot2::element_blank(), \n",
    "    strip.background = ggplot2::element_rect(fill = \"white\"), \n",
    "    strip.text = ggplot2::element_text(size = 22, hjust = 0))\n",
    "    }\n",
    "    <environment: namespace:bbplot>\n",
    "```"
   ]
  },
  {
   "cell_type": "code",
   "execution_count": 54,
   "metadata": {
    "ExecuteTime": {
     "end_time": "2020-04-22T06:13:09.985650Z",
     "start_time": "2020-04-22T06:13:09.972686Z"
    }
   },
   "outputs": [
    {
     "ename": "NameError",
     "evalue": "name 'legend_text_align' is not defined",
     "output_type": "error",
     "traceback": [
      "\u001b[1;31m-------------------------\u001b[0m",
      "\u001b[1;31mNameError\u001b[0mTraceback (most recent call last)",
      "\u001b[1;32m<ipython-input-54-6b903dfad290>\u001b[0m in \u001b[0;36m<module>\u001b[1;34m\u001b[0m\n\u001b[1;32m----> 1\u001b[1;33m \u001b[0mlegend_text_align\u001b[0m\u001b[1;33m\u001b[0m\u001b[1;33m\u001b[0m\u001b[0m\n\u001b[0m",
      "\u001b[1;31mNameError\u001b[0m: name 'legend_text_align' is not defined"
     ]
    }
   ],
   "source": [
    "legend_text_align"
   ]
  },
  {
   "cell_type": "code",
   "execution_count": 87,
   "metadata": {
    "ExecuteTime": {
     "end_time": "2020-04-22T06:36:56.051067Z",
     "start_time": "2020-04-22T06:36:56.044118Z"
    }
   },
   "outputs": [],
   "source": [
    "def bbc_style():\n",
    "    font = \"Helvetica\"\n",
    "    t = theme(plot_title=element_text(family=font,\n",
    "                                      size=28, face=\"bold\", color=\"#222222\"),\n",
    "              #       plot_subtitle=element_text(family=font,\n",
    "              #                                  size=22, plot_margin=(9, 0, 9, 0)), plot_caption=element_blank(),\n",
    "              legend_position=\"top\", legend_title_align=0, legend_background=element_blank(),\n",
    "              legend_title=element_blank(), legend_key=element_blank(),\n",
    "              legend_text=element_text(family=font, size=18,\n",
    "                                       color=\"#222222\"), axis_title=element_blank(),\n",
    "\n",
    "              axis_text=element_text(family=font, size=18,\n",
    "                                     color=\"#222222\"),\n",
    "              axis_text_x=element_text(margin={'t': 5, 'b': 10}),\n",
    "              axis_ticks=element_blank(),\n",
    "              axis_line=element_blank(), panel_grid_minor=element_blank(),\n",
    "              panel_grid_major_y=element_line(color=\"#cbcbcb\"),\n",
    "              panel_grid_major_x=element_blank(), panel_background=element_blank(),\n",
    "              strip_background=element_rect(fill=\"white\"),\n",
    "              strip_text=element_text(size=22, hjust=0)\n",
    "              )\n",
    "    return t"
   ]
  },
  {
   "cell_type": "code",
   "execution_count": null,
   "metadata": {
    "ExecuteTime": {
     "end_time": "2020-04-22T06:27:32.634252Z",
     "start_time": "2020-04-22T06:27:32.625720Z"
    }
   },
   "outputs": [],
   "source": []
  },
  {
   "cell_type": "code",
   "execution_count": 89,
   "metadata": {
    "ExecuteTime": {
     "end_time": "2020-04-22T06:37:11.757978Z",
     "start_time": "2020-04-22T06:37:11.749002Z"
    }
   },
   "outputs": [
    {
     "data": {
      "text/plain": [
       "<plotnine.themes.theme.theme at 0x163f0ca1508>"
      ]
     },
     "execution_count": 89,
     "metadata": {},
     "output_type": "execute_result"
    }
   ],
   "source": [
    "font = \"Helvetica\"\n",
    "theme(plot_title=element_text(family=font,\n",
    "                                      size=28, face=\"bold\", color=\"#222222\"),\n",
    "              #       plot_subtitle=element_text(family=font,\n",
    "              #                                  size=22, plot_margin=(9, 0, 9, 0)), plot_caption=element_blank(),\n",
    "              legend_position=\"top\", legend_title_align=0, legend_background=element_blank(),\n",
    "              legend_title=element_blank(), legend_key=element_blank(),\n",
    "              legend_text=element_text(family=font, size=18,\n",
    "                                       color=\"#222222\"), axis_title=element_blank(),\n",
    "\n",
    "              axis_text=element_text(family=font, size=18,\n",
    "                                     color=\"#222222\"),\n",
    "              axis_text_x=element_text(margin={'t': 5, 'b': 10}),\n",
    "              axis_ticks=element_blank(),\n",
    "              axis_line=element_blank(), panel_grid_minor=element_blank(),\n",
    "              panel_grid_major_y=element_line(color=\"#cbcbcb\"),\n",
    "              panel_grid_major_x=element_blank(), panel_background=element_blank(),\n",
    "              strip_background=element_rect(fill=\"white\"),\n",
    "              strip_text=element_text(size=22, hjust=0)\n",
    "              )"
   ]
  },
  {
   "cell_type": "markdown",
   "metadata": {},
   "source": [
    "The `finalise_plot()` function does more than just save out your chart, it also left-aligns the title and subtitle as is standard for BBC graphics, adds a footer with the logo on the right side and lets you input source text on the left side."
   ]
  },
  {
   "cell_type": "markdown",
   "metadata": {},
   "source": [
    "## altair"
   ]
  },
  {
   "cell_type": "code",
   "execution_count": 90,
   "metadata": {
    "ExecuteTime": {
     "end_time": "2020-04-22T06:37:15.118084Z",
     "start_time": "2020-04-22T06:37:15.085171Z"
    }
   },
   "outputs": [
    {
     "data": {
      "text/html": [
       "\n",
       "<div id=\"altair-viz-bd68f968dd334ec596e17d9d7c1f1359\"></div>\n",
       "<script type=\"text/javascript\">\n",
       "  (function(spec, embedOpt){\n",
       "    let outputDiv = document.currentScript.previousElementSibling;\n",
       "    if (outputDiv.id !== \"altair-viz-bd68f968dd334ec596e17d9d7c1f1359\") {\n",
       "      outputDiv = document.getElementById(\"altair-viz-bd68f968dd334ec596e17d9d7c1f1359\");\n",
       "    }\n",
       "    const paths = {\n",
       "      \"vega\": \"https://cdn.jsdelivr.net/npm//vega@5?noext\",\n",
       "      \"vega-lib\": \"https://cdn.jsdelivr.net/npm//vega-lib?noext\",\n",
       "      \"vega-lite\": \"https://cdn.jsdelivr.net/npm//vega-lite@4.8.1?noext\",\n",
       "      \"vega-embed\": \"https://cdn.jsdelivr.net/npm//vega-embed@6?noext\",\n",
       "    };\n",
       "\n",
       "    function loadScript(lib) {\n",
       "      return new Promise(function(resolve, reject) {\n",
       "        var s = document.createElement('script');\n",
       "        s.src = paths[lib];\n",
       "        s.async = true;\n",
       "        s.onload = () => resolve(paths[lib]);\n",
       "        s.onerror = () => reject(`Error loading script: ${paths[lib]}`);\n",
       "        document.getElementsByTagName(\"head\")[0].appendChild(s);\n",
       "      });\n",
       "    }\n",
       "\n",
       "    function showError(err) {\n",
       "      outputDiv.innerHTML = `<div class=\"error\" style=\"color:red;\">${err}</div>`;\n",
       "      throw err;\n",
       "    }\n",
       "\n",
       "    function displayChart(vegaEmbed) {\n",
       "      vegaEmbed(outputDiv, spec, embedOpt)\n",
       "        .catch(err => showError(`Javascript Error: ${err.message}<br>This usually means there's a typo in your chart specification. See the javascript console for the full traceback.`));\n",
       "    }\n",
       "\n",
       "    if(typeof define === \"function\" && define.amd) {\n",
       "      requirejs.config({paths});\n",
       "      require([\"vega-embed\"], displayChart, err => showError(`Error loading script: ${err.message}`));\n",
       "    } else if (typeof vegaEmbed === \"function\") {\n",
       "      displayChart(vegaEmbed);\n",
       "    } else {\n",
       "      loadScript(\"vega\")\n",
       "        .then(() => loadScript(\"vega-lite\"))\n",
       "        .then(() => loadScript(\"vega-embed\"))\n",
       "        .catch(showError)\n",
       "        .then(() => displayChart(vegaEmbed));\n",
       "    }\n",
       "  })({\"config\": {\"view\": {\"continuousWidth\": 400, \"continuousHeight\": 300}}, \"layer\": [{\"data\": {\"name\": \"data-09bd37ab7bcd5f13694b463cd22b382a\"}, \"mark\": \"line\", \"encoding\": {\"x\": {\"type\": \"quantitative\", \"field\": \"year\"}, \"y\": {\"type\": \"quantitative\", \"field\": \"lifeExp\"}}, \"title\": {\"text\": \"Living Longer\", \"subtitle\": \"Life expectancy in China 1952-2007\"}}, {\"data\": {\"name\": \"data-b72d08f8e8aba7f4bc4f7a2761cca43e\"}, \"mark\": {\"type\": \"rule\", \"color\": \"#333333\", \"strokeWidth\": 3}, \"encoding\": {\"y\": {\"type\": \"quantitative\", \"field\": \"lifeExp\"}}}], \"$schema\": \"https://vega.github.io/schema/vega-lite/v4.8.1.json\", \"datasets\": {\"data-09bd37ab7bcd5f13694b463cd22b382a\": [{\"country\": \"Malawi\", \"continent\": \"Africa\", \"year\": 1952, \"lifeExp\": 36.256, \"pop\": 2917802, \"gdpPercap\": 369.1650802}, {\"country\": \"Malawi\", \"continent\": \"Africa\", \"year\": 1957, \"lifeExp\": 37.207, \"pop\": 3221238, \"gdpPercap\": 416.36980639999996}, {\"country\": \"Malawi\", \"continent\": \"Africa\", \"year\": 1962, \"lifeExp\": 38.41, \"pop\": 3628608, \"gdpPercap\": 427.90108560000004}, {\"country\": \"Malawi\", \"continent\": \"Africa\", \"year\": 1967, \"lifeExp\": 39.486999999999995, \"pop\": 4147252, \"gdpPercap\": 495.5147806}, {\"country\": \"Malawi\", \"continent\": \"Africa\", \"year\": 1972, \"lifeExp\": 41.766000000000005, \"pop\": 4730997, \"gdpPercap\": 584.6219709}, {\"country\": \"Malawi\", \"continent\": \"Africa\", \"year\": 1977, \"lifeExp\": 43.766999999999996, \"pop\": 5637246, \"gdpPercap\": 663.2236766}, {\"country\": \"Malawi\", \"continent\": \"Africa\", \"year\": 1982, \"lifeExp\": 45.641999999999996, \"pop\": 6502825, \"gdpPercap\": 632.8039209}, {\"country\": \"Malawi\", \"continent\": \"Africa\", \"year\": 1987, \"lifeExp\": 47.457, \"pop\": 7824747, \"gdpPercap\": 635.5173633999999}, {\"country\": \"Malawi\", \"continent\": \"Africa\", \"year\": 1992, \"lifeExp\": 49.42, \"pop\": 10014249, \"gdpPercap\": 563.2000145}, {\"country\": \"Malawi\", \"continent\": \"Africa\", \"year\": 1997, \"lifeExp\": 47.495, \"pop\": 10419991, \"gdpPercap\": 692.2758102999999}, {\"country\": \"Malawi\", \"continent\": \"Africa\", \"year\": 2002, \"lifeExp\": 45.00899999999999, \"pop\": 11824495, \"gdpPercap\": 665.4231186000001}, {\"country\": \"Malawi\", \"continent\": \"Africa\", \"year\": 2007, \"lifeExp\": 48.303000000000004, \"pop\": 13327079, \"gdpPercap\": 759.3499101}], \"data-b72d08f8e8aba7f4bc4f7a2761cca43e\": [{\"lifeExp\": 0}]}}, {\"mode\": \"vega-lite\"});\n",
       "</script>"
      ],
      "text/plain": [
       "alt.LayerChart(...)"
      ]
     },
     "execution_count": 90,
     "metadata": {},
     "output_type": "execute_result"
    }
   ],
   "source": [
    "## altair\n",
    "line = (alt.Chart(line_df).mark_line().encode(\n",
    "x='year',\n",
    "y='lifeExp')\n",
    ".properties(title={'text': 'Living Longer',\n",
    "                   'subtitle': 'Life expectancy in China 1952-2007'})\n",
    ") \n",
    "\n",
    "# hline\n",
    "overlay = overlay = pd.DataFrame({'lifeExp': [0]})\n",
    "hline = alt.Chart(overlay).mark_rule(color='#333333', strokeWidth=3).encode(y='lifeExp:Q')\n",
    "\n",
    "line + hline"
   ]
  },
  {
   "cell_type": "markdown",
   "metadata": {},
   "source": [
    "# Make a multiple line chart"
   ]
  },
  {
   "cell_type": "code",
   "execution_count": 91,
   "metadata": {
    "ExecuteTime": {
     "end_time": "2020-04-22T06:37:16.120930Z",
     "start_time": "2020-04-22T06:37:16.113948Z"
    }
   },
   "outputs": [],
   "source": [
    "# hide\n",
    "# Prepare data\n",
    "multiline_df = gapminder.query(\n",
    "    'country == \"China\" | country ==\"United States\" ')"
   ]
  },
  {
   "cell_type": "markdown",
   "metadata": {},
   "source": [
    "## ggplot\n",
    "\n",
    "```r\n",
    "#Prepare data\n",
    "multiple_line_df <- gapminder %>%\n",
    "  filter(country == \"China\" | country == \"United States\") \n",
    "\n",
    "#Make plot\n",
    "multiple_line <- ggplot(multiple_line_df, aes(x = year, y = lifeExp, colour = country)) +\n",
    "  geom_line(size = 1) +\n",
    "  geom_hline(yintercept = 0, size = 1, colour=\"#333333\") +\n",
    "  scale_colour_manual(values = c(\"#FAAB18\", \"#1380A1\")) +\n",
    "  bbc_style() +\n",
    "  labs(title=\"Living longer\",\n",
    "       subtitle = \"Life expectancy in China and the US\")\n",
    "```"
   ]
  },
  {
   "cell_type": "markdown",
   "metadata": {},
   "source": [
    "## plotnine"
   ]
  },
  {
   "cell_type": "code",
   "execution_count": 92,
   "metadata": {
    "ExecuteTime": {
     "end_time": "2020-04-22T06:37:17.502995Z",
     "start_time": "2020-04-22T06:37:17.167383Z"
    }
   },
   "outputs": [
    {
     "name": "stderr",
     "output_type": "stream",
     "text": [
      "findfont: Font family ['Helvetica'] not found. Falling back to DejaVu Sans.\n",
      "findfont: Font family ['Helvetica'] not found. Falling back to DejaVu Sans.\n"
     ]
    },
    {
     "data": {
      "image/png": "[encoded data removed]",
      "text/plain": [
       "<Figure size 640x480 with 1 Axes>"
      ]
     },
     "metadata": {},
     "output_type": "display_data"
    },
    {
     "data": {
      "text/plain": [
       "<ggplot: (-9223371941310014864)>"
      ]
     },
     "execution_count": 92,
     "metadata": {},
     "output_type": "execute_result"
    }
   ],
   "source": [
    "# Make plot\n",
    "multiline = (\n",
    "    ggplot(multiline_df, aes(x='year', y='lifeExp', colour='country')) +\n",
    "    geom_line(colour=\"#1380A1\", size=1) +\n",
    "    geom_hline(yintercept=0, size=1, color=\"#333333\") +\n",
    "    scale_colour_manual(values=[\"#FAAB18\", \"#1380A1\"]) +\n",
    "      bbc_style() +\n",
    "    labs(title=\"Living longer\",\n",
    "         subtitle=\"Life expectancy in China 1952-2007\"))\n",
    "multiline"
   ]
  },
  {
   "cell_type": "markdown",
   "metadata": {},
   "source": [
    "## altair"
   ]
  },
  {
   "cell_type": "code",
   "execution_count": 12,
   "metadata": {
    "ExecuteTime": {
     "end_time": "2020-04-21T09:47:32.475002Z",
     "start_time": "2020-04-21T09:47:32.364299Z"
    }
   },
   "outputs": [
    {
     "data": {
      "text/html": [
       "\n",
       "<div id=\"altair-viz-f99f481a2f53474fbadc4f79b22afc9f\"></div>\n",
       "<script type=\"text/javascript\">\n",
       "  (function(spec, embedOpt){\n",
       "    let outputDiv = document.currentScript.previousElementSibling;\n",
       "    if (outputDiv.id !== \"altair-viz-f99f481a2f53474fbadc4f79b22afc9f\") {\n",
       "      outputDiv = document.getElementById(\"altair-viz-f99f481a2f53474fbadc4f79b22afc9f\");\n",
       "    }\n",
       "    const paths = {\n",
       "      \"vega\": \"https://cdn.jsdelivr.net/npm//vega@5?noext\",\n",
       "      \"vega-lib\": \"https://cdn.jsdelivr.net/npm//vega-lib?noext\",\n",
       "      \"vega-lite\": \"https://cdn.jsdelivr.net/npm//vega-lite@4.8.1?noext\",\n",
       "      \"vega-embed\": \"https://cdn.jsdelivr.net/npm//vega-embed@6?noext\",\n",
       "    };\n",
       "\n",
       "    function loadScript(lib) {\n",
       "      return new Promise(function(resolve, reject) {\n",
       "        var s = document.createElement('script');\n",
       "        s.src = paths[lib];\n",
       "        s.async = true;\n",
       "        s.onload = () => resolve(paths[lib]);\n",
       "        s.onerror = () => reject(`Error loading script: ${paths[lib]}`);\n",
       "        document.getElementsByTagName(\"head\")[0].appendChild(s);\n",
       "      });\n",
       "    }\n",
       "\n",
       "    function showError(err) {\n",
       "      outputDiv.innerHTML = `<div class=\"error\" style=\"color:red;\">${err}</div>`;\n",
       "      throw err;\n",
       "    }\n",
       "\n",
       "    function displayChart(vegaEmbed) {\n",
       "      vegaEmbed(outputDiv, spec, embedOpt)\n",
       "        .catch(err => showError(`Javascript Error: ${err.message}<br>This usually means there's a typo in your chart specification. See the javascript console for the full traceback.`));\n",
       "    }\n",
       "\n",
       "    if(typeof define === \"function\" && define.amd) {\n",
       "      requirejs.config({paths});\n",
       "      require([\"vega-embed\"], displayChart, err => showError(`Error loading script: ${err.message}`));\n",
       "    } else if (typeof vegaEmbed === \"function\") {\n",
       "      displayChart(vegaEmbed);\n",
       "    } else {\n",
       "      loadScript(\"vega\")\n",
       "        .then(() => loadScript(\"vega-lite\"))\n",
       "        .then(() => loadScript(\"vega-embed\"))\n",
       "        .catch(showError)\n",
       "        .then(() => displayChart(vegaEmbed));\n",
       "    }\n",
       "  })({\"config\": {\"view\": {\"continuousWidth\": 400, \"continuousHeight\": 300}}, \"layer\": [{\"data\": {\"name\": \"data-e288d201d411085ed0c88f3916d88499\"}, \"mark\": \"line\", \"encoding\": {\"color\": {\"type\": \"nominal\", \"field\": \"country\"}, \"x\": {\"type\": \"quantitative\", \"field\": \"year\"}, \"y\": {\"type\": \"quantitative\", \"field\": \"lifeExp\"}}, \"title\": {\"text\": \"Living Longer\", \"subtitle\": \"Life expectancy in China 1952-2007\"}}, {\"data\": {\"name\": \"data-b72d08f8e8aba7f4bc4f7a2761cca43e\"}, \"mark\": {\"type\": \"rule\", \"color\": \"#333333\", \"strokeWidth\": 3}, \"encoding\": {\"y\": {\"type\": \"quantitative\", \"field\": \"lifeExp\"}}}], \"$schema\": \"https://vega.github.io/schema/vega-lite/v4.8.1.json\", \"datasets\": {\"data-e288d201d411085ed0c88f3916d88499\": [{\"country\": \"China\", \"continent\": \"Asia\", \"year\": 1952, \"lifeExp\": 44.0, \"pop\": 556263527, \"gdpPercap\": 400.44861099999997}, {\"country\": \"China\", \"continent\": \"Asia\", \"year\": 1957, \"lifeExp\": 50.54896, \"pop\": 637408000, \"gdpPercap\": 575.9870009}, {\"country\": \"China\", \"continent\": \"Asia\", \"year\": 1962, \"lifeExp\": 44.50136, \"pop\": 665770000, \"gdpPercap\": 487.6740183}, {\"country\": \"China\", \"continent\": \"Asia\", \"year\": 1967, \"lifeExp\": 58.381119999999996, \"pop\": 754550000, \"gdpPercap\": 612.7056934}, {\"country\": \"China\", \"continent\": \"Asia\", \"year\": 1972, \"lifeExp\": 63.118880000000004, \"pop\": 862030000, \"gdpPercap\": 676.9000921}, {\"country\": \"China\", \"continent\": \"Asia\", \"year\": 1977, \"lifeExp\": 63.96736, \"pop\": 943455000, \"gdpPercap\": 741.2374699}, {\"country\": \"China\", \"continent\": \"Asia\", \"year\": 1982, \"lifeExp\": 65.525, \"pop\": 1000281000, \"gdpPercap\": 962.4213804999999}, {\"country\": \"China\", \"continent\": \"Asia\", \"year\": 1987, \"lifeExp\": 67.274, \"pop\": 1084035000, \"gdpPercap\": 1378.904018}, {\"country\": \"China\", \"continent\": \"Asia\", \"year\": 1992, \"lifeExp\": 68.69, \"pop\": 1164970000, \"gdpPercap\": 1655.784158}, {\"country\": \"China\", \"continent\": \"Asia\", \"year\": 1997, \"lifeExp\": 70.426, \"pop\": 1230075000, \"gdpPercap\": 2289.234136}, {\"country\": \"China\", \"continent\": \"Asia\", \"year\": 2002, \"lifeExp\": 72.028, \"pop\": 1280400000, \"gdpPercap\": 3119.280896}, {\"country\": \"China\", \"continent\": \"Asia\", \"year\": 2007, \"lifeExp\": 72.961, \"pop\": 1318683096, \"gdpPercap\": 4959.1148539999995}, {\"country\": \"United States\", \"continent\": \"Americas\", \"year\": 1952, \"lifeExp\": 68.44, \"pop\": 157553000, \"gdpPercap\": 13990.482080000002}, {\"country\": \"United States\", \"continent\": \"Americas\", \"year\": 1957, \"lifeExp\": 69.49, \"pop\": 171984000, \"gdpPercap\": 14847.12712}, {\"country\": \"United States\", \"continent\": \"Americas\", \"year\": 1962, \"lifeExp\": 70.21, \"pop\": 186538000, \"gdpPercap\": 16173.145859999999}, {\"country\": \"United States\", \"continent\": \"Americas\", \"year\": 1967, \"lifeExp\": 70.76, \"pop\": 198712000, \"gdpPercap\": 19530.365569999998}, {\"country\": \"United States\", \"continent\": \"Americas\", \"year\": 1972, \"lifeExp\": 71.34, \"pop\": 209896000, \"gdpPercap\": 21806.03594}, {\"country\": \"United States\", \"continent\": \"Americas\", \"year\": 1977, \"lifeExp\": 73.38, \"pop\": 220239000, \"gdpPercap\": 24072.63213}, {\"country\": \"United States\", \"continent\": \"Americas\", \"year\": 1982, \"lifeExp\": 74.65, \"pop\": 232187835, \"gdpPercap\": 25009.55914}, {\"country\": \"United States\", \"continent\": \"Americas\", \"year\": 1987, \"lifeExp\": 75.02, \"pop\": 242803533, \"gdpPercap\": 29884.350410000003}, {\"country\": \"United States\", \"continent\": \"Americas\", \"year\": 1992, \"lifeExp\": 76.09, \"pop\": 256894189, \"gdpPercap\": 32003.93224}, {\"country\": \"United States\", \"continent\": \"Americas\", \"year\": 1997, \"lifeExp\": 76.81, \"pop\": 272911760, \"gdpPercap\": 35767.43303}, {\"country\": \"United States\", \"continent\": \"Americas\", \"year\": 2002, \"lifeExp\": 77.31, \"pop\": 287675526, \"gdpPercap\": 39097.09955}, {\"country\": \"United States\", \"continent\": \"Americas\", \"year\": 2007, \"lifeExp\": 78.242, \"pop\": 301139947, \"gdpPercap\": 42951.65309}], \"data-b72d08f8e8aba7f4bc4f7a2761cca43e\": [{\"lifeExp\": 0}]}}, {\"mode\": \"vega-lite\"});\n",
       "</script>"
      ],
      "text/plain": [
       "alt.LayerChart(...)"
      ]
     },
     "execution_count": 12,
     "metadata": {},
     "output_type": "execute_result"
    }
   ],
   "source": [
    "multiline_altair = (alt.Chart(multiline_df).mark_line().encode(\n",
    "x='year',\n",
    "y='lifeExp',\n",
    "color='country')\n",
    ".properties(title={'text': 'Living Longer',\n",
    "                   'subtitle': 'Life expectancy in China 1952-2007'})\n",
    ") \n",
    "\n",
    "# hline\n",
    "overlay = overlay = pd.DataFrame({'lifeExp': [0]})\n",
    "hline = alt.Chart(overlay).mark_rule(color='#333333', strokeWidth=3).encode(y='lifeExp:Q')\n",
    "\n",
    "multiline_altair + hline"
   ]
  },
  {
   "cell_type": "markdown",
   "metadata": {},
   "source": [
    "# Make a bar chart"
   ]
  },
  {
   "cell_type": "markdown",
   "metadata": {},
   "source": [
    "# ggplot\n",
    "```r\n",
    "#Prepare data\n",
    "bar_df <- gapminder %>%\n",
    "  filter(year == 2007 & continent == \"Africa\") %>%\n",
    "  arrange(desc(lifeExp)) %>%\n",
    "  head(5)\n",
    "\n",
    "#Make plot\n",
    "bars <- ggplot(bar_df, aes(x = country, y = lifeExp)) +\n",
    "  geom_bar(stat=\"identity\", \n",
    "           position=\"identity\", \n",
    "           fill=\"#1380A1\") +\n",
    "  geom_hline(yintercept = 0, size = 1, colour=\"#333333\") +\n",
    "  bbc_style() +\n",
    "  labs(title=\"Reunion is highest\",\n",
    "       subtitle = \"Highest African life expectancy, 2007\")\n",
    "```"
   ]
  },
  {
   "cell_type": "code",
   "execution_count": 13,
   "metadata": {
    "ExecuteTime": {
     "end_time": "2020-04-21T09:47:32.968678Z",
     "start_time": "2020-04-21T09:47:32.959703Z"
    }
   },
   "outputs": [],
   "source": [
    "## hide\n",
    "bar_df = gapminder.query(' year == 2007 & continent == \"Africa\" ').nlargest(5, 'lifeExp')"
   ]
  },
  {
   "cell_type": "markdown",
   "metadata": {},
   "source": [
    "## plotnine"
   ]
  },
  {
   "cell_type": "code",
   "execution_count": 14,
   "metadata": {
    "ExecuteTime": {
     "end_time": "2020-04-21T09:47:33.564082Z",
     "start_time": "2020-04-21T09:47:33.337689Z"
    }
   },
   "outputs": [
    {
     "data": {
      "image/png": "[encoded data removed]",
      "text/plain": [
       "<Figure size 640x480 with 1 Axes>"
      ]
     },
     "metadata": {},
     "output_type": "display_data"
    },
    {
     "data": {
      "text/plain": [
       "<ggplot: (-9223371941310355340)>"
      ]
     },
     "execution_count": 14,
     "metadata": {},
     "output_type": "execute_result"
    }
   ],
   "source": [
    "bars_ggplot = (ggplot(bar_df, aes(x='country', y='lifeExp')) +\n",
    "  geom_bar(stat=\"identity\",\n",
    "           position=\"identity\",\n",
    "           fill=\"#1380A1\") +\n",
    "  geom_hline(yintercept=0, size=1, colour=\"#333333\") +\n",
    "#   bbc_style() +\n",
    "  labs(title=\"Reunion is highest\",\n",
    "       subtitle=\"Highest African life expectancy, 2007\"))\n",
    "\n",
    "bars_ggplot"
   ]
  },
  {
   "cell_type": "markdown",
   "metadata": {},
   "source": [
    "## altair"
   ]
  },
  {
   "cell_type": "code",
   "execution_count": 15,
   "metadata": {
    "ExecuteTime": {
     "end_time": "2020-04-21T09:47:33.738619Z",
     "start_time": "2020-04-21T09:47:33.714683Z"
    }
   },
   "outputs": [
    {
     "data": {
      "text/html": [
       "\n",
       "<div id=\"altair-viz-5dcd7b1199264c8794f7faa0c2a52471\"></div>\n",
       "<script type=\"text/javascript\">\n",
       "  (function(spec, embedOpt){\n",
       "    let outputDiv = document.currentScript.previousElementSibling;\n",
       "    if (outputDiv.id !== \"altair-viz-5dcd7b1199264c8794f7faa0c2a52471\") {\n",
       "      outputDiv = document.getElementById(\"altair-viz-5dcd7b1199264c8794f7faa0c2a52471\");\n",
       "    }\n",
       "    const paths = {\n",
       "      \"vega\": \"https://cdn.jsdelivr.net/npm//vega@5?noext\",\n",
       "      \"vega-lib\": \"https://cdn.jsdelivr.net/npm//vega-lib?noext\",\n",
       "      \"vega-lite\": \"https://cdn.jsdelivr.net/npm//vega-lite@4.8.1?noext\",\n",
       "      \"vega-embed\": \"https://cdn.jsdelivr.net/npm//vega-embed@6?noext\",\n",
       "    };\n",
       "\n",
       "    function loadScript(lib) {\n",
       "      return new Promise(function(resolve, reject) {\n",
       "        var s = document.createElement('script');\n",
       "        s.src = paths[lib];\n",
       "        s.async = true;\n",
       "        s.onload = () => resolve(paths[lib]);\n",
       "        s.onerror = () => reject(`Error loading script: ${paths[lib]}`);\n",
       "        document.getElementsByTagName(\"head\")[0].appendChild(s);\n",
       "      });\n",
       "    }\n",
       "\n",
       "    function showError(err) {\n",
       "      outputDiv.innerHTML = `<div class=\"error\" style=\"color:red;\">${err}</div>`;\n",
       "      throw err;\n",
       "    }\n",
       "\n",
       "    function displayChart(vegaEmbed) {\n",
       "      vegaEmbed(outputDiv, spec, embedOpt)\n",
       "        .catch(err => showError(`Javascript Error: ${err.message}<br>This usually means there's a typo in your chart specification. See the javascript console for the full traceback.`));\n",
       "    }\n",
       "\n",
       "    if(typeof define === \"function\" && define.amd) {\n",
       "      requirejs.config({paths});\n",
       "      require([\"vega-embed\"], displayChart, err => showError(`Error loading script: ${err.message}`));\n",
       "    } else if (typeof vegaEmbed === \"function\") {\n",
       "      displayChart(vegaEmbed);\n",
       "    } else {\n",
       "      loadScript(\"vega\")\n",
       "        .then(() => loadScript(\"vega-lite\"))\n",
       "        .then(() => loadScript(\"vega-embed\"))\n",
       "        .catch(showError)\n",
       "        .then(() => displayChart(vegaEmbed));\n",
       "    }\n",
       "  })({\"config\": {\"view\": {\"continuousWidth\": 400, \"continuousHeight\": 300}}, \"data\": {\"name\": \"data-2c873659a10eb72379a7cf9f200ef3ca\"}, \"mark\": \"bar\", \"encoding\": {\"x\": {\"type\": \"nominal\", \"field\": \"country\"}, \"y\": {\"type\": \"quantitative\", \"field\": \"lifeExp\"}}, \"title\": {\"text\": \"Reunion is highest\", \"subtitle\": \"Highest African life expectancy, 2007\"}, \"$schema\": \"https://vega.github.io/schema/vega-lite/v4.8.1.json\", \"datasets\": {\"data-2c873659a10eb72379a7cf9f200ef3ca\": [{\"country\": \"Reunion\", \"continent\": \"Africa\", \"year\": 2007, \"lifeExp\": 76.442, \"pop\": 798094, \"gdpPercap\": 7670.122558}, {\"country\": \"Libya\", \"continent\": \"Africa\", \"year\": 2007, \"lifeExp\": 73.952, \"pop\": 6036914, \"gdpPercap\": 12057.49928}, {\"country\": \"Tunisia\", \"continent\": \"Africa\", \"year\": 2007, \"lifeExp\": 73.923, \"pop\": 10276158, \"gdpPercap\": 7092.923025}, {\"country\": \"Mauritius\", \"continent\": \"Africa\", \"year\": 2007, \"lifeExp\": 72.801, \"pop\": 1250882, \"gdpPercap\": 10956.99112}, {\"country\": \"Algeria\", \"continent\": \"Africa\", \"year\": 2007, \"lifeExp\": 72.301, \"pop\": 33333216, \"gdpPercap\": 6223.367465}]}}, {\"mode\": \"vega-lite\"});\n",
       "</script>"
      ],
      "text/plain": [
       "alt.Chart(...)"
      ]
     },
     "execution_count": 15,
     "metadata": {},
     "output_type": "execute_result"
    }
   ],
   "source": [
    "bars_altair = (alt.Chart(bar_df).mark_bar().encode(\n",
    "x='country',\n",
    "y='lifeExp',\n",
    "# color='country'\n",
    ")\n",
    ".properties(title={'text': 'Reunion is highest',\n",
    "                   'subtitle': 'Highest African life expectancy, 2007'})\n",
    ") \n",
    "\n",
    "bars_altair"
   ]
  },
  {
   "cell_type": "markdown",
   "metadata": {},
   "source": [
    "# Make a stacked bar chart"
   ]
  },
  {
   "cell_type": "markdown",
   "metadata": {},
   "source": [
    "## Data preprocessing"
   ]
  },
  {
   "cell_type": "code",
   "execution_count": 16,
   "metadata": {
    "ExecuteTime": {
     "end_time": "2020-04-21T09:47:34.356962Z",
     "start_time": "2020-04-21T09:47:34.323053Z"
    }
   },
   "outputs": [
    {
     "data": {
      "text/html": [
       "<div>\n",
       "<style scoped>\n",
       "    .dataframe tbody tr th:only-of-type {\n",
       "        vertical-align: middle;\n",
       "    }\n",
       "\n",
       "    .dataframe tbody tr th {\n",
       "        vertical-align: top;\n",
       "    }\n",
       "\n",
       "    .dataframe thead th {\n",
       "        text-align: right;\n",
       "    }\n",
       "</style>\n",
       "<table border=\"1\" class=\"dataframe\">\n",
       "  <thead>\n",
       "    <tr style=\"text-align: right;\">\n",
       "      <th></th>\n",
       "      <th>continent</th>\n",
       "      <th>lifeExpGrouped</th>\n",
       "      <th>continentPop</th>\n",
       "    </tr>\n",
       "  </thead>\n",
       "  <tbody>\n",
       "    <tr>\n",
       "      <th>0</th>\n",
       "      <td>Africa</td>\n",
       "      <td>under 50</td>\n",
       "      <td>376100713.0</td>\n",
       "    </tr>\n",
       "    <tr>\n",
       "      <th>1</th>\n",
       "      <td>Africa</td>\n",
       "      <td>50-65</td>\n",
       "      <td>386811458.0</td>\n",
       "    </tr>\n",
       "    <tr>\n",
       "      <th>2</th>\n",
       "      <td>Africa</td>\n",
       "      <td>65-80</td>\n",
       "      <td>166627521.0</td>\n",
       "    </tr>\n",
       "    <tr>\n",
       "      <th>3</th>\n",
       "      <td>Africa</td>\n",
       "      <td>80+</td>\n",
       "      <td>NaN</td>\n",
       "    </tr>\n",
       "    <tr>\n",
       "      <th>4</th>\n",
       "      <td>Americas</td>\n",
       "      <td>under 50</td>\n",
       "      <td>NaN</td>\n",
       "    </tr>\n",
       "    <tr>\n",
       "      <th>5</th>\n",
       "      <td>Americas</td>\n",
       "      <td>50-65</td>\n",
       "      <td>8502814.0</td>\n",
       "    </tr>\n",
       "  </tbody>\n",
       "</table>\n",
       "</div>"
      ],
      "text/plain": [
       "  continent lifeExpGrouped  continentPop\n",
       "0    Africa       under 50   376100713.0\n",
       "1    Africa          50-65   386811458.0\n",
       "2    Africa          65-80   166627521.0\n",
       "3    Africa            80+           NaN\n",
       "4  Americas       under 50           NaN\n",
       "5  Americas          50-65     8502814.0"
      ]
     },
     "execution_count": 16,
     "metadata": {},
     "output_type": "execute_result"
    }
   ],
   "source": [
    "## collapse-hide\n",
    "stacked_bar_df = (\n",
    "    gapminder.query(' year == 2007')\n",
    "    .assign(\n",
    "        lifeExpGrouped=lambda x: pd.cut(\n",
    "            x['lifeExp'],\n",
    "            bins=[0, 50, 65, 80, 90],\n",
    "            labels=[\"under 50\", \"50-65\", \"65-80\", \"80+\"]))\n",
    "    .groupby(\n",
    "        ['continent', 'lifeExpGrouped'], as_index=True)\n",
    "    .agg({'pop': 'sum'})\n",
    "    .rename(columns={'pop': 'continentPop'})\n",
    "    .reset_index()\n",
    ")\n",
    "stacked_bar_df['lifeExpGrouped'] = pd.Categorical(stacked_bar_df['lifeExpGrouped'], ordered=True)\n",
    "\n",
    "stacked_bar_df.head(6)"
   ]
  },
  {
   "cell_type": "markdown",
   "metadata": {
    "heading_collapsed": true
   },
   "source": [
    "## ggplot\n",
    "```r\n",
    "#prepare data\n",
    "stacked_df <- gapminder %>% \n",
    "  filter(year == 2007) %>%\n",
    "  mutate(lifeExpGrouped = cut(lifeExp, \n",
    "                    breaks = c(0, 50, 65, 80, 90),\n",
    "                    labels = c(\"Under 50\", \"50-65\", \"65-80\", \"80+\"))) %>%\n",
    "  group_by(continent, lifeExpGrouped) %>%\n",
    "  summarise(continentPop = sum(as.numeric(pop)))\n",
    "\n",
    "#set order of stacks by changing factor levels\n",
    "stacked_df$lifeExpGrouped = factor(stacked_df$lifeExpGrouped, levels = rev(levels(stacked_df$lifeExpGrouped)))\n",
    "\n",
    "#create plot\n",
    "stacked_bars <- ggplot(data = stacked_df, \n",
    "                       aes(x = continent,\n",
    "                           y = continentPop,\n",
    "                           fill = lifeExpGrouped)) +\n",
    "  geom_bar(stat = \"identity\", \n",
    "           position = \"fill\") +\n",
    "  bbc_style() +\n",
    "  scale_y_continuous(labels = scales::percent) +\n",
    "  scale_fill_viridis_d(direction = -1) +\n",
    "  geom_hline(yintercept = 0, size = 1, colour = \"#333333\") +\n",
    "  labs(title = \"How life expectancy varies\",\n",
    "       subtitle = \"% of population by life expectancy band, 2007\") +\n",
    "  theme(legend.position = \"top\", \n",
    "        legend.justification = \"left\") +\n",
    "  guides(fill = guide_legend(reverse = TRUE))\n",
    "```"
   ]
  },
  {
   "cell_type": "markdown",
   "metadata": {},
   "source": [
    "## plotnine"
   ]
  },
  {
   "cell_type": "code",
   "execution_count": 17,
   "metadata": {
    "ExecuteTime": {
     "end_time": "2020-04-21T09:47:38.515855Z",
     "start_time": "2020-04-21T09:47:38.204690Z"
    }
   },
   "outputs": [
    {
     "name": "stderr",
     "output_type": "stream",
     "text": [
      "C:\\Users\\CHANNO.OOCLDM\\AppData\\Local\\Continuum\\anaconda3\\lib\\site-packages\\plotnine\\scales\\scale.py:91: PlotnineWarning: scale_fill_cmap_d could not recognise parameter `direction`\n",
      "  warn(msg.format(self.__class__.__name__, k), PlotnineWarning)\n",
      "C:\\Users\\CHANNO.OOCLDM\\AppData\\Local\\Continuum\\anaconda3\\lib\\site-packages\\plotnine\\layer.py:433: PlotnineWarning: position_stack : Removed 7 rows containing missing values.\n",
      "  data = self.position.setup_data(self.data, params)\n"
     ]
    },
    {
     "data": {
      "image/png": "[encoded data removed]",
      "text/plain": [
       "<Figure size 640x480 with 1 Axes>"
      ]
     },
     "metadata": {},
     "output_type": "display_data"
    },
    {
     "data": {
      "text/plain": [
       "<ggplot: (-9223371941310320660)>"
      ]
     },
     "execution_count": 17,
     "metadata": {},
     "output_type": "execute_result"
    }
   ],
   "source": [
    "# create plot\n",
    "stacked_bar_ggplot = (\n",
    "    ggplot(stacked_bar_df,\n",
    "           aes(x='continent',\n",
    "               y='continentPop',\n",
    "               fill='lifeExpGrouped')\n",
    "           ) +\n",
    "    geom_bar(stat=\"identity\",\n",
    "             position=\"fill\") +\n",
    "    #   bbc_style() +\n",
    "    scale_y_continuous(labels=lambda l: [\"%d%%\" % (v * 100) for v in l]) +\n",
    "    scale_fill_cmap_d(direction=-1) +  # scale_fill_viridis_d\n",
    "    geom_hline(yintercept=0, size=1, colour=\"#333333\") +\n",
    "    labs(title=\"How life expectancy varies\",\n",
    "         subtitle=\"% of population by life expectancy band, 2007\") +\n",
    "\n",
    "    guides(fill=guide_legend(reverse=True)))\n",
    "\n",
    "stacked_bar_ggplot"
   ]
  },
  {
   "cell_type": "code",
   "execution_count": 18,
   "metadata": {
    "ExecuteTime": {
     "end_time": "2020-04-21T09:47:38.869906Z",
     "start_time": "2020-04-21T09:47:38.517898Z"
    }
   },
   "outputs": [
    {
     "name": "stderr",
     "output_type": "stream",
     "text": [
      "C:\\Users\\CHANNO.OOCLDM\\AppData\\Local\\Continuum\\anaconda3\\lib\\site-packages\\plotnine\\scales\\scale.py:91: PlotnineWarning: scale_fill_cmap_d could not recognise parameter `direction`\n",
      "  warn(msg.format(self.__class__.__name__, k), PlotnineWarning)\n",
      "C:\\Users\\CHANNO.OOCLDM\\AppData\\Local\\Continuum\\anaconda3\\lib\\site-packages\\plotnine\\layer.py:433: PlotnineWarning: position_stack : Removed 7 rows containing missing values.\n",
      "  data = self.position.setup_data(self.data, params)\n"
     ]
    },
    {
     "data": {
      "image/png": "[encoded data removed]",
      "text/plain": [
       "<Figure size 640x480 with 1 Axes>"
      ]
     },
     "metadata": {},
     "output_type": "display_data"
    },
    {
     "data": {
      "text/plain": [
       "<ggplot: (-9223371941310406808)>"
      ]
     },
     "execution_count": 18,
     "metadata": {},
     "output_type": "execute_result"
    }
   ],
   "source": [
    "# create plot\n",
    "stacked_bar_ggplot = (\n",
    "    ggplot(stacked_bar_df,\n",
    "           aes(x='continent',\n",
    "               y='continentPop',\n",
    "               fill='lifeExpGrouped')\n",
    "           ) +\n",
    "    geom_bar(stat=\"identity\",\n",
    "             position=\"fill\") +\n",
    "    #   bbc_style() +\n",
    "    scale_y_continuous(labels=lambda l: [\"%d%%\" % (v * 100) for v in l]) +\n",
    "    scale_fill_cmap_d(direction=-1) +  # scale_fill_viridis_d\n",
    "    geom_hline(yintercept=0, size=1, colour=\"#333333\") +\n",
    "    labs(title=\"How life expectancy varies\",\n",
    "         subtitle=\"% of population by life expectancy band, 2007\") +\n",
    "\n",
    "    guides(fill=guide_legend(reverse=True)))\n",
    "\n",
    "stacked_bar_ggplot"
   ]
  },
  {
   "cell_type": "markdown",
   "metadata": {},
   "source": [
    "## altair"
   ]
  },
  {
   "cell_type": "code",
   "execution_count": 19,
   "metadata": {
    "ExecuteTime": {
     "end_time": "2020-04-21T09:47:38.900824Z",
     "start_time": "2020-04-21T09:47:38.870903Z"
    }
   },
   "outputs": [
    {
     "data": {
      "text/html": [
       "\n",
       "<div id=\"altair-viz-dfba4f1dcf31401d825b0c1c0d5d2edf\"></div>\n",
       "<script type=\"text/javascript\">\n",
       "  (function(spec, embedOpt){\n",
       "    let outputDiv = document.currentScript.previousElementSibling;\n",
       "    if (outputDiv.id !== \"altair-viz-dfba4f1dcf31401d825b0c1c0d5d2edf\") {\n",
       "      outputDiv = document.getElementById(\"altair-viz-dfba4f1dcf31401d825b0c1c0d5d2edf\");\n",
       "    }\n",
       "    const paths = {\n",
       "      \"vega\": \"https://cdn.jsdelivr.net/npm//vega@5?noext\",\n",
       "      \"vega-lib\": \"https://cdn.jsdelivr.net/npm//vega-lib?noext\",\n",
       "      \"vega-lite\": \"https://cdn.jsdelivr.net/npm//vega-lite@4.8.1?noext\",\n",
       "      \"vega-embed\": \"https://cdn.jsdelivr.net/npm//vega-embed@6?noext\",\n",
       "    };\n",
       "\n",
       "    function loadScript(lib) {\n",
       "      return new Promise(function(resolve, reject) {\n",
       "        var s = document.createElement('script');\n",
       "        s.src = paths[lib];\n",
       "        s.async = true;\n",
       "        s.onload = () => resolve(paths[lib]);\n",
       "        s.onerror = () => reject(`Error loading script: ${paths[lib]}`);\n",
       "        document.getElementsByTagName(\"head\")[0].appendChild(s);\n",
       "      });\n",
       "    }\n",
       "\n",
       "    function showError(err) {\n",
       "      outputDiv.innerHTML = `<div class=\"error\" style=\"color:red;\">${err}</div>`;\n",
       "      throw err;\n",
       "    }\n",
       "\n",
       "    function displayChart(vegaEmbed) {\n",
       "      vegaEmbed(outputDiv, spec, embedOpt)\n",
       "        .catch(err => showError(`Javascript Error: ${err.message}<br>This usually means there's a typo in your chart specification. See the javascript console for the full traceback.`));\n",
       "    }\n",
       "\n",
       "    if(typeof define === \"function\" && define.amd) {\n",
       "      requirejs.config({paths});\n",
       "      require([\"vega-embed\"], displayChart, err => showError(`Error loading script: ${err.message}`));\n",
       "    } else if (typeof vegaEmbed === \"function\") {\n",
       "      displayChart(vegaEmbed);\n",
       "    } else {\n",
       "      loadScript(\"vega\")\n",
       "        .then(() => loadScript(\"vega-lite\"))\n",
       "        .then(() => loadScript(\"vega-embed\"))\n",
       "        .catch(showError)\n",
       "        .then(() => displayChart(vegaEmbed));\n",
       "    }\n",
       "  })({\"config\": {\"view\": {\"continuousWidth\": 400, \"continuousHeight\": 300}}, \"layer\": [{\"data\": {\"name\": \"data-144d424e1e9fff33be59e9736a4970cd\"}, \"mark\": \"bar\", \"encoding\": {\"fill\": {\"type\": \"nominal\", \"field\": \"lifeExpGrouped\", \"scale\": {\"scheme\": \"viridis\"}}, \"x\": {\"type\": \"nominal\", \"field\": \"continent\"}, \"y\": {\"type\": \"quantitative\", \"axis\": {\"format\": \"%\"}, \"field\": \"continentPop\", \"stack\": \"normalize\"}}, \"title\": {\"text\": \"How life expectancy varies\", \"subtitle\": \"% of population by life expectancy band, 2007\"}}, {\"data\": {\"name\": \"data-d45d92cd6de2edfd11b04060325cd948\"}, \"mark\": {\"type\": \"rule\", \"color\": \"#333333\", \"strokeWidth\": 2}, \"encoding\": {\"y\": {\"type\": \"quantitative\", \"field\": \"continentPop\"}}}], \"$schema\": \"https://vega.github.io/schema/vega-lite/v4.8.1.json\", \"datasets\": {\"data-144d424e1e9fff33be59e9736a4970cd\": [{\"continent\": \"Africa\", \"lifeExpGrouped\": \"under 50\", \"continentPop\": 376100713.0}, {\"continent\": \"Africa\", \"lifeExpGrouped\": \"50-65\", \"continentPop\": 386811458.0}, {\"continent\": \"Africa\", \"lifeExpGrouped\": \"65-80\", \"continentPop\": 166627521.0}, {\"continent\": \"Africa\", \"lifeExpGrouped\": \"80+\", \"continentPop\": null}, {\"continent\": \"Americas\", \"lifeExpGrouped\": \"under 50\", \"continentPop\": null}, {\"continent\": \"Americas\", \"lifeExpGrouped\": \"50-65\", \"continentPop\": 8502814.0}, {\"continent\": \"Americas\", \"lifeExpGrouped\": \"65-80\", \"continentPop\": 856978229.0}, {\"continent\": \"Americas\", \"lifeExpGrouped\": \"80+\", \"continentPop\": 33390141.0}, {\"continent\": \"Asia\", \"lifeExpGrouped\": \"under 50\", \"continentPop\": 31889923.0}, {\"continent\": \"Asia\", \"lifeExpGrouped\": \"50-65\", \"continentPop\": 1401351679.0}, {\"continent\": \"Asia\", \"lifeExpGrouped\": \"65-80\", \"continentPop\": 2237837162.0}, {\"continent\": \"Asia\", \"lifeExpGrouped\": \"80+\", \"continentPop\": 140875063.0}, {\"continent\": \"Europe\", \"lifeExpGrouped\": \"under 50\", \"continentPop\": null}, {\"continent\": \"Europe\", \"lifeExpGrouped\": \"50-65\", \"continentPop\": null}, {\"continent\": \"Europe\", \"lifeExpGrouped\": \"65-80\", \"continentPop\": 404903083.0}, {\"continent\": \"Europe\", \"lifeExpGrouped\": \"80+\", \"continentPop\": 181195446.0}, {\"continent\": \"Oceania\", \"lifeExpGrouped\": \"under 50\", \"continentPop\": null}, {\"continent\": \"Oceania\", \"lifeExpGrouped\": \"50-65\", \"continentPop\": null}, {\"continent\": \"Oceania\", \"lifeExpGrouped\": \"65-80\", \"continentPop\": null}, {\"continent\": \"Oceania\", \"lifeExpGrouped\": \"80+\", \"continentPop\": 24549947.0}], \"data-d45d92cd6de2edfd11b04060325cd948\": [{\"continentPop\": 0}]}}, {\"mode\": \"vega-lite\"});\n",
       "</script>"
      ],
      "text/plain": [
       "alt.LayerChart(...)"
      ]
     },
     "execution_count": 19,
     "metadata": {},
     "output_type": "execute_result"
    }
   ],
   "source": [
    "stacked_bar_altair = (\n",
    "    alt.Chart(stacked_bar_df)\n",
    "    .mark_bar()\n",
    "    .encode(x='continent',\n",
    "            y=alt.Y('continentPop', stack='normalize',\n",
    "                    axis=alt.Axis(format='%')),\n",
    "            fill=alt.Fill('lifeExpGrouped', scale=alt.Scale(scheme='viridis')))\n",
    "    .properties(title={'text': 'How life expectancy varies',\n",
    "                       'subtitle': '% of population by life expectancy band, 2007'}\n",
    "                )\n",
    ")\n",
    "\n",
    "overlay = overlay = pd.DataFrame({'continentPop': [0]})\n",
    "hline = alt.Chart(overlay).mark_rule(\n",
    "    color='#333333', strokeWidth=2).encode(y='continentPop:Q')\n",
    "\n",
    "\n",
    "stacked_bar_altair + hline"
   ]
  },
  {
   "cell_type": "markdown",
   "metadata": {},
   "source": [
    "# Make a grouped bar chart"
   ]
  },
  {
   "cell_type": "code",
   "execution_count": 20,
   "metadata": {
    "ExecuteTime": {
     "end_time": "2020-04-21T09:47:39.817365Z",
     "start_time": "2020-04-21T09:47:39.780465Z"
    }
   },
   "outputs": [
    {
     "data": {
      "text/html": [
       "<div>\n",
       "<style scoped>\n",
       "    .dataframe tbody tr th:only-of-type {\n",
       "        vertical-align: middle;\n",
       "    }\n",
       "\n",
       "    .dataframe tbody tr th {\n",
       "        vertical-align: top;\n",
       "    }\n",
       "\n",
       "    .dataframe thead th {\n",
       "        text-align: right;\n",
       "    }\n",
       "</style>\n",
       "<table border=\"1\" class=\"dataframe\">\n",
       "  <thead>\n",
       "    <tr style=\"text-align: right;\">\n",
       "      <th></th>\n",
       "      <th>country</th>\n",
       "      <th>gap</th>\n",
       "      <th>year</th>\n",
       "      <th>lifeExp</th>\n",
       "    </tr>\n",
       "  </thead>\n",
       "  <tbody>\n",
       "    <tr>\n",
       "      <th>0</th>\n",
       "      <td>Oman</td>\n",
       "      <td>28.652</td>\n",
       "      <td>1967</td>\n",
       "      <td>46.988</td>\n",
       "    </tr>\n",
       "    <tr>\n",
       "      <th>1</th>\n",
       "      <td>Vietnam</td>\n",
       "      <td>26.411</td>\n",
       "      <td>1967</td>\n",
       "      <td>47.838</td>\n",
       "    </tr>\n",
       "    <tr>\n",
       "      <th>2</th>\n",
       "      <td>Yemen, Rep.</td>\n",
       "      <td>25.714</td>\n",
       "      <td>1967</td>\n",
       "      <td>36.984</td>\n",
       "    </tr>\n",
       "    <tr>\n",
       "      <th>3</th>\n",
       "      <td>Indonesia</td>\n",
       "      <td>24.686</td>\n",
       "      <td>1967</td>\n",
       "      <td>45.964</td>\n",
       "    </tr>\n",
       "    <tr>\n",
       "      <th>4</th>\n",
       "      <td>Libya</td>\n",
       "      <td>23.725</td>\n",
       "      <td>1967</td>\n",
       "      <td>50.227</td>\n",
       "    </tr>\n",
       "    <tr>\n",
       "      <th>5</th>\n",
       "      <td>Oman</td>\n",
       "      <td>28.652</td>\n",
       "      <td>2007</td>\n",
       "      <td>75.640</td>\n",
       "    </tr>\n",
       "    <tr>\n",
       "      <th>6</th>\n",
       "      <td>Vietnam</td>\n",
       "      <td>26.411</td>\n",
       "      <td>2007</td>\n",
       "      <td>74.249</td>\n",
       "    </tr>\n",
       "    <tr>\n",
       "      <th>7</th>\n",
       "      <td>Yemen, Rep.</td>\n",
       "      <td>25.714</td>\n",
       "      <td>2007</td>\n",
       "      <td>62.698</td>\n",
       "    </tr>\n",
       "    <tr>\n",
       "      <th>8</th>\n",
       "      <td>Indonesia</td>\n",
       "      <td>24.686</td>\n",
       "      <td>2007</td>\n",
       "      <td>70.650</td>\n",
       "    </tr>\n",
       "    <tr>\n",
       "      <th>9</th>\n",
       "      <td>Libya</td>\n",
       "      <td>23.725</td>\n",
       "      <td>2007</td>\n",
       "      <td>73.952</td>\n",
       "    </tr>\n",
       "  </tbody>\n",
       "</table>\n",
       "</div>"
      ],
      "text/plain": [
       "       country     gap  year  lifeExp\n",
       "0         Oman  28.652  1967   46.988\n",
       "1      Vietnam  26.411  1967   47.838\n",
       "2  Yemen, Rep.  25.714  1967   36.984\n",
       "3    Indonesia  24.686  1967   45.964\n",
       "4        Libya  23.725  1967   50.227\n",
       "5         Oman  28.652  2007   75.640\n",
       "6      Vietnam  26.411  2007   74.249\n",
       "7  Yemen, Rep.  25.714  2007   62.698\n",
       "8    Indonesia  24.686  2007   70.650\n",
       "9        Libya  23.725  2007   73.952"
      ]
     },
     "execution_count": 20,
     "metadata": {},
     "output_type": "execute_result"
    }
   ],
   "source": [
    "# hide\n",
    "grouped_bar_df = (\n",
    "    gapminder[[\n",
    "        'country', 'year', 'lifeExp'\n",
    "    ]].query(' year == 1967 | year == 2007 ')\n",
    "    .pivot_table(\n",
    "        index=['country'], columns='year',\n",
    "        values='lifeExp')\n",
    "    .assign(gap=lambda x: x[2007] - x[1967])\n",
    "    .nlargest(5, 'gap')\n",
    "    .reset_index()\n",
    "    .melt(value_vars=[1967, 2007],\n",
    "          id_vars=['country', 'gap'],\n",
    "      value_name='lifeExp')\n",
    ")\n",
    "\n",
    "grouped_bar_df"
   ]
  },
  {
   "cell_type": "markdown",
   "metadata": {
    "heading_collapsed": true
   },
   "source": [
    "## ggplot\n",
    "```r\n",
    "#Prepare data\n",
    "grouped_bar_df <- gapminder %>%\n",
    "  filter(year == 1967 | year == 2007) %>%\n",
    "  select(country, year, lifeExp) %>%\n",
    "  spread(year, lifeExp) %>%\n",
    "  mutate(gap = `2007` - `1967`) %>%\n",
    "  arrange(desc(gap)) %>%\n",
    "  head(5) %>%\n",
    "  gather(key = year, \n",
    "         value = lifeExp,\n",
    "         -country,\n",
    "         -gap) \n",
    "  \n",
    "#Make plot\n",
    "grouped_bars <- ggplot(grouped_bar_df, \n",
    "                       aes(x = country, \n",
    "                           y = lifeExp, \n",
    "                           fill = as.factor(year))) +\n",
    "  geom_bar(stat=\"identity\", position=\"dodge\") +\n",
    "  geom_hline(yintercept = 0, size = 1, colour=\"#333333\") +\n",
    "  bbc_style() +\n",
    "  scale_fill_manual(values = c(\"#1380A1\", \"#FAAB18\")) +\n",
    "  labs(title=\"We're living longer\",\n",
    "       subtitle = \"Biggest life expectancy rise, 1967-2007\")\n",
    "```"
   ]
  },
  {
   "cell_type": "markdown",
   "metadata": {},
   "source": [
    "## plotnine"
   ]
  },
  {
   "cell_type": "code",
   "execution_count": 21,
   "metadata": {
    "ExecuteTime": {
     "end_time": "2020-04-21T09:47:40.739893Z",
     "start_time": "2020-04-21T09:47:40.458648Z"
    }
   },
   "outputs": [
    {
     "data": {
      "image/png": "[encoded data removed]",
      "text/plain": [
       "<Figure size 640x480 with 1 Axes>"
      ]
     },
     "metadata": {},
     "output_type": "display_data"
    },
    {
     "data": {
      "text/plain": [
       "<ggplot: (-9223371941310352504)>"
      ]
     },
     "execution_count": 21,
     "metadata": {},
     "output_type": "execute_result"
    }
   ],
   "source": [
    "# Make plot\n",
    "grouped_bars_ggplot = (ggplot(grouped_bar_df,\n",
    "                       aes(x='country',\n",
    "                           y='lifeExp',\n",
    "                           fill='year')) +\n",
    "                geom_bar(stat=\"identity\", position=\"dodge\") +\n",
    "                geom_hline(yintercept=0, size=1, colour=\"#333333\") +\n",
    "#                 bbc_style() +\n",
    "                scale_fill_manual(values=(\"#1380A1\", \"#FAAB18\")) +\n",
    "                labs(title=\"We're living longer\",\n",
    "                     subtitle=\"Biggest life expectancy rise, 1967-2007\"))\n",
    "\n",
    "grouped_bars_ggplot"
   ]
  },
  {
   "cell_type": "markdown",
   "metadata": {},
   "source": [
    "## altair"
   ]
  },
  {
   "cell_type": "code",
   "execution_count": 22,
   "metadata": {
    "ExecuteTime": {
     "end_time": "2020-04-21T09:47:41.203650Z",
     "start_time": "2020-04-21T09:47:41.180711Z"
    }
   },
   "outputs": [
    {
     "data": {
      "text/html": [
       "\n",
       "<div id=\"altair-viz-529c3d6b33d24d93bd75a5a9cf89b58d\"></div>\n",
       "<script type=\"text/javascript\">\n",
       "  (function(spec, embedOpt){\n",
       "    let outputDiv = document.currentScript.previousElementSibling;\n",
       "    if (outputDiv.id !== \"altair-viz-529c3d6b33d24d93bd75a5a9cf89b58d\") {\n",
       "      outputDiv = document.getElementById(\"altair-viz-529c3d6b33d24d93bd75a5a9cf89b58d\");\n",
       "    }\n",
       "    const paths = {\n",
       "      \"vega\": \"https://cdn.jsdelivr.net/npm//vega@5?noext\",\n",
       "      \"vega-lib\": \"https://cdn.jsdelivr.net/npm//vega-lib?noext\",\n",
       "      \"vega-lite\": \"https://cdn.jsdelivr.net/npm//vega-lite@4.8.1?noext\",\n",
       "      \"vega-embed\": \"https://cdn.jsdelivr.net/npm//vega-embed@6?noext\",\n",
       "    };\n",
       "\n",
       "    function loadScript(lib) {\n",
       "      return new Promise(function(resolve, reject) {\n",
       "        var s = document.createElement('script');\n",
       "        s.src = paths[lib];\n",
       "        s.async = true;\n",
       "        s.onload = () => resolve(paths[lib]);\n",
       "        s.onerror = () => reject(`Error loading script: ${paths[lib]}`);\n",
       "        document.getElementsByTagName(\"head\")[0].appendChild(s);\n",
       "      });\n",
       "    }\n",
       "\n",
       "    function showError(err) {\n",
       "      outputDiv.innerHTML = `<div class=\"error\" style=\"color:red;\">${err}</div>`;\n",
       "      throw err;\n",
       "    }\n",
       "\n",
       "    function displayChart(vegaEmbed) {\n",
       "      vegaEmbed(outputDiv, spec, embedOpt)\n",
       "        .catch(err => showError(`Javascript Error: ${err.message}<br>This usually means there's a typo in your chart specification. See the javascript console for the full traceback.`));\n",
       "    }\n",
       "\n",
       "    if(typeof define === \"function\" && define.amd) {\n",
       "      requirejs.config({paths});\n",
       "      require([\"vega-embed\"], displayChart, err => showError(`Error loading script: ${err.message}`));\n",
       "    } else if (typeof vegaEmbed === \"function\") {\n",
       "      displayChart(vegaEmbed);\n",
       "    } else {\n",
       "      loadScript(\"vega\")\n",
       "        .then(() => loadScript(\"vega-lite\"))\n",
       "        .then(() => loadScript(\"vega-embed\"))\n",
       "        .catch(showError)\n",
       "        .then(() => displayChart(vegaEmbed));\n",
       "    }\n",
       "  })({\"config\": {\"view\": {\"continuousWidth\": 400, \"continuousHeight\": 300}}, \"data\": {\"name\": \"data-23e0747d191a42a58e9c5764138c1bc9\"}, \"mark\": \"bar\", \"encoding\": {\"color\": {\"type\": \"nominal\", \"field\": \"year\", \"scale\": {\"range\": [\"#1380A1\", \"#FAAB18\"]}}, \"column\": {\"type\": \"nominal\", \"field\": \"country\"}, \"x\": {\"type\": \"nominal\", \"field\": \"year\"}, \"y\": {\"type\": \"quantitative\", \"field\": \"lifeExp\"}}, \"title\": {\"text\": \"We're living longe\", \"subtitle\": \"Biggest life expectancy rise, 1967-2007\"}, \"$schema\": \"https://vega.github.io/schema/vega-lite/v4.8.1.json\", \"datasets\": {\"data-23e0747d191a42a58e9c5764138c1bc9\": [{\"country\": \"Oman\", \"gap\": 28.652, \"year\": 1967, \"lifeExp\": 46.988}, {\"country\": \"Vietnam\", \"gap\": 26.410999999999994, \"year\": 1967, \"lifeExp\": 47.838}, {\"country\": \"Yemen, Rep.\", \"gap\": 25.714, \"year\": 1967, \"lifeExp\": 36.984}, {\"country\": \"Indonesia\", \"gap\": 24.686000000000007, \"year\": 1967, \"lifeExp\": 45.964}, {\"country\": \"Libya\", \"gap\": 23.725, \"year\": 1967, \"lifeExp\": 50.227}, {\"country\": \"Oman\", \"gap\": 28.652, \"year\": 2007, \"lifeExp\": 75.64}, {\"country\": \"Vietnam\", \"gap\": 26.410999999999994, \"year\": 2007, \"lifeExp\": 74.249}, {\"country\": \"Yemen, Rep.\", \"gap\": 25.714, \"year\": 2007, \"lifeExp\": 62.698}, {\"country\": \"Indonesia\", \"gap\": 24.686000000000007, \"year\": 2007, \"lifeExp\": 70.65}, {\"country\": \"Libya\", \"gap\": 23.725, \"year\": 2007, \"lifeExp\": 73.952}]}}, {\"mode\": \"vega-lite\"});\n",
       "</script>"
      ],
      "text/plain": [
       "alt.Chart(...)"
      ]
     },
     "execution_count": 22,
     "metadata": {},
     "output_type": "execute_result"
    }
   ],
   "source": [
    "grouped_bars_altair = (\n",
    "    alt.Chart(grouped_bar_df)\n",
    "    .mark_bar()\n",
    "    .encode(x='year:N',\n",
    "            y='lifeExp',\n",
    "color=alt.Color('year:N', scale=alt.Scale(range=[\"#1380A1\", \"#FAAB18\"])),\n",
    "           column='country:N')\n",
    "    .properties(title={'text': \"We're living longe\",\n",
    "                       'subtitle': 'Biggest life expectancy rise, 1967-2007'}\n",
    "                )\n",
    ")\n",
    "\n",
    "grouped_bars_altair"
   ]
  },
  {
   "cell_type": "markdown",
   "metadata": {},
   "source": [
    "# Make changes to the legend"
   ]
  },
  {
   "cell_type": "code",
   "execution_count": 23,
   "metadata": {
    "ExecuteTime": {
     "end_time": "2020-04-21T09:47:41.907762Z",
     "start_time": "2020-04-21T09:47:41.903773Z"
    }
   },
   "outputs": [],
   "source": [
    "## hide"
   ]
  },
  {
   "cell_type": "markdown",
   "metadata": {},
   "source": [
    "## plotnine"
   ]
  },
  {
   "cell_type": "code",
   "execution_count": 28,
   "metadata": {
    "ExecuteTime": {
     "end_time": "2020-04-21T09:49:11.071229Z",
     "start_time": "2020-04-21T09:49:10.795949Z"
    }
   },
   "outputs": [
    {
     "data": {
      "image/png": "[encoded data removed]",
      "text/plain": [
       "<Figure size 640x480 with 1 Axes>"
      ]
     },
     "metadata": {},
     "output_type": "display_data"
    },
    {
     "data": {
      "text/plain": [
       "<ggplot: (-9223371941310211164)>"
      ]
     },
     "execution_count": 28,
     "metadata": {},
     "output_type": "execute_result"
    }
   ],
   "source": [
    "# Remove the Legend\n",
    "multiline + guides(colour=False)"
   ]
  },
  {
   "cell_type": "code",
   "execution_count": 33,
   "metadata": {
    "ExecuteTime": {
     "end_time": "2020-04-21T09:51:28.929953Z",
     "start_time": "2020-04-21T09:51:28.648708Z"
    }
   },
   "outputs": [
    {
     "data": {
      "image/png": "[encoded data removed]",
      "text/plain": [
       "<Figure size 640x480 with 1 Axes>"
      ]
     },
     "metadata": {},
     "output_type": "display_data"
    },
    {
     "data": {
      "text/plain": [
       "<ggplot: (-9223371941308840576)>"
      ]
     },
     "execution_count": 33,
     "metadata": {},
     "output_type": "execute_result"
    }
   ],
   "source": [
    "multiline + theme(legend_position = \"none\")"
   ]
  },
  {
   "cell_type": "code",
   "execution_count": 43,
   "metadata": {
    "ExecuteTime": {
     "end_time": "2020-04-22T06:02:24.449547Z",
     "start_time": "2020-04-22T06:02:24.434586Z"
    }
   },
   "outputs": [
    {
     "ename": "ImportError",
     "evalue": "cannot import name 'unit' from 'plotnine' (C:\\Users\\CHANNO.OOCLDM\\AppData\\Local\\Continuum\\anaconda3\\lib\\site-packages\\plotnine\\__init__.py)",
     "output_type": "error",
     "traceback": [
      "\u001b[1;31m-------------------------\u001b[0m",
      "\u001b[1;31mImportError\u001b[0mTraceback (most recent call last)",
      "\u001b[1;32m<ipython-input-43-628fddfc6297>\u001b[0m in \u001b[0;36m<module>\u001b[1;34m\u001b[0m\n\u001b[1;32m----> 1\u001b[1;33m \u001b[1;32mfrom\u001b[0m \u001b[0mplotnine\u001b[0m \u001b[1;32mimport\u001b[0m \u001b[0munit\u001b[0m\u001b[1;33m\u001b[0m\u001b[1;33m\u001b[0m\u001b[0m\n\u001b[0m",
      "\u001b[1;31mImportError\u001b[0m: cannot import name 'unit' from 'plotnine' (C:\\Users\\CHANNO.OOCLDM\\AppData\\Local\\Continuum\\anaconda3\\lib\\site-packages\\plotnine\\__init__.py)"
     ]
    }
   ],
   "source": [
    "from plotnine import unit"
   ]
  },
  {
   "cell_type": "code",
   "execution_count": 51,
   "metadata": {
    "ExecuteTime": {
     "end_time": "2020-04-22T06:05:50.146757Z",
     "start_time": "2020-04-22T06:05:49.876480Z"
    }
   },
   "outputs": [
    {
     "data": {
      "image/png": "[encoded data removed]",
      "text/plain": [
       "<Figure size 640x480 with 1 Axes>"
      ]
     },
     "metadata": {},
     "output_type": "display_data"
    },
    {
     "data": {
      "text/plain": [
       "<ggplot: (-9223371941310025320)>"
      ]
     },
     "execution_count": 51,
     "metadata": {},
     "output_type": "execute_result"
    }
   ],
   "source": [
    "# Change position of the legend\n",
    "x=multiline + theme(\n",
    "  axis_ticks_major_x = element_line(color = \"#333333\"), \n",
    "  axis_ticks_length =  0.26)\n",
    "\n",
    "x"
   ]
  },
  {
   "cell_type": "markdown",
   "metadata": {},
   "source": [
    "## altair"
   ]
  },
  {
   "cell_type": "code",
   "execution_count": null,
   "metadata": {},
   "outputs": [],
   "source": []
  },
  {
   "cell_type": "markdown",
   "metadata": {},
   "source": [
    "# Make changes to the axes"
   ]
  },
  {
   "cell_type": "code",
   "execution_count": 72,
   "metadata": {},
   "outputs": [],
   "source": [
    "## hide"
   ]
  },
  {
   "cell_type": "markdown",
   "metadata": {},
   "source": [
    "## ggplot\n",
    "```r\n",
    "\n",
    "```"
   ]
  },
  {
   "cell_type": "markdown",
   "metadata": {},
   "source": [
    "## plotnine"
   ]
  },
  {
   "cell_type": "markdown",
   "metadata": {},
   "source": [
    "## altair"
   ]
  },
  {
   "cell_type": "code",
   "execution_count": null,
   "metadata": {},
   "outputs": [],
   "source": []
  },
  {
   "cell_type": "markdown",
   "metadata": {},
   "source": [
    "# Add annotations"
   ]
  },
  {
   "cell_type": "code",
   "execution_count": 73,
   "metadata": {},
   "outputs": [],
   "source": [
    "## hide"
   ]
  },
  {
   "cell_type": "markdown",
   "metadata": {},
   "source": [
    "## ggplot\n",
    "```r\n",
    "\n",
    "```"
   ]
  },
  {
   "cell_type": "markdown",
   "metadata": {},
   "source": [
    "## plotnine"
   ]
  },
  {
   "cell_type": "markdown",
   "metadata": {},
   "source": [
    "## altair"
   ]
  },
  {
   "cell_type": "code",
   "execution_count": null,
   "metadata": {},
   "outputs": [],
   "source": []
  },
  {
   "cell_type": "markdown",
   "metadata": {},
   "source": [
    "# Work with small multiples"
   ]
  },
  {
   "cell_type": "code",
   "execution_count": 74,
   "metadata": {},
   "outputs": [],
   "source": [
    "## hide"
   ]
  },
  {
   "cell_type": "markdown",
   "metadata": {},
   "source": [
    "## ggplot\n",
    "```r\n",
    "\n",
    "```"
   ]
  },
  {
   "cell_type": "markdown",
   "metadata": {},
   "source": [
    "## plotnine"
   ]
  },
  {
   "cell_type": "markdown",
   "metadata": {},
   "source": [
    "## altair"
   ]
  },
  {
   "cell_type": "code",
   "execution_count": null,
   "metadata": {},
   "outputs": [],
   "source": []
  },
  {
   "cell_type": "markdown",
   "metadata": {},
   "source": [
    "# Do something else entirely"
   ]
  },
  {
   "cell_type": "code",
   "execution_count": 75,
   "metadata": {},
   "outputs": [],
   "source": [
    "## hide"
   ]
  },
  {
   "cell_type": "markdown",
   "metadata": {},
   "source": [
    "## ggplot\n",
    "```r\n",
    "\n",
    "```"
   ]
  },
  {
   "cell_type": "markdown",
   "metadata": {},
   "source": [
    "## plotnine"
   ]
  },
  {
   "cell_type": "markdown",
   "metadata": {},
   "source": [
    "## altair"
   ]
  },
  {
   "cell_type": "markdown",
   "metadata": {},
   "source": [
    "# Make a dumbbell chart"
   ]
  },
  {
   "cell_type": "code",
   "execution_count": 133,
   "metadata": {},
   "outputs": [
    {
     "data": {
      "text/html": [
       "<div>\n",
       "<style scoped>\n",
       "    .dataframe tbody tr th:only-of-type {\n",
       "        vertical-align: middle;\n",
       "    }\n",
       "\n",
       "    .dataframe tbody tr th {\n",
       "        vertical-align: top;\n",
       "    }\n",
       "\n",
       "    .dataframe thead th {\n",
       "        text-align: right;\n",
       "    }\n",
       "</style>\n",
       "<table border=\"1\" class=\"dataframe\">\n",
       "  <thead>\n",
       "    <tr style=\"text-align: right;\">\n",
       "      <th>year</th>\n",
       "      <th>1967</th>\n",
       "      <th>2007</th>\n",
       "      <th>gap</th>\n",
       "    </tr>\n",
       "    <tr>\n",
       "      <th>country</th>\n",
       "      <th></th>\n",
       "      <th></th>\n",
       "      <th></th>\n",
       "    </tr>\n",
       "  </thead>\n",
       "  <tbody>\n",
       "    <tr>\n",
       "      <td>Oman</td>\n",
       "      <td>46.988</td>\n",
       "      <td>75.640</td>\n",
       "      <td>28.652</td>\n",
       "    </tr>\n",
       "    <tr>\n",
       "      <td>Vietnam</td>\n",
       "      <td>47.838</td>\n",
       "      <td>74.249</td>\n",
       "      <td>26.411</td>\n",
       "    </tr>\n",
       "    <tr>\n",
       "      <td>Yemen, Rep.</td>\n",
       "      <td>36.984</td>\n",
       "      <td>62.698</td>\n",
       "      <td>25.714</td>\n",
       "    </tr>\n",
       "    <tr>\n",
       "      <td>Indonesia</td>\n",
       "      <td>45.964</td>\n",
       "      <td>70.650</td>\n",
       "      <td>24.686</td>\n",
       "    </tr>\n",
       "    <tr>\n",
       "      <td>Libya</td>\n",
       "      <td>50.227</td>\n",
       "      <td>73.952</td>\n",
       "      <td>23.725</td>\n",
       "    </tr>\n",
       "    <tr>\n",
       "      <td>Gambia</td>\n",
       "      <td>35.857</td>\n",
       "      <td>59.448</td>\n",
       "      <td>23.591</td>\n",
       "    </tr>\n",
       "    <tr>\n",
       "      <td>Saudi Arabia</td>\n",
       "      <td>49.901</td>\n",
       "      <td>72.777</td>\n",
       "      <td>22.876</td>\n",
       "    </tr>\n",
       "    <tr>\n",
       "      <td>Nepal</td>\n",
       "      <td>41.472</td>\n",
       "      <td>63.785</td>\n",
       "      <td>22.313</td>\n",
       "    </tr>\n",
       "    <tr>\n",
       "      <td>Egypt</td>\n",
       "      <td>49.293</td>\n",
       "      <td>71.338</td>\n",
       "      <td>22.045</td>\n",
       "    </tr>\n",
       "    <tr>\n",
       "      <td>Tunisia</td>\n",
       "      <td>52.053</td>\n",
       "      <td>73.923</td>\n",
       "      <td>21.870</td>\n",
       "    </tr>\n",
       "  </tbody>\n",
       "</table>\n",
       "</div>"
      ],
      "text/plain": [
       "year            1967    2007     gap\n",
       "country                             \n",
       "Oman          46.988  75.640  28.652\n",
       "Vietnam       47.838  74.249  26.411\n",
       "Yemen, Rep.   36.984  62.698  25.714\n",
       "Indonesia     45.964  70.650  24.686\n",
       "Libya         50.227  73.952  23.725\n",
       "Gambia        35.857  59.448  23.591\n",
       "Saudi Arabia  49.901  72.777  22.876\n",
       "Nepal         41.472  63.785  22.313\n",
       "Egypt         49.293  71.338  22.045\n",
       "Tunisia       52.053  73.923  21.870"
      ]
     },
     "execution_count": 133,
     "metadata": {},
     "output_type": "execute_result"
    }
   ],
   "source": [
    "# hide\n",
    "dumbbell_chart_df = (\n",
    "    gapminder[[\n",
    "        'country', 'year', 'lifeExp'\n",
    "    ]].query(' year == 1967 | year == 2007 ')\n",
    "    .pivot_table(\n",
    "        index=['country'], columns='year',\n",
    "        values='lifeExp')\n",
    "    .assign(gap=lambda x: x[2007] - x[1967])\n",
    "    .nlargest(10, 'gap')\n",
    ")\n",
    "\n",
    "dumbbell_chart_df"
   ]
  },
  {
   "cell_type": "markdown",
   "metadata": {},
   "source": [
    "## ggplot\n",
    "```r\n",
    "#Prepare data\n",
    "dumbbell_df <- gapminder %>%\n",
    "  filter(year == 1967 | year == 2007) %>%\n",
    "  select(country, year, lifeExp) %>%\n",
    "  spread(year, lifeExp) %>%\n",
    "  mutate(gap = `2007` - `1967`) %>%\n",
    "  arrange(desc(gap)) %>%\n",
    "  head(10)\n",
    "\n",
    "ggplot(hist_df, aes(lifeExp)) +\n",
    "  geom_histogram(binwidth = 5, colour = \"white\", fill = \"#1380A1\") +\n",
    "  geom_hline(yintercept = 0, size = 1, colour=\"#333333\") +\n",
    "  bbc_style() +\n",
    "  scale_x_continuous(limits = c(35, 95),\n",
    "                     breaks = seq(40, 90, by = 10),\n",
    "                     labels = c(\"40\", \"50\", \"60\", \"70\", \"80\", \"90 years\")) +\n",
    "  labs(title = \"How life expectancy varies\",\n",
    "       subtitle = \"Distribution of life expectancy in 2007\")\n",
    "```"
   ]
  },
  {
   "cell_type": "markdown",
   "metadata": {},
   "source": [
    "## plotnine"
   ]
  },
  {
   "cell_type": "markdown",
   "metadata": {},
   "source": [
    "Not available with `plotnine`."
   ]
  },
  {
   "cell_type": "markdown",
   "metadata": {},
   "source": [
    "## altair"
   ]
  },
  {
   "cell_type": "code",
   "execution_count": 139,
   "metadata": {},
   "outputs": [
    {
     "data": {
      "text/plain": [
       "()"
      ]
     },
     "execution_count": 139,
     "metadata": {},
     "output_type": "execute_result"
    }
   ],
   "source": [
    "dumbbell_chart_altair = (\n",
    "alt.Chart(dumbbell_chart_df).\n",
    "    mark_rule()\n",
    ")\n",
    "\n",
    "dumbbell_chart_altair"
   ]
  }
 ],
 "metadata": {
  "kernelspec": {
   "display_name": "Python 3",
   "language": "python",
   "name": "python3"
  },
  "language_info": {
   "codemirror_mode": {
    "name": "ipython",
    "version": 3
   },
   "file_extension": ".py",
   "mimetype": "text/x-python",
   "name": "python",
   "nbconvert_exporter": "python",
   "pygments_lexer": "ipython3",
   "version": "3.7.4"
  },
  "toc": {
   "base_numbering": 1,
   "nav_menu": {},
   "number_sections": true,
   "sideBar": true,
   "skip_h1_title": false,
   "title_cell": "Table of Contents",
   "title_sidebar": "Contents",
   "toc_cell": false,
   "toc_position": {
    "height": "calc(100% - 180px)",
    "left": "10px",
    "top": "150px",
    "width": "322.188px"
   },
   "toc_section_display": true,
   "toc_window_display": true
  },
  "varInspector": {
   "cols": {
    "lenName": 16,
    "lenType": 16,
    "lenVar": 40
   },
   "kernels_config": {
    "python": {
     "delete_cmd_postfix": "",
     "delete_cmd_prefix": "del ",
     "library": "var_list.py",
     "varRefreshCmd": "print(var_dic_list())"
    },
    "r": {
     "delete_cmd_postfix": ") ",
     "delete_cmd_prefix": "rm(",
     "library": "var_list.r",
     "varRefreshCmd": "cat(var_dic_list()) "
    }
   },
   "types_to_exclude": [
    "module",
    "function",
    "builtin_function_or_method",
    "instance",
    "_Feature"
   ],
   "window_display": false
  }
 },
 "nbformat": 4,
 "nbformat_minor": 2
}
